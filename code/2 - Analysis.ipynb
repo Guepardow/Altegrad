{
 "cells": [
  {
   "cell_type": "markdown",
   "metadata": {},
   "source": [
    "<h1> Advanced Learning for Text and Graph Data </h1>\n",
    "<b> Université Paris-Saclay - Master M2 Data Science - February/March 2017</b> <br>\n",
    "<i> Students : Peter Martigny & Mehdi Miah </i> <br>\n",
    "\n",
    "# Second part  : analyze the data"
   ]
  },
  {
   "cell_type": "markdown",
   "metadata": {},
   "source": [
    "## Open the data"
   ]
  },
  {
   "cell_type": "code",
   "execution_count": 1,
   "metadata": {
    "collapsed": false
   },
   "outputs": [
    {
     "name": "stderr",
     "output_type": "stream",
     "text": [
      "C:\\Users\\Mehdi\\Annexes\\PythonENSAE_v2\\python\\lib\\site-packages\\matplotlib\\__init__.py:872: UserWarning: axes.color_cycle is deprecated and replaced with axes.prop_cycle; please use the latter.\n",
      "  warnings.warn(self.msg_depr % (key, alt_key))\n"
     ]
    }
   ],
   "source": [
    "#import\n",
    "import numpy as np\n",
    "import pandas as pd\n",
    "from handy_structures import * #own functions\n",
    "import matplotlib.pyplot as plt\n",
    "%matplotlib inline\n",
    "import seaborn as sns\n",
    "\n",
    "#path to data and results\n",
    "path_to_data = \"../data/\"\n",
    "path_to_results = \"../results/\"\n",
    "\n",
    "#open files\n",
    "#original data\n",
    "training_set = pd.read_csv(path_to_data + 'training_set.csv')\n",
    "training_info = pd.read_csv(path_to_data + 'training_info.csv', \n",
    "                            dtype = {'mid': object, 'date': object, 'body': object, 'recipients' : object})\n",
    "test_set = pd.read_csv(path_to_data + 'test_set.csv')\n",
    "test_info = pd.read_csv(path_to_data + 'test_info.csv',\n",
    "                        dtype = {'mid': object, 'date': object, 'body': object})\n",
    "\n",
    "#dataframe with all data\n",
    "training_df = pd.read_csv(path_to_results + 'training_df.csv',\n",
    "                          dtype = {'mid': object, 'sender': object, 'date': object, 'body': object,\n",
    "                                  'body_rt': object, 'body_rf': object, 'clean_body': object, 'recipients' : object})\n",
    "test_df = pd.read_csv(path_to_results + 'test_df.csv',\n",
    "                          dtype = {'mid': object, 'sender': object, 'date': object, 'body': object, \n",
    "                                  'body_rt': object, 'body_rf': object, 'clean_body': object})"
   ]
  },
  {
   "cell_type": "markdown",
   "metadata": {},
   "source": [
    "## Dimensions of the problems"
   ]
  },
  {
   "cell_type": "markdown",
   "metadata": {},
   "source": [
    "### Number of emails"
   ]
  },
  {
   "cell_type": "code",
   "execution_count": 2,
   "metadata": {
    "collapsed": false
   },
   "outputs": [
    {
     "name": "stdout",
     "output_type": "stream",
     "text": [
      "There are 43613 different emails in the training dataset.\n",
      "There are 2362 different emails in the test dataset.\n"
     ]
    }
   ],
   "source": [
    "# Training set\n",
    "n_mails_training = training_df.shape[0]\n",
    "print('There are', n_mails_training, 'different emails in the training dataset.')\n",
    "\n",
    "# Test set\n",
    "n_mails_test = test_df.shape[0]\n",
    "print('There are', n_mails_test, 'different emails in the test dataset.')"
   ]
  },
  {
   "cell_type": "markdown",
   "metadata": {},
   "source": [
    "### Number of unique senders"
   ]
  },
  {
   "cell_type": "code",
   "execution_count": 3,
   "metadata": {
    "collapsed": false
   },
   "outputs": [
    {
     "name": "stdout",
     "output_type": "stream",
     "text": [
      "There are 125 different senders in the training dataset.\n",
      "There are 125 different senders in the test dataset.\n"
     ]
    }
   ],
   "source": [
    "# Training set\n",
    "n_senders_training = len(training_df['sender'].unique())\n",
    "print('There are', n_senders_training, 'different senders in the training dataset.')\n",
    "\n",
    "# Test set\n",
    "n_senders_test = len(test_df['sender'].unique())\n",
    "print('There are', n_senders_test, 'different senders in the test dataset.')"
   ]
  },
  {
   "cell_type": "markdown",
   "metadata": {},
   "source": [
    "Fortunately, every sender in the test dataset is in the train dataset."
   ]
  },
  {
   "cell_type": "markdown",
   "metadata": {},
   "source": [
    "### Number of unique recipients"
   ]
  },
  {
   "cell_type": "code",
   "execution_count": 4,
   "metadata": {
    "collapsed": false
   },
   "outputs": [
    {
     "name": "stdout",
     "output_type": "stream",
     "text": [
      "There are 9871 different recipients in the training dataset.\n"
     ]
    }
   ],
   "source": [
    "#Training set\n",
    "list_recipients = []\n",
    "\n",
    "for row in range(training_df.shape[0]):\n",
    "    list_recipients.extend(training_df['recipients'][row].split(' '))\n",
    "    \n",
    "n_recipients_training = len(np.unique(list_recipients))\n",
    "print('There are', n_recipients_training, 'different recipients in the training dataset.')\n",
    "\n",
    "#Test set\n",
    "# we have to find them =)"
   ]
  },
  {
   "cell_type": "markdown",
   "metadata": {},
   "source": [
    "We can notice than there are 80 times more recipients than senders ! "
   ]
  },
  {
   "cell_type": "markdown",
   "metadata": {},
   "source": [
    "## Distribution of number of mails sent by individual"
   ]
  },
  {
   "cell_type": "code",
   "execution_count": 5,
   "metadata": {
    "collapsed": false
   },
   "outputs": [
    {
     "name": "stderr",
     "output_type": "stream",
     "text": [
      "                                                                               \r"
     ]
    }
   ],
   "source": [
    "address_books = get_address_books(training_info, training_set)"
   ]
  },
  {
   "cell_type": "code",
   "execution_count": 6,
   "metadata": {
    "collapsed": true
   },
   "outputs": [],
   "source": [
    "n_emails_per_sender_training = {} #create a new dictionnary\n",
    "for index, series in training_set.iterrows(): #series contains senders and mids\n",
    "    #for each instance:\n",
    "    row = series.tolist() #we get a list of with the sender at position 0 and each of ones mails\n",
    "    sender = row[0] #this is the sender\n",
    "    ids = row[1:][0].split(' ') #we get a list with all the mids\n",
    "    n_emails_per_sender_training[sender] = len(ids) #we add them in the dictionnary\n",
    "    \n",
    "#We sort it in order to make the plot easier later    \n",
    "n_emails_per_sender_training = sorted(n_emails_per_sender_training.values())"
   ]
  },
  {
   "cell_type": "code",
   "execution_count": 7,
   "metadata": {
    "collapsed": false
   },
   "outputs": [
    {
     "data": {
      "text/plain": [
       "True"
      ]
     },
     "execution_count": 7,
     "metadata": {},
     "output_type": "execute_result"
    }
   ],
   "source": [
    "# Sanity test\n",
    "np.sum(n_emails_per_sender_training) == training_info.shape[0]"
   ]
  },
  {
   "cell_type": "code",
   "execution_count": 8,
   "metadata": {
    "collapsed": false
   },
   "outputs": [
    {
     "data": {
      "text/plain": [
       "<matplotlib.text.Text at 0x6e4c320>"
      ]
     },
     "execution_count": 8,
     "metadata": {},
     "output_type": "execute_result"
    },
    {
     "data": {
      "image/png": "[encoded data removed]",
      "text/plain": [
       "<matplotlib.figure.Figure at 0x1ad85470>"
      ]
     },
     "metadata": {},
     "output_type": "display_data"
    }
   ],
   "source": [
    "plt.figure(figsize=(15.0, 4.0))\n",
    "\n",
    "plt.subplot(1, 2, 1)\n",
    "plt.hist(n_emails_per_sender_training)\n",
    "plt.title('Histogram of the number of emails sent by individual')\n",
    "\n",
    "plt.subplot(1, 2, 2)\n",
    "plt.hist(n_emails_per_sender_training[:round(0.8*n_senders_training)])\n",
    "plt.title('Histogram of 80% of the lowest number of emails sent by individual')\n"
   ]
  },
  {
   "cell_type": "code",
   "execution_count": 9,
   "metadata": {
    "collapsed": false
   },
   "outputs": [
    {
     "name": "stdout",
     "output_type": "stream",
     "text": [
      "The mean of this distribution is 348.904\n",
      "The median of this distribution is 168.0\n"
     ]
    }
   ],
   "source": [
    "#Some statistics on that distribution\n",
    "\n",
    "mean_n_emails_per_sender_training = np.mean(n_emails_per_sender_training)\n",
    "print('The mean of this distribution is', mean_n_emails_per_sender_training)\n",
    "\n",
    "median_n_emails_per_sender_training = np.median(n_emails_per_sender_training)\n",
    "print('The median of this distribution is', median_n_emails_per_sender_training)\n"
   ]
  },
  {
   "cell_type": "markdown",
   "metadata": {},
   "source": [
    "So, this a positive skewed distribution."
   ]
  },
  {
   "cell_type": "markdown",
   "metadata": {},
   "source": [
    "## How many times do they send an email to someone ?"
   ]
  },
  {
   "cell_type": "code",
   "execution_count": 10,
   "metadata": {
    "collapsed": false
   },
   "outputs": [],
   "source": [
    "#Count the number of mails sent to an employe\n",
    "n_mails_sent_to_someone=[]\n",
    "for sender, value in address_books.items(): #for each sender\n",
    "    for rec in value: #for each recipient\n",
    "        res = rec[1] #the number of email sent by 'sender' to 'rec'\n",
    "        n_mails_sent_to_someone.append(res)  \n",
    "        \n",
    "# We sort the result in order to make the analysis easier        \n",
    "n_mails_sent_to_someone = sorted(n_mails_sent_to_someone)"
   ]
  },
  {
   "cell_type": "code",
   "execution_count": 11,
   "metadata": {
    "collapsed": false
   },
   "outputs": [
    {
     "data": {
      "text/plain": [
       "23134"
      ]
     },
     "execution_count": 11,
     "metadata": {},
     "output_type": "execute_result"
    }
   ],
   "source": [
    "#Number of unique links sender-recipient\n",
    "len(n_mails_sent_to_someone)"
   ]
  },
  {
   "cell_type": "code",
   "execution_count": 12,
   "metadata": {
    "collapsed": false
   },
   "outputs": [
    {
     "name": "stdout",
     "output_type": "stream",
     "text": [
      "33.6% of the links are made with only one mail.\n"
     ]
    }
   ],
   "source": [
    "# Count the percentage of links sender-recipient with one mail related to them.\n",
    "# A '1' means that it exist a couple (sender, recipient) such that the sender sent only one mail to the recipient.\n",
    "n_links_with_one_mail = n_mails_sent_to_someone.count(1)/len(n_mails_sent_to_someone)\n",
    "print('%.1f%% of the links are made with only one mail.' % round(n_links_with_one_mail * 100, 1))"
   ]
  },
  {
   "cell_type": "markdown",
   "metadata": {},
   "source": [
    "This simple statics is rude : one third of the connection is unique. Consequently, if we based the prediction on the previous recipient for a user, we will miss, at least one case over three, a recipient."
   ]
  },
  {
   "cell_type": "code",
   "execution_count": 13,
   "metadata": {
    "collapsed": false
   },
   "outputs": [
    {
     "data": {
      "text/plain": [
       "<matplotlib.text.Text at 0x6f3c2b0>"
      ]
     },
     "execution_count": 13,
     "metadata": {},
     "output_type": "execute_result"
    },
    {
     "data": {
      "image/png": "[encoded data removed]",
      "text/plain": [
       "<matplotlib.figure.Figure at 0x1ad85b70>"
      ]
     },
     "metadata": {},
     "output_type": "display_data"
    }
   ],
   "source": [
    "plt.figure(figsize=(15.0, 4.0))\n",
    "\n",
    "plt.subplot(1, 2, 1)\n",
    "plt.hist(n_mails_sent_to_someone)\n",
    "plt.title('Histogram of the number of mails shared between two individuals')\n",
    "\n",
    "plt.subplot(1, 2, 2)\n",
    "limit = round(0.8*len(n_mails_sent_to_someone))\n",
    "plt.hist(n_mails_sent_to_someone[:limit])\n",
    "plt.title('Histogram of the 80% lowest number of mails shared between two individuals')"
   ]
  },
  {
   "cell_type": "markdown",
   "metadata": {},
   "source": [
    "## Length of mails"
   ]
  },
  {
   "cell_type": "markdown",
   "metadata": {},
   "source": [
    "### Original texts"
   ]
  },
  {
   "cell_type": "code",
   "execution_count": 14,
   "metadata": {
    "collapsed": true
   },
   "outputs": [],
   "source": [
    "length_mail_training = training_df['body'].apply(len)\n",
    "length_mail_test = test_df['body'].apply(len)"
   ]
  },
  {
   "cell_type": "code",
   "execution_count": 32,
   "metadata": {
    "collapsed": false
   },
   "outputs": [
    {
     "data": {
      "text/plain": [
       "<matplotlib.text.Text at 0x6ae20b8>"
      ]
     },
     "execution_count": 32,
     "metadata": {},
     "output_type": "execute_result"
    },
    {
     "data": {
      "image/png": "[encoded data removed]",
      "text/plain": [
       "<matplotlib.figure.Figure at 0x68ff9b0>"
      ]
     },
     "metadata": {},
     "output_type": "display_data"
    }
   ],
   "source": [
    "#All the lengths of mails\n",
    "length_mails = list(length_mail_training) + list(length_mail_test)\n",
    "length_mails = sorted(length_mails)\n",
    "\n",
    "plt.figure(figsize=(15.0, 4.0))\n",
    "\n",
    "plt.subplot(1, 2, 1)\n",
    "plt.hist(length_mails)\n",
    "plt.title('Histogram of the length of mails')\n",
    "\n",
    "plt.subplot(1, 2, 2)\n",
    "limit = int(0.8*len(length_mails))\n",
    "plt.hist(length_mails[:limit])\n",
    "plt.title('Histogram of the 80% shortest mails')"
   ]
  },
  {
   "cell_type": "code",
   "execution_count": 33,
   "metadata": {
    "collapsed": false
   },
   "outputs": [
    {
     "name": "stdout",
     "output_type": "stream",
     "text": [
      "The shortest mail contains 1 character.\n"
     ]
    }
   ],
   "source": [
    "print('The shortest mail contains %.0f character.' %min(length_mails))"
   ]
  },
  {
   "cell_type": "markdown",
   "metadata": {},
   "source": [
    "### Cleaned texts"
   ]
  },
  {
   "cell_type": "code",
   "execution_count": 39,
   "metadata": {
    "collapsed": false
   },
   "outputs": [],
   "source": [
    "#One has to remove the mails with 0 character (after cleaning, stopwords have been deleted, so some mails may be empty)\n",
    "training_df = training_df.dropna()\n",
    "test_df = test_df.dropna()"
   ]
  },
  {
   "cell_type": "code",
   "execution_count": 40,
   "metadata": {
    "collapsed": false
   },
   "outputs": [],
   "source": [
    "length_clean_mail_training = training_df['clean_body'].apply(len)\n",
    "length_clean_mail_test = test_df['clean_body'].apply(len)"
   ]
  },
  {
   "cell_type": "code",
   "execution_count": 41,
   "metadata": {
    "collapsed": false
   },
   "outputs": [
    {
     "data": {
      "text/plain": [
       "<matplotlib.text.Text at 0x1b0cba20>"
      ]
     },
     "execution_count": 41,
     "metadata": {},
     "output_type": "execute_result"
    },
    {
     "data": {
      "image/png": "[encoded data removed]",
      "text/plain": [
       "<matplotlib.figure.Figure at 0x6b1d128>"
      ]
     },
     "metadata": {},
     "output_type": "display_data"
    }
   ],
   "source": [
    "#All the lengths of mails\n",
    "length_clean_mails = list(length_clean_mail_training) + list(length_clean_mail_test)\n",
    "length_clean_mails = sorted(length_clean_mails)\n",
    "\n",
    "plt.figure(figsize=(15.0, 4.0))\n",
    "\n",
    "plt.subplot(1, 2, 1)\n",
    "plt.hist(length_clean_mails)\n",
    "plt.title('Histogram of the length of clean mails')\n",
    "\n",
    "plt.subplot(1, 2, 2)\n",
    "limit = int(0.8*len(length_clean_mails))\n",
    "plt.hist(length_clean_mails[:limit])\n",
    "plt.title('Histogram of the 80% shortest clean mails')"
   ]
  },
  {
   "cell_type": "code",
   "execution_count": 44,
   "metadata": {
    "collapsed": false
   },
   "outputs": [
    {
     "name": "stdout",
     "output_type": "stream",
     "text": [
      "Before cleaning, a mail contains in mean 1288 characters.\n",
      "After cleaning, a mail contains in mean 743 characters.\n"
     ]
    }
   ],
   "source": [
    "print('Before cleaning, a mail contains on average %.0f characters.' %np.mean(length_mails))\n",
    "print('After cleaning, a mail contains on average %.0f characters.' %np.mean(length_clean_mails))"
   ]
  }
 ],
 "metadata": {
  "kernelspec": {
   "display_name": "Python 3 (ENSAE)",
   "language": "python",
   "name": "python_3_ensae"
  },
  "language_info": {
   "codemirror_mode": {
    "name": "ipython",
    "version": 3
   },
   "file_extension": ".py",
   "mimetype": "text/x-python",
   "name": "python",
   "nbconvert_exporter": "python",
   "pygments_lexer": "ipython3",
   "version": "3.4.3"
  }
 },
 "nbformat": 4,
 "nbformat_minor": 2
}
