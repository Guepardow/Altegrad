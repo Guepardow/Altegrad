{
 "cells": [
  {
   "cell_type": "markdown",
   "metadata": {},
   "source": [
    "<h1> Advanced Learning for Text and Graph Data </h1>\n",
    "<b> Université Paris-Saclay - Master M2 Data Science - February/March 2017</b> <br>\n",
    "<i> Students : Peter Martigny & Mehdi Miah </i> <br>\n",
    "# First part  : create new structures and clean the data"
   ]
  },
  {
   "cell_type": "markdown",
   "metadata": {},
   "source": [
    "## Open the data "
   ]
  },
  {
   "cell_type": "code",
   "execution_count": 1,
   "metadata": {
    "collapsed": false
   },
   "outputs": [],
   "source": [
    "#import some libraries\n",
    "import pandas as pd\n",
    "import numpy as np\n",
    "import random\n",
    "import time\n",
    "import matplotlib.pyplot as plt\n",
    "%matplotlib inline\n",
    "\n",
    "#access to the data\n",
    "path_to_data = \"../data/\"\n",
    "\n",
    "# path where we will store the results and clean datasets\n",
    "path_to_results = \"../results/\""
   ]
  },
  {
   "cell_type": "code",
   "execution_count": 2,
   "metadata": {
    "collapsed": false
   },
   "outputs": [],
   "source": [
    "# We have to give the types because otherwise, 'mid' may be an int64\n",
    "\n",
    "#training set\n",
    "training_set = pd.read_csv(path_to_data + 'training_set.csv')\n",
    "training_info = pd.read_csv(path_to_data + 'training_info.csv', \n",
    "                            dtype = {'mid': object, 'date': object, 'body': object, 'recipients' : object})\n",
    "\n",
    "#test\n",
    "test_set = pd.read_csv(path_to_data + 'test_set.csv')\n",
    "test_info = pd.read_csv(path_to_data + 'test_info.csv',\n",
    "                        dtype = {'mid': object, 'date': object, 'body': object})"
   ]
  },
  {
   "cell_type": "code",
   "execution_count": 3,
   "metadata": {
    "collapsed": false
   },
   "outputs": [
    {
     "name": "stdout",
     "output_type": "stream",
     "text": [
      "Shape of training_set : 125 x 2\n",
      "Shape of training_info : 43613 x 4\n",
      "Shape of test_set : 125 x 2\n",
      "Shape of test_info : 2362 x 3\n"
     ]
    }
   ],
   "source": [
    "#Lets print all the shapes\n",
    "#training\n",
    "print('Shape of training_set : %.0f x %.0f' %(training_set.shape))\n",
    "print('Shape of training_info : %.0f x %.0f' %(training_info.shape))\n",
    "\n",
    "#test\n",
    "print('Shape of test_set : %.0f x %.0f' %(test_set.shape))\n",
    "print('Shape of test_info : %.0f x %.0f' %(test_info.shape))\n"
   ]
  },
  {
   "cell_type": "markdown",
   "metadata": {},
   "source": [
    "Let's visualize some data : "
   ]
  },
  {
   "cell_type": "code",
   "execution_count": 4,
   "metadata": {
    "collapsed": false
   },
   "outputs": [
    {
     "data": {
      "text/html": [
       "<div>\n",
       "<table border=\"1\" class=\"dataframe\">\n",
       "  <thead>\n",
       "    <tr style=\"text-align: right;\">\n",
       "      <th></th>\n",
       "      <th>sender</th>\n",
       "      <th>mids</th>\n",
       "    </tr>\n",
       "  </thead>\n",
       "  <tbody>\n",
       "    <tr>\n",
       "      <th>0</th>\n",
       "      <td>karen.buckley@enron.com</td>\n",
       "      <td>158713 158697 200301 158679 278595 298162 2002...</td>\n",
       "    </tr>\n",
       "    <tr>\n",
       "      <th>1</th>\n",
       "      <td>amr.ibrahim@enron.com</td>\n",
       "      <td>215241 3437 215640 3506 191790 3517 3520 3562 ...</td>\n",
       "    </tr>\n",
       "    <tr>\n",
       "      <th>2</th>\n",
       "      <td>andrea.ring@enron.com</td>\n",
       "      <td>270705 270706 270707 270708 270709 270710 2707...</td>\n",
       "    </tr>\n",
       "    <tr>\n",
       "      <th>3</th>\n",
       "      <td>sylvia.hu@enron.com</td>\n",
       "      <td>111444 111422 183084 111412 111347 110883 1105...</td>\n",
       "    </tr>\n",
       "    <tr>\n",
       "      <th>4</th>\n",
       "      <td>phillip.platter@enron.com</td>\n",
       "      <td>327074 327384 327385 264443 274124 274125 2741...</td>\n",
       "    </tr>\n",
       "  </tbody>\n",
       "</table>\n",
       "</div>"
      ],
      "text/plain": [
       "                      sender  \\\n",
       "0    karen.buckley@enron.com   \n",
       "1      amr.ibrahim@enron.com   \n",
       "2      andrea.ring@enron.com   \n",
       "3        sylvia.hu@enron.com   \n",
       "4  phillip.platter@enron.com   \n",
       "\n",
       "                                                mids  \n",
       "0  158713 158697 200301 158679 278595 298162 2002...  \n",
       "1  215241 3437 215640 3506 191790 3517 3520 3562 ...  \n",
       "2  270705 270706 270707 270708 270709 270710 2707...  \n",
       "3  111444 111422 183084 111412 111347 110883 1105...  \n",
       "4  327074 327384 327385 264443 274124 274125 2741...  "
      ]
     },
     "execution_count": 4,
     "metadata": {},
     "output_type": "execute_result"
    }
   ],
   "source": [
    "#visualize the first rows : each row corresponds to a sender in the train dataset\n",
    "training_set.head()"
   ]
  },
  {
   "cell_type": "code",
   "execution_count": 5,
   "metadata": {
    "collapsed": false
   },
   "outputs": [
    {
     "data": {
      "text/html": [
       "<div>\n",
       "<table border=\"1\" class=\"dataframe\">\n",
       "  <thead>\n",
       "    <tr style=\"text-align: right;\">\n",
       "      <th></th>\n",
       "      <th>mid</th>\n",
       "      <th>date</th>\n",
       "      <th>body</th>\n",
       "      <th>recipients</th>\n",
       "    </tr>\n",
       "  </thead>\n",
       "  <tbody>\n",
       "    <tr>\n",
       "      <th>0</th>\n",
       "      <td>60</td>\n",
       "      <td>2000-07-25 08:14:00</td>\n",
       "      <td>Legal has been assessing the risks of doing bl...</td>\n",
       "      <td>robert.badeer@enron.com murray.o neil@enron.co...</td>\n",
       "    </tr>\n",
       "    <tr>\n",
       "      <th>1</th>\n",
       "      <td>66</td>\n",
       "      <td>2000-08-03 02:56:00</td>\n",
       "      <td>Attached is a spreadsheet to estimate export f...</td>\n",
       "      <td>kim.ward@enron.com robert.badeer@enron.com mur...</td>\n",
       "    </tr>\n",
       "    <tr>\n",
       "      <th>2</th>\n",
       "      <td>74</td>\n",
       "      <td>2000-08-15 05:37:00</td>\n",
       "      <td>Kevin/Bob: Here is a quick rundown on the cons...</td>\n",
       "      <td>robert.badeer@enron.com john.massey@enron.com ...</td>\n",
       "    </tr>\n",
       "    <tr>\n",
       "      <th>3</th>\n",
       "      <td>80</td>\n",
       "      <td>2000-08-20 14:12:00</td>\n",
       "      <td>check this out and let everyone know what s up...</td>\n",
       "      <td>robert.badeer@enron.com jeff.richter@enron.com</td>\n",
       "    </tr>\n",
       "    <tr>\n",
       "      <th>4</th>\n",
       "      <td>83</td>\n",
       "      <td>2000-08-22 08:17:00</td>\n",
       "      <td>Further to your letter to us (addressed to Mr....</td>\n",
       "      <td>pgillman@schiffhardin.com kamarlantes@calpx.co...</td>\n",
       "    </tr>\n",
       "  </tbody>\n",
       "</table>\n",
       "</div>"
      ],
      "text/plain": [
       "  mid                 date                                               body  \\\n",
       "0  60  2000-07-25 08:14:00  Legal has been assessing the risks of doing bl...   \n",
       "1  66  2000-08-03 02:56:00  Attached is a spreadsheet to estimate export f...   \n",
       "2  74  2000-08-15 05:37:00  Kevin/Bob: Here is a quick rundown on the cons...   \n",
       "3  80  2000-08-20 14:12:00  check this out and let everyone know what s up...   \n",
       "4  83  2000-08-22 08:17:00  Further to your letter to us (addressed to Mr....   \n",
       "\n",
       "                                          recipients  \n",
       "0  robert.badeer@enron.com murray.o neil@enron.co...  \n",
       "1  kim.ward@enron.com robert.badeer@enron.com mur...  \n",
       "2  robert.badeer@enron.com john.massey@enron.com ...  \n",
       "3     robert.badeer@enron.com jeff.richter@enron.com  \n",
       "4  pgillman@schiffhardin.com kamarlantes@calpx.co...  "
      ]
     },
     "execution_count": 5,
     "metadata": {},
     "output_type": "execute_result"
    }
   ],
   "source": [
    "#visualise the first rows : each row corresponds to a mail in the train dataset\n",
    "training_info.head()"
   ]
  },
  {
   "cell_type": "code",
   "execution_count": 6,
   "metadata": {
    "collapsed": false
   },
   "outputs": [
    {
     "data": {
      "text/html": [
       "<div>\n",
       "<table border=\"1\" class=\"dataframe\">\n",
       "  <thead>\n",
       "    <tr style=\"text-align: right;\">\n",
       "      <th></th>\n",
       "      <th>sender</th>\n",
       "      <th>mids</th>\n",
       "    </tr>\n",
       "  </thead>\n",
       "  <tbody>\n",
       "    <tr>\n",
       "      <th>0</th>\n",
       "      <td>karen.buckley@enron.com</td>\n",
       "      <td>298389 332383 298390 284071 366982 81773 81791...</td>\n",
       "    </tr>\n",
       "    <tr>\n",
       "      <th>1</th>\n",
       "      <td>amr.ibrahim@enron.com</td>\n",
       "      <td>48260 48465 50344 48268 50330 48237 189979 189...</td>\n",
       "    </tr>\n",
       "    <tr>\n",
       "      <th>2</th>\n",
       "      <td>andrea.ring@enron.com</td>\n",
       "      <td>366364 271168 271172 271167 271189</td>\n",
       "    </tr>\n",
       "    <tr>\n",
       "      <th>3</th>\n",
       "      <td>sylvia.hu@enron.com</td>\n",
       "      <td>134931 134856 233549 233517 134895 233584 3736...</td>\n",
       "    </tr>\n",
       "    <tr>\n",
       "      <th>4</th>\n",
       "      <td>phillip.platter@enron.com</td>\n",
       "      <td>274220 274225 274215 274223 274214 274207 2742...</td>\n",
       "    </tr>\n",
       "  </tbody>\n",
       "</table>\n",
       "</div>"
      ],
      "text/plain": [
       "                      sender  \\\n",
       "0    karen.buckley@enron.com   \n",
       "1      amr.ibrahim@enron.com   \n",
       "2      andrea.ring@enron.com   \n",
       "3        sylvia.hu@enron.com   \n",
       "4  phillip.platter@enron.com   \n",
       "\n",
       "                                                mids  \n",
       "0  298389 332383 298390 284071 366982 81773 81791...  \n",
       "1  48260 48465 50344 48268 50330 48237 189979 189...  \n",
       "2                 366364 271168 271172 271167 271189  \n",
       "3  134931 134856 233549 233517 134895 233584 3736...  \n",
       "4  274220 274225 274215 274223 274214 274207 2742...  "
      ]
     },
     "execution_count": 6,
     "metadata": {},
     "output_type": "execute_result"
    }
   ],
   "source": [
    "#visualize the first rows : : each row corresponds to a sender in the test dataset\n",
    "test_set.head()"
   ]
  },
  {
   "cell_type": "code",
   "execution_count": 7,
   "metadata": {
    "collapsed": false
   },
   "outputs": [
    {
     "data": {
      "text/html": [
       "<div>\n",
       "<table border=\"1\" class=\"dataframe\">\n",
       "  <thead>\n",
       "    <tr style=\"text-align: right;\">\n",
       "      <th></th>\n",
       "      <th>mid</th>\n",
       "      <th>date</th>\n",
       "      <th>body</th>\n",
       "    </tr>\n",
       "  </thead>\n",
       "  <tbody>\n",
       "    <tr>\n",
       "      <th>0</th>\n",
       "      <td>1577</td>\n",
       "      <td>2001-11-19 06:59:51</td>\n",
       "      <td>Note:  Stocks of heating oil are very high for...</td>\n",
       "    </tr>\n",
       "    <tr>\n",
       "      <th>1</th>\n",
       "      <td>1750</td>\n",
       "      <td>2002-03-05 08:46:57</td>\n",
       "      <td>Kevin Hyatt and I are going for \"sghetti\" at S...</td>\n",
       "    </tr>\n",
       "    <tr>\n",
       "      <th>2</th>\n",
       "      <td>1916</td>\n",
       "      <td>2002-02-13 14:17:39</td>\n",
       "      <td>This was forwarded to me and it is funny. - Wi...</td>\n",
       "    </tr>\n",
       "    <tr>\n",
       "      <th>3</th>\n",
       "      <td>2094</td>\n",
       "      <td>2002-01-22 11:33:56</td>\n",
       "      <td>I will be in to and happy to assist too.  I ma...</td>\n",
       "    </tr>\n",
       "    <tr>\n",
       "      <th>4</th>\n",
       "      <td>2205</td>\n",
       "      <td>2002-01-11 07:12:19</td>\n",
       "      <td>Thanks. I needed a morning chuckle.</td>\n",
       "    </tr>\n",
       "  </tbody>\n",
       "</table>\n",
       "</div>"
      ],
      "text/plain": [
       "    mid                 date  \\\n",
       "0  1577  2001-11-19 06:59:51   \n",
       "1  1750  2002-03-05 08:46:57   \n",
       "2  1916  2002-02-13 14:17:39   \n",
       "3  2094  2002-01-22 11:33:56   \n",
       "4  2205  2002-01-11 07:12:19   \n",
       "\n",
       "                                                body  \n",
       "0  Note:  Stocks of heating oil are very high for...  \n",
       "1  Kevin Hyatt and I are going for \"sghetti\" at S...  \n",
       "2  This was forwarded to me and it is funny. - Wi...  \n",
       "3  I will be in to and happy to assist too.  I ma...  \n",
       "4                Thanks. I needed a morning chuckle.  "
      ]
     },
     "execution_count": 7,
     "metadata": {},
     "output_type": "execute_result"
    }
   ],
   "source": [
    "#visualise the first rows : each row corresponds to a mail in the test dataset\n",
    "test_info.head()"
   ]
  },
  {
   "cell_type": "markdown",
   "metadata": {},
   "source": [
    "We have two datasets for training et test :\n",
    "- $\\texttt{training_set}$ and $\\texttt{test_set}$ contain the list of all mails written by an employee ; \n",
    "- $\\texttt{training_info}$ and $\\texttt{test_info}$ describe each mail : the date, the content and the list of recipients ( only in the training dataset)"
   ]
  },
  {
   "cell_type": "markdown",
   "metadata": {},
   "source": [
    "## Clean the data"
   ]
  },
  {
   "cell_type": "markdown",
   "metadata": {},
   "source": [
    "### Clean the date"
   ]
  },
  {
   "cell_type": "code",
   "execution_count": 8,
   "metadata": {
    "collapsed": false
   },
   "outputs": [],
   "source": [
    "all_dates = list(training_info.date) + list(test_info.date)"
   ]
  },
  {
   "cell_type": "code",
   "execution_count": 9,
   "metadata": {
    "collapsed": false
   },
   "outputs": [
    {
     "data": {
      "text/plain": [
       "{'0001', '0002', '1998', '1999', '2000', '2001', '2002'}"
      ]
     },
     "execution_count": 9,
     "metadata": {},
     "output_type": "execute_result"
    }
   ],
   "source": [
    "all_years = set([date[:4] for date in all_dates])\n",
    "all_years"
   ]
  },
  {
   "cell_type": "code",
   "execution_count": 10,
   "metadata": {
    "collapsed": false
   },
   "outputs": [
    {
     "data": {
      "text/plain": [
       "'0001-08-26 22:16:36'"
      ]
     },
     "execution_count": 10,
     "metadata": {},
     "output_type": "execute_result"
    }
   ],
   "source": [
    "min(all_dates)"
   ]
  },
  {
   "cell_type": "markdown",
   "metadata": {},
   "source": [
    "It is clear that some dates are dirty : instead of having '2001' or '2002', one gets '0001' or '0002'."
   ]
  },
  {
   "cell_type": "code",
   "execution_count": 11,
   "metadata": {
    "collapsed": false
   },
   "outputs": [],
   "source": [
    "def clean_date(date):\n",
    "    '''\n",
    "    Clean the date by replacing the first '0', if exists, by '2'\n",
    "    \n",
    "    == Input ====\n",
    "    date         (string) date under the yyyy-mm-dd HH:M:SS format\n",
    "    == Output ====\n",
    "    date         (string) date under the yyyy-mm-dd HH:M:SS format\n",
    "    '''\n",
    "    if date[:1] == '0': #starts with '0xxx'\n",
    "        date = '2' + date[1:]\n",
    "    return date   "
   ]
  },
  {
   "cell_type": "code",
   "execution_count": 52,
   "metadata": {
    "collapsed": false
   },
   "outputs": [
    {
     "name": "stdout",
     "output_type": "stream",
     "text": [
      "Previous date :  0001-08-26 22:16:36 \t Cleaned date :  2001-08-26 22:16:36\n",
      "Previous date :  2001-04-14 14:24:42 \t Cleaned date :  2001-04-14 14:24:42\n"
     ]
    }
   ],
   "source": [
    "# Some examples\n",
    "date = '0001-08-26 22:16:36'\n",
    "print('Previous date : ', date, '\\t Cleaned date : ', clean_date(date))\n",
    "\n",
    "date = '2001-04-14 14:24:42'\n",
    "print('Previous date : ', date, '\\t Cleaned date : ', clean_date(date))"
   ]
  },
  {
   "cell_type": "code",
   "execution_count": 13,
   "metadata": {
    "collapsed": true
   },
   "outputs": [],
   "source": [
    "training_info['date'] = training_info.date.apply(clean_date)\n",
    "test_info['date'] = test_info.date.apply(clean_date)"
   ]
  },
  {
   "cell_type": "code",
   "execution_count": 14,
   "metadata": {
    "collapsed": false
   },
   "outputs": [
    {
     "data": {
      "text/plain": [
       "'1998-12-21 05:29:00'"
      ]
     },
     "execution_count": 14,
     "metadata": {},
     "output_type": "execute_result"
    }
   ],
   "source": [
    "#sanity check\n",
    "min(training_info.date)"
   ]
  },
  {
   "cell_type": "markdown",
   "metadata": {},
   "source": [
    "### Replace `\\t` symbols"
   ]
  },
  {
   "cell_type": "code",
   "execution_count": 22,
   "metadata": {
    "collapsed": false
   },
   "outputs": [
    {
     "data": {
      "text/plain": [
       "'gngr713-853-7751----- Forwarded by Ginger Dernehl/NA/Enron on 03/14/2001 10:45 AM -----\\tKathleen Sullivan\\t03/13/2001 10:23 PM\\t\\t \\t\\t To: Ginger Dernehl/NA/Enron@Enron\\t\\t cc: \\t\\t Subject: New York Regulatory SummaryGinger,Attached is a memo that Howard Fromer, Sarah Novosel and I recently drafted summarizing the regulatory environment in New York. Could you please distribute it to the Government Affairs group.  Thanks,Kathleen'"
      ]
     },
     "execution_count": 22,
     "metadata": {},
     "output_type": "execute_result"
    }
   ],
   "source": [
    "training_info['body'][67]"
   ]
  },
  {
   "cell_type": "markdown",
   "metadata": {},
   "source": [
    "One can notice than the mail contain some symbols like `\\t`. These elements should be removed in order to increase the performance of models."
   ]
  },
  {
   "cell_type": "code",
   "execution_count": 23,
   "metadata": {
    "collapsed": true
   },
   "outputs": [],
   "source": [
    "def replace_t(text):\n",
    "    return(text.replace('\\t', ' '))"
   ]
  },
  {
   "cell_type": "code",
   "execution_count": 31,
   "metadata": {
    "collapsed": false
   },
   "outputs": [
    {
     "name": "stdout",
     "output_type": "stream",
     "text": [
      "When the text is cleaned : \n",
      "gngr713-853-7751----- Forwarded by Ginger Dernehl/NA/Enron on 03/14/2001 10:45 AM ----- Kathleen Sullivan 03/13/2001 10:23 PM      To: Ginger Dernehl/NA/Enron@Enron   cc:    Subject: New York Regulatory SummaryGinger,Attached is a memo that Howard Fromer, Sarah Novosel and I recently drafted summarizing the regulatory environment in New York. Could you please distribute it to the Government Affairs group.  Thanks,Kathleen\n",
      "\n",
      "When the text was not dirty : \n",
      "Attached is a spreadsheet to estimate export fees.\n",
      "After removed \t : \n",
      "Attached is a spreadsheet to estimate export fees.\n"
     ]
    }
   ],
   "source": [
    "# Some example\n",
    "\n",
    "#a text which was dirty\n",
    "print('When the text is cleaned : \\n%s\\n' %replace_t(training_info['body'][67]))\n",
    "\n",
    "#another one, which was clean\n",
    "print('When the text was not dirty : \\n%s' %training_info['body'][1])\n",
    "print('After removed \\t : \\n%s' %replace_t(training_info['body'][1]))"
   ]
  },
  {
   "cell_type": "code",
   "execution_count": 32,
   "metadata": {
    "collapsed": false
   },
   "outputs": [],
   "source": [
    "training_info['body_rt'] = training_info.body.apply(replace_t)\n",
    "test_info['body_rt'] = test_info.body.apply(replace_t)"
   ]
  },
  {
   "cell_type": "markdown",
   "metadata": {},
   "source": [
    "### Remove the forwarded part"
   ]
  },
  {
   "cell_type": "code",
   "execution_count": 12,
   "metadata": {
    "collapsed": false
   },
   "outputs": [
    {
     "name": "stdout",
     "output_type": "stream",
     "text": [
      "8351 mails are forwarded amongst 43613 (19.15%).\n"
     ]
    }
   ],
   "source": [
    "cpt_forward = 0\n",
    "for row in range(training_info.shape[0]):\n",
    "    cpt_forward += 'Forwarded by' in training_info['body_rt'][row]\n",
    "    \n",
    "print('%.0f mails are forwarded amongst %.0f (%.2f%%).' %(cpt_forward, training_info.shape[0], cpt_forward/training_info.shape[0]*100))    "
   ]
  },
  {
   "cell_type": "markdown",
   "metadata": {},
   "source": [
    "Now, it is time to remove the metadata."
   ]
  },
  {
   "cell_type": "code",
   "execution_count": 33,
   "metadata": {
    "collapsed": true
   },
   "outputs": [],
   "source": [
    "def remove_forward(text):\n",
    "    if 'Subject:' not in text:\n",
    "        return text\n",
    "    else: #there is at least one 'Forwarded by' or one 'From'\n",
    "        new_text = ''\n",
    "        last_part = text.split('Subject:')[-1]\n",
    "        for part in text.split('Subject:'):\n",
    "            if 'Forwarded by' in part:\n",
    "                new_part = part.split('Forwarded by')[0]\n",
    "                new_text = ''.join(new_text + new_part)\n",
    "            elif 'From:'  in part:\n",
    "                new_part = part.split('From:')[0]\n",
    "                new_text = ''.join(new_text + new_part)     \n",
    "        return ''.join(new_text + last_part)\n",
    "            "
   ]
  },
  {
   "cell_type": "code",
   "execution_count": 35,
   "metadata": {
    "collapsed": false
   },
   "outputs": [
    {
     "name": "stdout",
     "output_type": "stream",
     "text": [
      "After removing metadata : \n",
      "%s gngr713-853-7751-----  New York Regulatory SummaryGinger,Attached is a memo that Howard Fromer, Sarah Novosel and I recently drafted summarizing the regulatory environment in New York. Could you please distribute it to the Government Affairs group.  Thanks,Kathleen\n"
     ]
    }
   ],
   "source": [
    "print('After removing metadata : \\n%s', remove_forward(training_info['body'][67]))"
   ]
  },
  {
   "cell_type": "code",
   "execution_count": 36,
   "metadata": {
    "collapsed": true
   },
   "outputs": [],
   "source": [
    "training_info['body_rf'] = training_info.body_rt.apply(remove_forward)\n",
    "test_info['body_rf'] = test_info.body_rt.apply(remove_forward)"
   ]
  },
  {
   "cell_type": "code",
   "execution_count": 37,
   "metadata": {
    "collapsed": false
   },
   "outputs": [
    {
     "data": {
      "text/html": [
       "<div>\n",
       "<table border=\"1\" class=\"dataframe\">\n",
       "  <thead>\n",
       "    <tr style=\"text-align: right;\">\n",
       "      <th></th>\n",
       "      <th>mid</th>\n",
       "      <th>date</th>\n",
       "      <th>body</th>\n",
       "      <th>recipients</th>\n",
       "      <th>body_rt</th>\n",
       "      <th>body_rf</th>\n",
       "    </tr>\n",
       "  </thead>\n",
       "  <tbody>\n",
       "    <tr>\n",
       "      <th>0</th>\n",
       "      <td>60</td>\n",
       "      <td>2000-07-25 08:14:00</td>\n",
       "      <td>Legal has been assessing the risks of doing bl...</td>\n",
       "      <td>robert.badeer@enron.com murray.o neil@enron.co...</td>\n",
       "      <td>Legal has been assessing the risks of doing bl...</td>\n",
       "      <td>Legal has been assessing the risks of doing bl...</td>\n",
       "    </tr>\n",
       "    <tr>\n",
       "      <th>1</th>\n",
       "      <td>66</td>\n",
       "      <td>2000-08-03 02:56:00</td>\n",
       "      <td>Attached is a spreadsheet to estimate export f...</td>\n",
       "      <td>kim.ward@enron.com robert.badeer@enron.com mur...</td>\n",
       "      <td>Attached is a spreadsheet to estimate export f...</td>\n",
       "      <td>Attached is a spreadsheet to estimate export f...</td>\n",
       "    </tr>\n",
       "    <tr>\n",
       "      <th>2</th>\n",
       "      <td>74</td>\n",
       "      <td>2000-08-15 05:37:00</td>\n",
       "      <td>Kevin/Bob: Here is a quick rundown on the cons...</td>\n",
       "      <td>robert.badeer@enron.com john.massey@enron.com ...</td>\n",
       "      <td>Kevin/Bob: Here is a quick rundown on the cons...</td>\n",
       "      <td>Kevin/Bob: Here is a quick rundown on the cons...</td>\n",
       "    </tr>\n",
       "    <tr>\n",
       "      <th>3</th>\n",
       "      <td>80</td>\n",
       "      <td>2000-08-20 14:12:00</td>\n",
       "      <td>check this out and let everyone know what s up...</td>\n",
       "      <td>robert.badeer@enron.com jeff.richter@enron.com</td>\n",
       "      <td>check this out and let everyone know what s up...</td>\n",
       "      <td>check this out and let everyone know what s up...</td>\n",
       "    </tr>\n",
       "    <tr>\n",
       "      <th>4</th>\n",
       "      <td>83</td>\n",
       "      <td>2000-08-22 08:17:00</td>\n",
       "      <td>Further to your letter to us (addressed to Mr....</td>\n",
       "      <td>pgillman@schiffhardin.com kamarlantes@calpx.co...</td>\n",
       "      <td>Further to your letter to us (addressed to Mr....</td>\n",
       "      <td>Further to your letter to us (addressed to Mr....</td>\n",
       "    </tr>\n",
       "  </tbody>\n",
       "</table>\n",
       "</div>"
      ],
      "text/plain": [
       "  mid                 date                                               body  \\\n",
       "0  60  2000-07-25 08:14:00  Legal has been assessing the risks of doing bl...   \n",
       "1  66  2000-08-03 02:56:00  Attached is a spreadsheet to estimate export f...   \n",
       "2  74  2000-08-15 05:37:00  Kevin/Bob: Here is a quick rundown on the cons...   \n",
       "3  80  2000-08-20 14:12:00  check this out and let everyone know what s up...   \n",
       "4  83  2000-08-22 08:17:00  Further to your letter to us (addressed to Mr....   \n",
       "\n",
       "                                          recipients  \\\n",
       "0  robert.badeer@enron.com murray.o neil@enron.co...   \n",
       "1  kim.ward@enron.com robert.badeer@enron.com mur...   \n",
       "2  robert.badeer@enron.com john.massey@enron.com ...   \n",
       "3     robert.badeer@enron.com jeff.richter@enron.com   \n",
       "4  pgillman@schiffhardin.com kamarlantes@calpx.co...   \n",
       "\n",
       "                                             body_rt  \\\n",
       "0  Legal has been assessing the risks of doing bl...   \n",
       "1  Attached is a spreadsheet to estimate export f...   \n",
       "2  Kevin/Bob: Here is a quick rundown on the cons...   \n",
       "3  check this out and let everyone know what s up...   \n",
       "4  Further to your letter to us (addressed to Mr....   \n",
       "\n",
       "                                             body_rf  \n",
       "0  Legal has been assessing the risks of doing bl...  \n",
       "1  Attached is a spreadsheet to estimate export f...  \n",
       "2  Kevin/Bob: Here is a quick rundown on the cons...  \n",
       "3  check this out and let everyone know what s up...  \n",
       "4  Further to your letter to us (addressed to Mr....  "
      ]
     },
     "execution_count": 37,
     "metadata": {},
     "output_type": "execute_result"
    }
   ],
   "source": [
    "training_info.head()"
   ]
  },
  {
   "cell_type": "code",
   "execution_count": 38,
   "metadata": {
    "collapsed": false
   },
   "outputs": [
    {
     "name": "stdout",
     "output_type": "stream",
     "text": [
      "124 mails are forwarded amongst 43613 (0.28%).\n"
     ]
    }
   ],
   "source": [
    "#Sanity check\n",
    "cpt_forward = 0\n",
    "for row in range(training_info.shape[0]):\n",
    "    cpt_forward += 'Forwarded by' in training_info['body_rf'][row]\n",
    "\n",
    "print('%.0f mails are forwarded amongst %.0f (%.2f%%).' %(cpt_forward, training_info.shape[0], cpt_forward/training_info.shape[0]*100))    "
   ]
  },
  {
   "cell_type": "markdown",
   "metadata": {},
   "source": [
    "There were nearly `20`% of mails with metadata, now there are only `0.3`%."
   ]
  },
  {
   "cell_type": "markdown",
   "metadata": {},
   "source": [
    "### Text mining to simplify the data"
   ]
  },
  {
   "cell_type": "markdown",
   "metadata": {},
   "source": [
    "When it comes to a text analysis, the pre-processing is an important part. "
   ]
  },
  {
   "cell_type": "code",
   "execution_count": 39,
   "metadata": {
    "collapsed": true
   },
   "outputs": [],
   "source": [
    "#tokenizer\n",
    "from nltk.tokenize import RegexpTokenizer\n",
    "tokenizer = RegexpTokenizer(r'\\w+') #to remove punctuations\n",
    "\n",
    "#stemize\n",
    "from nltk.stem.porter import PorterStemmer\n",
    "stemmer = PorterStemmer()\n",
    "def stem_tokens(tokens):\n",
    "    stemmed = []\n",
    "    for item in tokens:\n",
    "        stemmed.append(stemmer.stem(item))\n",
    "    return stemmed\n",
    "\n",
    "#stopwords\n",
    "from nltk.corpus import stopwords\n",
    "all_stopwords = stopwords.words(\"english\")"
   ]
  },
  {
   "cell_type": "code",
   "execution_count": 40,
   "metadata": {
    "collapsed": true
   },
   "outputs": [],
   "source": [
    "def clean_body(body):\n",
    "    lower = body.lower()\n",
    "    token = tokenizer.tokenize(lower)\n",
    "    #stemmed = stem_tokens(token)\n",
    "    del_sw = [word for word in token if word not in all_stopwords]\n",
    "    return ' '.join(del_sw)"
   ]
  },
  {
   "cell_type": "code",
   "execution_count": 41,
   "metadata": {
    "collapsed": false
   },
   "outputs": [
    {
     "name": "stdout",
     "output_type": "stream",
     "text": [
      "dream one day nation rise live true meaning creed hold truths self evident men created equal dream one day red hills georgia sons former slaves sons former slave owners able sit together table brotherhood\n"
     ]
    }
   ],
   "source": [
    "#An example\n",
    "text = 'I have a dream that one day this nation will rise up and live out the true meaning of its creed: \\\n",
    "We hold these truths to be self-evident, that all men are created equal. \\\n",
    "I have a dream that one day on the red hills of Georgia, the sons of former slaves and the sons of former slave owners \\\n",
    "will be able to sit down together at the table of brotherhood.'\n",
    "\n",
    "print(clean_body(text))"
   ]
  },
  {
   "cell_type": "code",
   "execution_count": 42,
   "metadata": {
    "collapsed": true
   },
   "outputs": [],
   "source": [
    "#Apply\n",
    "training_info['clean_body'] = training_info.body_rf.apply(clean_body)\n",
    "test_info['clean_body'] = test_info.body_rf.apply(clean_body)"
   ]
  },
  {
   "cell_type": "code",
   "execution_count": 43,
   "metadata": {
    "collapsed": false
   },
   "outputs": [
    {
     "data": {
      "text/html": [
       "<div>\n",
       "<table border=\"1\" class=\"dataframe\">\n",
       "  <thead>\n",
       "    <tr style=\"text-align: right;\">\n",
       "      <th></th>\n",
       "      <th>mid</th>\n",
       "      <th>date</th>\n",
       "      <th>body</th>\n",
       "      <th>recipients</th>\n",
       "      <th>body_rt</th>\n",
       "      <th>body_rf</th>\n",
       "      <th>clean_body</th>\n",
       "    </tr>\n",
       "  </thead>\n",
       "  <tbody>\n",
       "    <tr>\n",
       "      <th>0</th>\n",
       "      <td>60</td>\n",
       "      <td>2000-07-25 08:14:00</td>\n",
       "      <td>Legal has been assessing the risks of doing bl...</td>\n",
       "      <td>robert.badeer@enron.com murray.o neil@enron.co...</td>\n",
       "      <td>Legal has been assessing the risks of doing bl...</td>\n",
       "      <td>Legal has been assessing the risks of doing bl...</td>\n",
       "      <td>legal assessing risks block forward trades fin...</td>\n",
       "    </tr>\n",
       "    <tr>\n",
       "      <th>1</th>\n",
       "      <td>66</td>\n",
       "      <td>2000-08-03 02:56:00</td>\n",
       "      <td>Attached is a spreadsheet to estimate export f...</td>\n",
       "      <td>kim.ward@enron.com robert.badeer@enron.com mur...</td>\n",
       "      <td>Attached is a spreadsheet to estimate export f...</td>\n",
       "      <td>Attached is a spreadsheet to estimate export f...</td>\n",
       "      <td>attached spreadsheet estimate export fees</td>\n",
       "    </tr>\n",
       "    <tr>\n",
       "      <th>2</th>\n",
       "      <td>74</td>\n",
       "      <td>2000-08-15 05:37:00</td>\n",
       "      <td>Kevin/Bob: Here is a quick rundown on the cons...</td>\n",
       "      <td>robert.badeer@enron.com john.massey@enron.com ...</td>\n",
       "      <td>Kevin/Bob: Here is a quick rundown on the cons...</td>\n",
       "      <td>Kevin/Bob: Here is a quick rundown on the cons...</td>\n",
       "      <td>kevin bob quick rundown consultants sam wehn t...</td>\n",
       "    </tr>\n",
       "    <tr>\n",
       "      <th>3</th>\n",
       "      <td>80</td>\n",
       "      <td>2000-08-20 14:12:00</td>\n",
       "      <td>check this out and let everyone know what s up...</td>\n",
       "      <td>robert.badeer@enron.com jeff.richter@enron.com</td>\n",
       "      <td>check this out and let everyone know what s up...</td>\n",
       "      <td>check this out and let everyone know what s up...</td>\n",
       "      <td>check let everyone know</td>\n",
       "    </tr>\n",
       "    <tr>\n",
       "      <th>4</th>\n",
       "      <td>83</td>\n",
       "      <td>2000-08-22 08:17:00</td>\n",
       "      <td>Further to your letter to us (addressed to Mr....</td>\n",
       "      <td>pgillman@schiffhardin.com kamarlantes@calpx.co...</td>\n",
       "      <td>Further to your letter to us (addressed to Mr....</td>\n",
       "      <td>Further to your letter to us (addressed to Mr....</td>\n",
       "      <td>letter us addressed mr tim belden dated august...</td>\n",
       "    </tr>\n",
       "  </tbody>\n",
       "</table>\n",
       "</div>"
      ],
      "text/plain": [
       "  mid                 date                                               body  \\\n",
       "0  60  2000-07-25 08:14:00  Legal has been assessing the risks of doing bl...   \n",
       "1  66  2000-08-03 02:56:00  Attached is a spreadsheet to estimate export f...   \n",
       "2  74  2000-08-15 05:37:00  Kevin/Bob: Here is a quick rundown on the cons...   \n",
       "3  80  2000-08-20 14:12:00  check this out and let everyone know what s up...   \n",
       "4  83  2000-08-22 08:17:00  Further to your letter to us (addressed to Mr....   \n",
       "\n",
       "                                          recipients  \\\n",
       "0  robert.badeer@enron.com murray.o neil@enron.co...   \n",
       "1  kim.ward@enron.com robert.badeer@enron.com mur...   \n",
       "2  robert.badeer@enron.com john.massey@enron.com ...   \n",
       "3     robert.badeer@enron.com jeff.richter@enron.com   \n",
       "4  pgillman@schiffhardin.com kamarlantes@calpx.co...   \n",
       "\n",
       "                                             body_rt  \\\n",
       "0  Legal has been assessing the risks of doing bl...   \n",
       "1  Attached is a spreadsheet to estimate export f...   \n",
       "2  Kevin/Bob: Here is a quick rundown on the cons...   \n",
       "3  check this out and let everyone know what s up...   \n",
       "4  Further to your letter to us (addressed to Mr....   \n",
       "\n",
       "                                             body_rf  \\\n",
       "0  Legal has been assessing the risks of doing bl...   \n",
       "1  Attached is a spreadsheet to estimate export f...   \n",
       "2  Kevin/Bob: Here is a quick rundown on the cons...   \n",
       "3  check this out and let everyone know what s up...   \n",
       "4  Further to your letter to us (addressed to Mr....   \n",
       "\n",
       "                                          clean_body  \n",
       "0  legal assessing risks block forward trades fin...  \n",
       "1          attached spreadsheet estimate export fees  \n",
       "2  kevin bob quick rundown consultants sam wehn t...  \n",
       "3                            check let everyone know  \n",
       "4  letter us addressed mr tim belden dated august...  "
      ]
     },
     "execution_count": 43,
     "metadata": {},
     "output_type": "execute_result"
    }
   ],
   "source": [
    "training_info.head()"
   ]
  },
  {
   "cell_type": "markdown",
   "metadata": {},
   "source": [
    "## Create handy structures"
   ]
  },
  {
   "cell_type": "markdown",
   "metadata": {},
   "source": [
    "All the code is in the file handy_structures.py"
   ]
  },
  {
   "cell_type": "code",
   "execution_count": 44,
   "metadata": {
    "collapsed": false
   },
   "outputs": [],
   "source": [
    "from handy_structures import * #own function"
   ]
  },
  {
   "cell_type": "markdown",
   "metadata": {},
   "source": [
    "### 1 - Structure giving all email ids for each individual"
   ]
  },
  {
   "cell_type": "code",
   "execution_count": 45,
   "metadata": {
    "collapsed": true
   },
   "outputs": [],
   "source": [
    "#Get all mails sent by everybody\n",
    "emails_ids_per_sender_training = get_mids_per_sender(training_set)\n",
    "emails_ids_per_sender_test = get_mids_per_sender(test_set)"
   ]
  },
  {
   "cell_type": "code",
   "execution_count": 46,
   "metadata": {
    "collapsed": false
   },
   "outputs": [
    {
     "data": {
      "text/plain": [
       "['375912',\n",
       " '375913',\n",
       " '369345',\n",
       " '375914',\n",
       " '375915',\n",
       " '375916',\n",
       " '375917',\n",
       " '369358',\n",
       " '369938',\n",
       " '369993']"
      ]
     },
     "execution_count": 46,
     "metadata": {},
     "output_type": "execute_result"
    }
   ],
   "source": [
    "emails_ids_per_sender_training['shona.wilson@enron.com'][:10]"
   ]
  },
  {
   "cell_type": "markdown",
   "metadata": {},
   "source": [
    "### 2 - Dataframe containing all data"
   ]
  },
  {
   "cell_type": "markdown",
   "metadata": {},
   "source": [
    "As we get two datasets for learning, it will be more convenient for analysis to merge them. From then on, cross-validation and prediction will be done without fearing any mistakes."
   ]
  },
  {
   "cell_type": "code",
   "execution_count": 47,
   "metadata": {
    "collapsed": false
   },
   "outputs": [
    {
     "name": "stderr",
     "output_type": "stream",
     "text": [
      "                                                                               \r"
     ]
    }
   ],
   "source": [
    "# Let's make a dataframe with all info for both training and test\n",
    "    # number of rows  = #mails\n",
    "    # columns : mid + date + body + sender + (recipients)\n",
    "    \n",
    "#create a dataframe which contains the senders of each mail (from training_set and test_set)\n",
    "training_df = transform_dataset(training_info, training_set)\n",
    "test_df = transform_dataset(test_info, test_set)"
   ]
  },
  {
   "cell_type": "code",
   "execution_count": 48,
   "metadata": {
    "collapsed": false
   },
   "outputs": [
    {
     "data": {
      "text/html": [
       "<div>\n",
       "<table border=\"1\" class=\"dataframe\">\n",
       "  <thead>\n",
       "    <tr style=\"text-align: right;\">\n",
       "      <th></th>\n",
       "      <th>mid</th>\n",
       "      <th>sender</th>\n",
       "      <th>date</th>\n",
       "      <th>body</th>\n",
       "      <th>recipients</th>\n",
       "      <th>body_rt</th>\n",
       "      <th>body_rf</th>\n",
       "      <th>clean_body</th>\n",
       "    </tr>\n",
       "  </thead>\n",
       "  <tbody>\n",
       "    <tr>\n",
       "      <th>0</th>\n",
       "      <td>9716</td>\n",
       "      <td>michelle.cash@enron.com</td>\n",
       "      <td>1998-12-21 05:29:00</td>\n",
       "      <td>Brent,Attached is a form indemnification agree...</td>\n",
       "      <td>brent.hendry@enron.com mark.e.taylor@enron.com</td>\n",
       "      <td>Brent,Attached is a form indemnification agree...</td>\n",
       "      <td>Brent,Attached is a form indemnification agree...</td>\n",
       "      <td>brent attached form indemnification agreement ...</td>\n",
       "    </tr>\n",
       "    <tr>\n",
       "      <th>1</th>\n",
       "      <td>7830</td>\n",
       "      <td>christian.yoder@enron.com</td>\n",
       "      <td>1999-03-02 07:30:00</td>\n",
       "      <td>As you are already aware,  the West desk is ma...</td>\n",
       "      <td>elizabeth.sager@enron.com mark.e.taylor@enron....</td>\n",
       "      <td>As you are already aware,  the West desk is ma...</td>\n",
       "      <td>As you are already aware,  the West desk is ma...</td>\n",
       "      <td>already aware west desk making efforts introdu...</td>\n",
       "    </tr>\n",
       "    <tr>\n",
       "      <th>2</th>\n",
       "      <td>90523</td>\n",
       "      <td>larry.f.campbell@enron.com</td>\n",
       "      <td>1999-05-03 09:44:00</td>\n",
       "      <td>Go for it!George Robinson04/27/99 04:14 PMTo: ...</td>\n",
       "      <td>butch.russell@enron.com george.robinson@enron.com</td>\n",
       "      <td>Go for it!George Robinson04/27/99 04:14 PMTo: ...</td>\n",
       "      <td>NNG Gomez Water DisposalI began discussions r...</td>\n",
       "      <td>nng gomez water disposali began discussions re...</td>\n",
       "    </tr>\n",
       "    <tr>\n",
       "      <th>3</th>\n",
       "      <td>89618</td>\n",
       "      <td>larry.f.campbell@enron.com</td>\n",
       "      <td>1999-05-05 05:27:00</td>\n",
       "      <td>Just a short message to apprise everyone of th...</td>\n",
       "      <td>william.kendrick@enron.com rick.cates@enron.co...</td>\n",
       "      <td>Just a short message to apprise everyone of th...</td>\n",
       "      <td>Just a short message to apprise everyone of th...</td>\n",
       "      <td>short message apprise everyone cleaning result...</td>\n",
       "    </tr>\n",
       "    <tr>\n",
       "      <th>4</th>\n",
       "      <td>89475</td>\n",
       "      <td>larry.f.campbell@enron.com</td>\n",
       "      <td>1999-05-05 05:27:00</td>\n",
       "      <td>Just a short message to apprise everyone of th...</td>\n",
       "      <td>william.kendrick@enron.com rick.cates@enron.co...</td>\n",
       "      <td>Just a short message to apprise everyone of th...</td>\n",
       "      <td>Just a short message to apprise everyone of th...</td>\n",
       "      <td>short message apprise everyone cleaning result...</td>\n",
       "    </tr>\n",
       "  </tbody>\n",
       "</table>\n",
       "</div>"
      ],
      "text/plain": [
       "     mid                      sender                 date  \\\n",
       "0   9716     michelle.cash@enron.com  1998-12-21 05:29:00   \n",
       "1   7830   christian.yoder@enron.com  1999-03-02 07:30:00   \n",
       "2  90523  larry.f.campbell@enron.com  1999-05-03 09:44:00   \n",
       "3  89618  larry.f.campbell@enron.com  1999-05-05 05:27:00   \n",
       "4  89475  larry.f.campbell@enron.com  1999-05-05 05:27:00   \n",
       "\n",
       "                                                body  \\\n",
       "0  Brent,Attached is a form indemnification agree...   \n",
       "1  As you are already aware,  the West desk is ma...   \n",
       "2  Go for it!George Robinson04/27/99 04:14 PMTo: ...   \n",
       "3  Just a short message to apprise everyone of th...   \n",
       "4  Just a short message to apprise everyone of th...   \n",
       "\n",
       "                                          recipients  \\\n",
       "0     brent.hendry@enron.com mark.e.taylor@enron.com   \n",
       "1  elizabeth.sager@enron.com mark.e.taylor@enron....   \n",
       "2  butch.russell@enron.com george.robinson@enron.com   \n",
       "3  william.kendrick@enron.com rick.cates@enron.co...   \n",
       "4  william.kendrick@enron.com rick.cates@enron.co...   \n",
       "\n",
       "                                             body_rt  \\\n",
       "0  Brent,Attached is a form indemnification agree...   \n",
       "1  As you are already aware,  the West desk is ma...   \n",
       "2  Go for it!George Robinson04/27/99 04:14 PMTo: ...   \n",
       "3  Just a short message to apprise everyone of th...   \n",
       "4  Just a short message to apprise everyone of th...   \n",
       "\n",
       "                                             body_rf  \\\n",
       "0  Brent,Attached is a form indemnification agree...   \n",
       "1  As you are already aware,  the West desk is ma...   \n",
       "2   NNG Gomez Water DisposalI began discussions r...   \n",
       "3  Just a short message to apprise everyone of th...   \n",
       "4  Just a short message to apprise everyone of th...   \n",
       "\n",
       "                                          clean_body  \n",
       "0  brent attached form indemnification agreement ...  \n",
       "1  already aware west desk making efforts introdu...  \n",
       "2  nng gomez water disposali began discussions re...  \n",
       "3  short message apprise everyone cleaning result...  \n",
       "4  short message apprise everyone cleaning result...  "
      ]
     },
     "execution_count": 48,
     "metadata": {},
     "output_type": "execute_result"
    }
   ],
   "source": [
    "training_df.head()"
   ]
  },
  {
   "cell_type": "code",
   "execution_count": 49,
   "metadata": {
    "collapsed": false
   },
   "outputs": [
    {
     "data": {
      "text/html": [
       "<div>\n",
       "<table border=\"1\" class=\"dataframe\">\n",
       "  <thead>\n",
       "    <tr style=\"text-align: right;\">\n",
       "      <th></th>\n",
       "      <th>mid</th>\n",
       "      <th>sender</th>\n",
       "      <th>date</th>\n",
       "      <th>body</th>\n",
       "      <th>body_rt</th>\n",
       "      <th>body_rf</th>\n",
       "      <th>clean_body</th>\n",
       "    </tr>\n",
       "  </thead>\n",
       "  <tbody>\n",
       "    <tr>\n",
       "      <th>0</th>\n",
       "      <td>284098</td>\n",
       "      <td>jonathan.mckay@enron.com</td>\n",
       "      <td>2001-11-02 05:25:29</td>\n",
       "      <td>How is everyone.....mother, child.........fath...</td>\n",
       "      <td>How is everyone.....mother, child.........fath...</td>\n",
       "      <td>How is everyone.....mother, child.........fath...</td>\n",
       "      <td>everyone mother child father hope everything w...</td>\n",
       "    </tr>\n",
       "    <tr>\n",
       "      <th>1</th>\n",
       "      <td>272008</td>\n",
       "      <td>dutch.quigley@enron.com</td>\n",
       "      <td>2001-11-02 05:34:55</td>\n",
       "      <td>-----Original Message-----From: \\tWesner-Soon...</td>\n",
       "      <td>-----Original Message-----From:  Wesner-Soong...</td>\n",
       "      <td>-----Original Message----- FW: Contracts that...</td>\n",
       "      <td>original message fw contracts need xpitted out...</td>\n",
       "    </tr>\n",
       "    <tr>\n",
       "      <th>2</th>\n",
       "      <td>49273</td>\n",
       "      <td>james.d.steffes@enron.com</td>\n",
       "      <td>2001-11-02 05:57:55</td>\n",
       "      <td>Janine -Ok for you to cover the whole country....</td>\n",
       "      <td>Janine -Ok for you to cover the whole country....</td>\n",
       "      <td>Janine -Ok for you to cover the whole country....</td>\n",
       "      <td>janine ok cover whole country forgotten discus...</td>\n",
       "    </tr>\n",
       "    <tr>\n",
       "      <th>3</th>\n",
       "      <td>71901</td>\n",
       "      <td>kim.ward@enron.com</td>\n",
       "      <td>2001-11-02 06:10:47</td>\n",
       "      <td>when?</td>\n",
       "      <td>when?</td>\n",
       "      <td>when?</td>\n",
       "      <td></td>\n",
       "    </tr>\n",
       "    <tr>\n",
       "      <th>4</th>\n",
       "      <td>82354</td>\n",
       "      <td>barry.tycholiz@enron.com</td>\n",
       "      <td>2001-11-02 06:17:44</td>\n",
       "      <td>WOW.... I am positive that your beautiful wife...</td>\n",
       "      <td>WOW.... I am positive that your beautiful wife...</td>\n",
       "      <td>WOW.... I am positive that your beautiful wife...</td>\n",
       "      <td>wow positive beautiful wife sign hauling three...</td>\n",
       "    </tr>\n",
       "  </tbody>\n",
       "</table>\n",
       "</div>"
      ],
      "text/plain": [
       "      mid                     sender                 date  \\\n",
       "0  284098   jonathan.mckay@enron.com  2001-11-02 05:25:29   \n",
       "1  272008    dutch.quigley@enron.com  2001-11-02 05:34:55   \n",
       "2   49273  james.d.steffes@enron.com  2001-11-02 05:57:55   \n",
       "3   71901         kim.ward@enron.com  2001-11-02 06:10:47   \n",
       "4   82354   barry.tycholiz@enron.com  2001-11-02 06:17:44   \n",
       "\n",
       "                                                body  \\\n",
       "0  How is everyone.....mother, child.........fath...   \n",
       "1   -----Original Message-----From: \\tWesner-Soon...   \n",
       "2  Janine -Ok for you to cover the whole country....   \n",
       "3                                              when?   \n",
       "4  WOW.... I am positive that your beautiful wife...   \n",
       "\n",
       "                                             body_rt  \\\n",
       "0  How is everyone.....mother, child.........fath...   \n",
       "1   -----Original Message-----From:  Wesner-Soong...   \n",
       "2  Janine -Ok for you to cover the whole country....   \n",
       "3                                              when?   \n",
       "4  WOW.... I am positive that your beautiful wife...   \n",
       "\n",
       "                                             body_rf  \\\n",
       "0  How is everyone.....mother, child.........fath...   \n",
       "1   -----Original Message----- FW: Contracts that...   \n",
       "2  Janine -Ok for you to cover the whole country....   \n",
       "3                                              when?   \n",
       "4  WOW.... I am positive that your beautiful wife...   \n",
       "\n",
       "                                          clean_body  \n",
       "0  everyone mother child father hope everything w...  \n",
       "1  original message fw contracts need xpitted out...  \n",
       "2  janine ok cover whole country forgotten discus...  \n",
       "3                                                     \n",
       "4  wow positive beautiful wife sign hauling three...  "
      ]
     },
     "execution_count": 49,
     "metadata": {},
     "output_type": "execute_result"
    }
   ],
   "source": [
    "test_df.head()"
   ]
  },
  {
   "cell_type": "code",
   "execution_count": 28,
   "metadata": {
    "collapsed": true
   },
   "outputs": [],
   "source": [
    "#Save\n",
    "training_df.to_csv(path_to_results + 'training_df.csv', index = False)\n",
    "test_df.to_csv(path_to_results + 'test_df.csv', index = False)"
   ]
  },
  {
   "cell_type": "markdown",
   "metadata": {},
   "source": [
    "### 3 - Address books containing all recipients and number of emails sent per individual"
   ]
  },
  {
   "cell_type": "code",
   "execution_count": 50,
   "metadata": {
    "collapsed": false
   },
   "outputs": [
    {
     "name": "stderr",
     "output_type": "stream",
     "text": [
      "                                                                               \r"
     ]
    }
   ],
   "source": [
    "address_books = get_address_books(training_info, training_set)"
   ]
  },
  {
   "cell_type": "code",
   "execution_count": 51,
   "metadata": {
    "collapsed": false
   },
   "outputs": [
    {
     "data": {
      "text/plain": [
       "[('mark.e.taylor@enron.com', 416),\n",
       " ('susan.bailey@enron.com', 331),\n",
       " ('tana.jones@enron.com', 325),\n",
       " ('brent.hendry@enron.com', 285),\n",
       " ('kaye.ellis@enron.com', 267),\n",
       " ('stephanie.panus@enron.com', 255),\n",
       " ('carol.clair@enron.com', 254),\n",
       " ('marie.heard@enron.com', 246),\n",
       " ('samantha.boyd@enron.com', 236),\n",
       " ('tanya.rohauer@enron.com', 194)]"
      ]
     },
     "execution_count": 51,
     "metadata": {},
     "output_type": "execute_result"
    }
   ],
   "source": [
    "#An example\n",
    "address_books['sara.shackleton@enron.com'][:10]"
   ]
  }
 ],
 "metadata": {
  "kernelspec": {
   "display_name": "Python 3 (ENSAE)",
   "language": "python",
   "name": "python_3_ensae"
  },
  "language_info": {
   "codemirror_mode": {
    "name": "ipython",
    "version": 3
   },
   "file_extension": ".py",
   "mimetype": "text/x-python",
   "name": "python",
   "nbconvert_exporter": "python",
   "pygments_lexer": "ipython3",
   "version": "3.4.3"
  }
 },
 "nbformat": 4,
 "nbformat_minor": 2
}
