{
 "cells": [
  {
   "cell_type": "markdown",
   "metadata": {},
   "source": [
    "<h1> Advanced Learning for Text and Graph Data </h1>\n",
    "<b> Université Paris-Saclay - Master M2 Data Science - February/March 2017</b> <br>\n",
    "<i> Students : Peter Martigny & Mehdi Miah </i> <br>\n",
    "\n",
    "# Third part  : predict and measure the error"
   ]
  },
  {
   "cell_type": "markdown",
   "metadata": {},
   "source": [
    "## Open the data"
   ]
  },
  {
   "cell_type": "code",
   "execution_count": 1,
   "metadata": {
    "collapsed": false
   },
   "outputs": [],
   "source": [
    "#our own modules\n",
    "from map_tools import * #functions computing mean average precision\n",
    "from handy_structures import * #functions creating some structures\n",
    "\n",
    "#common libraries\n",
    "import os\n",
    "import pandas as pd\n",
    "import numpy as np\n",
    "import time\n",
    "import random\n",
    "import pandas as pd\n",
    "from collections import Counter\n",
    "from sklearn.model_selection import train_test_split\n",
    "\n",
    "from matplotlib import pyplot as plt\n",
    "%matplotlib inline\n",
    "\n",
    "from tqdm import * #progress bar\n",
    "\n",
    "#for words analysis\n",
    "import nltk\n",
    "import string\n",
    "from sklearn.feature_extraction.text import TfidfVectorizer\n",
    "from sklearn.metrics.pairwise import cosine_similarity\n",
    "\n",
    "#stemizer\n",
    "from nltk.stem.porter import PorterStemmer\n",
    "stemmer = PorterStemmer()\n",
    "\n",
    "#tokenizer\n",
    "from nltk.tokenize import RegexpTokenizer\n",
    "tokenizer = RegexpTokenizer(r'\\w+') #to remove punctuations\n",
    "\n",
    "#stopwords and TFIDF\n",
    "from nltk.corpus import stopwords\n",
    "all_stopwords = stopwords.words(\"english\")\n",
    "tfidf = TfidfVectorizer(stop_words = all_stopwords)"
   ]
  },
  {
   "cell_type": "code",
   "execution_count": 2,
   "metadata": {
    "collapsed": false
   },
   "outputs": [],
   "source": [
    "#path to data and intermediate results\n",
    "path_to_data = \"../data/\"\n",
    "path_to_results = \"../results/\"\n",
    "\n",
    "## == open files ====\n",
    "\n",
    "#original data\n",
    "training_set = pd.read_csv(path_to_data + 'training_set.csv')\n",
    "training_info = pd.read_csv(path_to_data + 'training_info.csv', \n",
    "                            dtype = {'mid': object, 'date': object, 'body': object, 'recipients' : object})\n",
    "test_set = pd.read_csv(path_to_data + 'test_set.csv')\n",
    "test_info = pd.read_csv(path_to_data + 'test_info.csv',\n",
    "                        dtype = {'mid': object, 'date': object, 'body': object, 'recipients' : object})\n",
    "\n",
    "#intermediate data\n",
    "training_df = pd.read_csv(path_to_results + 'training_df.csv',\n",
    "                          dtype = {'mid': object, 'sender': object, 'date': object, 'body': object,\n",
    "                                  'body_rt': object, 'body_rf': object, 'clean_body': object, 'recipients' : object,})\n",
    "test_df = pd.read_csv(path_to_results + 'test_df.csv',\n",
    "                          dtype = {'mid': object, 'sender': object, 'date': object, 'body': object, \n",
    "                                  'body_rt': object, 'body_rf': object, 'clean_body': object})"
   ]
  },
  {
   "cell_type": "code",
   "execution_count": 3,
   "metadata": {
    "collapsed": false
   },
   "outputs": [
    {
     "data": {
      "text/html": [
       "<div>\n",
       "<table border=\"1\" class=\"dataframe\">\n",
       "  <thead>\n",
       "    <tr style=\"text-align: right;\">\n",
       "      <th></th>\n",
       "      <th>sender</th>\n",
       "      <th>mids</th>\n",
       "    </tr>\n",
       "  </thead>\n",
       "  <tbody>\n",
       "    <tr>\n",
       "      <th>0</th>\n",
       "      <td>karen.buckley@enron.com</td>\n",
       "      <td>158713 158697 200301 158679 278595 298162 2002...</td>\n",
       "    </tr>\n",
       "    <tr>\n",
       "      <th>1</th>\n",
       "      <td>amr.ibrahim@enron.com</td>\n",
       "      <td>215241 3437 215640 3506 191790 3517 3520 3562 ...</td>\n",
       "    </tr>\n",
       "    <tr>\n",
       "      <th>2</th>\n",
       "      <td>andrea.ring@enron.com</td>\n",
       "      <td>270705 270706 270707 270708 270709 270710 2707...</td>\n",
       "    </tr>\n",
       "    <tr>\n",
       "      <th>3</th>\n",
       "      <td>sylvia.hu@enron.com</td>\n",
       "      <td>111444 111422 183084 111412 111347 110883 1105...</td>\n",
       "    </tr>\n",
       "    <tr>\n",
       "      <th>4</th>\n",
       "      <td>phillip.platter@enron.com</td>\n",
       "      <td>327074 327384 327385 264443 274124 274125 2741...</td>\n",
       "    </tr>\n",
       "  </tbody>\n",
       "</table>\n",
       "</div>"
      ],
      "text/plain": [
       "                      sender  \\\n",
       "0    karen.buckley@enron.com   \n",
       "1      amr.ibrahim@enron.com   \n",
       "2      andrea.ring@enron.com   \n",
       "3        sylvia.hu@enron.com   \n",
       "4  phillip.platter@enron.com   \n",
       "\n",
       "                                                mids  \n",
       "0  158713 158697 200301 158679 278595 298162 2002...  \n",
       "1  215241 3437 215640 3506 191790 3517 3520 3562 ...  \n",
       "2  270705 270706 270707 270708 270709 270710 2707...  \n",
       "3  111444 111422 183084 111412 111347 110883 1105...  \n",
       "4  327074 327384 327385 264443 274124 274125 2741...  "
      ]
     },
     "execution_count": 3,
     "metadata": {},
     "output_type": "execute_result"
    }
   ],
   "source": [
    "training_set.head()"
   ]
  },
  {
   "cell_type": "code",
   "execution_count": 4,
   "metadata": {
    "collapsed": false
   },
   "outputs": [
    {
     "data": {
      "text/html": [
       "<div>\n",
       "<table border=\"1\" class=\"dataframe\">\n",
       "  <thead>\n",
       "    <tr style=\"text-align: right;\">\n",
       "      <th></th>\n",
       "      <th>mid</th>\n",
       "      <th>date</th>\n",
       "      <th>body</th>\n",
       "      <th>recipients</th>\n",
       "    </tr>\n",
       "  </thead>\n",
       "  <tbody>\n",
       "    <tr>\n",
       "      <th>0</th>\n",
       "      <td>60</td>\n",
       "      <td>2000-07-25 08:14:00</td>\n",
       "      <td>Legal has been assessing the risks of doing bl...</td>\n",
       "      <td>robert.badeer@enron.com murray.o neil@enron.co...</td>\n",
       "    </tr>\n",
       "    <tr>\n",
       "      <th>1</th>\n",
       "      <td>66</td>\n",
       "      <td>2000-08-03 02:56:00</td>\n",
       "      <td>Attached is a spreadsheet to estimate export f...</td>\n",
       "      <td>kim.ward@enron.com robert.badeer@enron.com mur...</td>\n",
       "    </tr>\n",
       "    <tr>\n",
       "      <th>2</th>\n",
       "      <td>74</td>\n",
       "      <td>2000-08-15 05:37:00</td>\n",
       "      <td>Kevin/Bob: Here is a quick rundown on the cons...</td>\n",
       "      <td>robert.badeer@enron.com john.massey@enron.com ...</td>\n",
       "    </tr>\n",
       "    <tr>\n",
       "      <th>3</th>\n",
       "      <td>80</td>\n",
       "      <td>2000-08-20 14:12:00</td>\n",
       "      <td>check this out and let everyone know what s up...</td>\n",
       "      <td>robert.badeer@enron.com jeff.richter@enron.com</td>\n",
       "    </tr>\n",
       "    <tr>\n",
       "      <th>4</th>\n",
       "      <td>83</td>\n",
       "      <td>2000-08-22 08:17:00</td>\n",
       "      <td>Further to your letter to us (addressed to Mr....</td>\n",
       "      <td>pgillman@schiffhardin.com kamarlantes@calpx.co...</td>\n",
       "    </tr>\n",
       "  </tbody>\n",
       "</table>\n",
       "</div>"
      ],
      "text/plain": [
       "  mid                 date                                               body  \\\n",
       "0  60  2000-07-25 08:14:00  Legal has been assessing the risks of doing bl...   \n",
       "1  66  2000-08-03 02:56:00  Attached is a spreadsheet to estimate export f...   \n",
       "2  74  2000-08-15 05:37:00  Kevin/Bob: Here is a quick rundown on the cons...   \n",
       "3  80  2000-08-20 14:12:00  check this out and let everyone know what s up...   \n",
       "4  83  2000-08-22 08:17:00  Further to your letter to us (addressed to Mr....   \n",
       "\n",
       "                                          recipients  \n",
       "0  robert.badeer@enron.com murray.o neil@enron.co...  \n",
       "1  kim.ward@enron.com robert.badeer@enron.com mur...  \n",
       "2  robert.badeer@enron.com john.massey@enron.com ...  \n",
       "3     robert.badeer@enron.com jeff.richter@enron.com  \n",
       "4  pgillman@schiffhardin.com kamarlantes@calpx.co...  "
      ]
     },
     "execution_count": 4,
     "metadata": {},
     "output_type": "execute_result"
    }
   ],
   "source": [
    "training_info.head()"
   ]
  },
  {
   "cell_type": "code",
   "execution_count": 5,
   "metadata": {
    "collapsed": false
   },
   "outputs": [
    {
     "data": {
      "text/html": [
       "<div>\n",
       "<table border=\"1\" class=\"dataframe\">\n",
       "  <thead>\n",
       "    <tr style=\"text-align: right;\">\n",
       "      <th></th>\n",
       "      <th>sender</th>\n",
       "      <th>mids</th>\n",
       "    </tr>\n",
       "  </thead>\n",
       "  <tbody>\n",
       "    <tr>\n",
       "      <th>0</th>\n",
       "      <td>karen.buckley@enron.com</td>\n",
       "      <td>298389 332383 298390 284071 366982 81773 81791...</td>\n",
       "    </tr>\n",
       "    <tr>\n",
       "      <th>1</th>\n",
       "      <td>amr.ibrahim@enron.com</td>\n",
       "      <td>48260 48465 50344 48268 50330 48237 189979 189...</td>\n",
       "    </tr>\n",
       "    <tr>\n",
       "      <th>2</th>\n",
       "      <td>andrea.ring@enron.com</td>\n",
       "      <td>366364 271168 271172 271167 271189</td>\n",
       "    </tr>\n",
       "    <tr>\n",
       "      <th>3</th>\n",
       "      <td>sylvia.hu@enron.com</td>\n",
       "      <td>134931 134856 233549 233517 134895 233584 3736...</td>\n",
       "    </tr>\n",
       "    <tr>\n",
       "      <th>4</th>\n",
       "      <td>phillip.platter@enron.com</td>\n",
       "      <td>274220 274225 274215 274223 274214 274207 2742...</td>\n",
       "    </tr>\n",
       "  </tbody>\n",
       "</table>\n",
       "</div>"
      ],
      "text/plain": [
       "                      sender  \\\n",
       "0    karen.buckley@enron.com   \n",
       "1      amr.ibrahim@enron.com   \n",
       "2      andrea.ring@enron.com   \n",
       "3        sylvia.hu@enron.com   \n",
       "4  phillip.platter@enron.com   \n",
       "\n",
       "                                                mids  \n",
       "0  298389 332383 298390 284071 366982 81773 81791...  \n",
       "1  48260 48465 50344 48268 50330 48237 189979 189...  \n",
       "2                 366364 271168 271172 271167 271189  \n",
       "3  134931 134856 233549 233517 134895 233584 3736...  \n",
       "4  274220 274225 274215 274223 274214 274207 2742...  "
      ]
     },
     "execution_count": 5,
     "metadata": {},
     "output_type": "execute_result"
    }
   ],
   "source": [
    "test_set.head()"
   ]
  },
  {
   "cell_type": "code",
   "execution_count": 6,
   "metadata": {
    "collapsed": false
   },
   "outputs": [
    {
     "data": {
      "text/html": [
       "<div>\n",
       "<table border=\"1\" class=\"dataframe\">\n",
       "  <thead>\n",
       "    <tr style=\"text-align: right;\">\n",
       "      <th></th>\n",
       "      <th>mid</th>\n",
       "      <th>date</th>\n",
       "      <th>body</th>\n",
       "    </tr>\n",
       "  </thead>\n",
       "  <tbody>\n",
       "    <tr>\n",
       "      <th>0</th>\n",
       "      <td>1577</td>\n",
       "      <td>2001-11-19 06:59:51</td>\n",
       "      <td>Note:  Stocks of heating oil are very high for...</td>\n",
       "    </tr>\n",
       "    <tr>\n",
       "      <th>1</th>\n",
       "      <td>1750</td>\n",
       "      <td>2002-03-05 08:46:57</td>\n",
       "      <td>Kevin Hyatt and I are going for \"sghetti\" at S...</td>\n",
       "    </tr>\n",
       "    <tr>\n",
       "      <th>2</th>\n",
       "      <td>1916</td>\n",
       "      <td>2002-02-13 14:17:39</td>\n",
       "      <td>This was forwarded to me and it is funny. - Wi...</td>\n",
       "    </tr>\n",
       "    <tr>\n",
       "      <th>3</th>\n",
       "      <td>2094</td>\n",
       "      <td>2002-01-22 11:33:56</td>\n",
       "      <td>I will be in to and happy to assist too.  I ma...</td>\n",
       "    </tr>\n",
       "    <tr>\n",
       "      <th>4</th>\n",
       "      <td>2205</td>\n",
       "      <td>2002-01-11 07:12:19</td>\n",
       "      <td>Thanks. I needed a morning chuckle.</td>\n",
       "    </tr>\n",
       "  </tbody>\n",
       "</table>\n",
       "</div>"
      ],
      "text/plain": [
       "    mid                 date  \\\n",
       "0  1577  2001-11-19 06:59:51   \n",
       "1  1750  2002-03-05 08:46:57   \n",
       "2  1916  2002-02-13 14:17:39   \n",
       "3  2094  2002-01-22 11:33:56   \n",
       "4  2205  2002-01-11 07:12:19   \n",
       "\n",
       "                                                body  \n",
       "0  Note:  Stocks of heating oil are very high for...  \n",
       "1  Kevin Hyatt and I are going for \"sghetti\" at S...  \n",
       "2  This was forwarded to me and it is funny. - Wi...  \n",
       "3  I will be in to and happy to assist too.  I ma...  \n",
       "4                Thanks. I needed a morning chuckle.  "
      ]
     },
     "execution_count": 6,
     "metadata": {},
     "output_type": "execute_result"
    }
   ],
   "source": [
    "test_info.head()"
   ]
  },
  {
   "cell_type": "code",
   "execution_count": 7,
   "metadata": {
    "collapsed": false
   },
   "outputs": [
    {
     "data": {
      "text/html": [
       "<div>\n",
       "<table border=\"1\" class=\"dataframe\">\n",
       "  <thead>\n",
       "    <tr style=\"text-align: right;\">\n",
       "      <th></th>\n",
       "      <th>mid</th>\n",
       "      <th>sender</th>\n",
       "      <th>date</th>\n",
       "      <th>body</th>\n",
       "      <th>recipients</th>\n",
       "      <th>body_rt</th>\n",
       "      <th>body_rf</th>\n",
       "      <th>clean_body</th>\n",
       "    </tr>\n",
       "  </thead>\n",
       "  <tbody>\n",
       "    <tr>\n",
       "      <th>0</th>\n",
       "      <td>9716</td>\n",
       "      <td>michelle.cash@enron.com</td>\n",
       "      <td>1998-12-21 05:29:00</td>\n",
       "      <td>Brent,Attached is a form indemnification agree...</td>\n",
       "      <td>brent.hendry@enron.com mark.e.taylor@enron.com</td>\n",
       "      <td>Brent,Attached is a form indemnification agree...</td>\n",
       "      <td>Brent,Attached is a form indemnification agree...</td>\n",
       "      <td>brent attached form indemnification agreement ...</td>\n",
       "    </tr>\n",
       "    <tr>\n",
       "      <th>1</th>\n",
       "      <td>7830</td>\n",
       "      <td>christian.yoder@enron.com</td>\n",
       "      <td>1999-03-02 07:30:00</td>\n",
       "      <td>As you are already aware,  the West desk is ma...</td>\n",
       "      <td>elizabeth.sager@enron.com mark.e.taylor@enron....</td>\n",
       "      <td>As you are already aware,  the West desk is ma...</td>\n",
       "      <td>As you are already aware,  the West desk is ma...</td>\n",
       "      <td>already aware west desk making efforts introdu...</td>\n",
       "    </tr>\n",
       "    <tr>\n",
       "      <th>2</th>\n",
       "      <td>90523</td>\n",
       "      <td>larry.f.campbell@enron.com</td>\n",
       "      <td>1999-05-03 09:44:00</td>\n",
       "      <td>Go for it!George Robinson04/27/99 04:14 PMTo: ...</td>\n",
       "      <td>butch.russell@enron.com george.robinson@enron.com</td>\n",
       "      <td>Go for it!George Robinson04/27/99 04:14 PMTo: ...</td>\n",
       "      <td>NNG Gomez Water DisposalI began discussions r...</td>\n",
       "      <td>nng gomez water disposali began discussions re...</td>\n",
       "    </tr>\n",
       "    <tr>\n",
       "      <th>3</th>\n",
       "      <td>89618</td>\n",
       "      <td>larry.f.campbell@enron.com</td>\n",
       "      <td>1999-05-05 05:27:00</td>\n",
       "      <td>Just a short message to apprise everyone of th...</td>\n",
       "      <td>william.kendrick@enron.com rick.cates@enron.co...</td>\n",
       "      <td>Just a short message to apprise everyone of th...</td>\n",
       "      <td>Just a short message to apprise everyone of th...</td>\n",
       "      <td>short message apprise everyone cleaning result...</td>\n",
       "    </tr>\n",
       "    <tr>\n",
       "      <th>4</th>\n",
       "      <td>89475</td>\n",
       "      <td>larry.f.campbell@enron.com</td>\n",
       "      <td>1999-05-05 05:27:00</td>\n",
       "      <td>Just a short message to apprise everyone of th...</td>\n",
       "      <td>william.kendrick@enron.com rick.cates@enron.co...</td>\n",
       "      <td>Just a short message to apprise everyone of th...</td>\n",
       "      <td>Just a short message to apprise everyone of th...</td>\n",
       "      <td>short message apprise everyone cleaning result...</td>\n",
       "    </tr>\n",
       "  </tbody>\n",
       "</table>\n",
       "</div>"
      ],
      "text/plain": [
       "     mid                      sender                 date  \\\n",
       "0   9716     michelle.cash@enron.com  1998-12-21 05:29:00   \n",
       "1   7830   christian.yoder@enron.com  1999-03-02 07:30:00   \n",
       "2  90523  larry.f.campbell@enron.com  1999-05-03 09:44:00   \n",
       "3  89618  larry.f.campbell@enron.com  1999-05-05 05:27:00   \n",
       "4  89475  larry.f.campbell@enron.com  1999-05-05 05:27:00   \n",
       "\n",
       "                                                body  \\\n",
       "0  Brent,Attached is a form indemnification agree...   \n",
       "1  As you are already aware,  the West desk is ma...   \n",
       "2  Go for it!George Robinson04/27/99 04:14 PMTo: ...   \n",
       "3  Just a short message to apprise everyone of th...   \n",
       "4  Just a short message to apprise everyone of th...   \n",
       "\n",
       "                                          recipients  \\\n",
       "0     brent.hendry@enron.com mark.e.taylor@enron.com   \n",
       "1  elizabeth.sager@enron.com mark.e.taylor@enron....   \n",
       "2  butch.russell@enron.com george.robinson@enron.com   \n",
       "3  william.kendrick@enron.com rick.cates@enron.co...   \n",
       "4  william.kendrick@enron.com rick.cates@enron.co...   \n",
       "\n",
       "                                             body_rt  \\\n",
       "0  Brent,Attached is a form indemnification agree...   \n",
       "1  As you are already aware,  the West desk is ma...   \n",
       "2  Go for it!George Robinson04/27/99 04:14 PMTo: ...   \n",
       "3  Just a short message to apprise everyone of th...   \n",
       "4  Just a short message to apprise everyone of th...   \n",
       "\n",
       "                                             body_rf  \\\n",
       "0  Brent,Attached is a form indemnification agree...   \n",
       "1  As you are already aware,  the West desk is ma...   \n",
       "2   NNG Gomez Water DisposalI began discussions r...   \n",
       "3  Just a short message to apprise everyone of th...   \n",
       "4  Just a short message to apprise everyone of th...   \n",
       "\n",
       "                                          clean_body  \n",
       "0  brent attached form indemnification agreement ...  \n",
       "1  already aware west desk making efforts introdu...  \n",
       "2  nng gomez water disposali began discussions re...  \n",
       "3  short message apprise everyone cleaning result...  \n",
       "4  short message apprise everyone cleaning result...  "
      ]
     },
     "execution_count": 7,
     "metadata": {},
     "output_type": "execute_result"
    }
   ],
   "source": [
    "training_df.head()"
   ]
  },
  {
   "cell_type": "code",
   "execution_count": 8,
   "metadata": {
    "collapsed": false
   },
   "outputs": [
    {
     "data": {
      "text/html": [
       "<div>\n",
       "<table border=\"1\" class=\"dataframe\">\n",
       "  <thead>\n",
       "    <tr style=\"text-align: right;\">\n",
       "      <th></th>\n",
       "      <th>mid</th>\n",
       "      <th>sender</th>\n",
       "      <th>date</th>\n",
       "      <th>body</th>\n",
       "      <th>body_rt</th>\n",
       "      <th>body_rf</th>\n",
       "      <th>clean_body</th>\n",
       "    </tr>\n",
       "  </thead>\n",
       "  <tbody>\n",
       "    <tr>\n",
       "      <th>0</th>\n",
       "      <td>284098</td>\n",
       "      <td>jonathan.mckay@enron.com</td>\n",
       "      <td>2001-11-02 05:25:29</td>\n",
       "      <td>How is everyone.....mother, child.........fath...</td>\n",
       "      <td>How is everyone.....mother, child.........fath...</td>\n",
       "      <td>How is everyone.....mother, child.........fath...</td>\n",
       "      <td>everyone mother child father hope everything w...</td>\n",
       "    </tr>\n",
       "    <tr>\n",
       "      <th>1</th>\n",
       "      <td>272008</td>\n",
       "      <td>dutch.quigley@enron.com</td>\n",
       "      <td>2001-11-02 05:34:55</td>\n",
       "      <td>-----Original Message-----From: \\tWesner-Soon...</td>\n",
       "      <td>-----Original Message-----From:  Wesner-Soong...</td>\n",
       "      <td>-----Original Message----- FW: Contracts that...</td>\n",
       "      <td>original message fw contracts need xpitted out...</td>\n",
       "    </tr>\n",
       "    <tr>\n",
       "      <th>2</th>\n",
       "      <td>49273</td>\n",
       "      <td>james.d.steffes@enron.com</td>\n",
       "      <td>2001-11-02 05:57:55</td>\n",
       "      <td>Janine -Ok for you to cover the whole country....</td>\n",
       "      <td>Janine -Ok for you to cover the whole country....</td>\n",
       "      <td>Janine -Ok for you to cover the whole country....</td>\n",
       "      <td>janine ok cover whole country forgotten discus...</td>\n",
       "    </tr>\n",
       "    <tr>\n",
       "      <th>3</th>\n",
       "      <td>71901</td>\n",
       "      <td>kim.ward@enron.com</td>\n",
       "      <td>2001-11-02 06:10:47</td>\n",
       "      <td>when?</td>\n",
       "      <td>when?</td>\n",
       "      <td>when?</td>\n",
       "      <td>NaN</td>\n",
       "    </tr>\n",
       "    <tr>\n",
       "      <th>4</th>\n",
       "      <td>82354</td>\n",
       "      <td>barry.tycholiz@enron.com</td>\n",
       "      <td>2001-11-02 06:17:44</td>\n",
       "      <td>WOW.... I am positive that your beautiful wife...</td>\n",
       "      <td>WOW.... I am positive that your beautiful wife...</td>\n",
       "      <td>WOW.... I am positive that your beautiful wife...</td>\n",
       "      <td>wow positive beautiful wife sign hauling three...</td>\n",
       "    </tr>\n",
       "  </tbody>\n",
       "</table>\n",
       "</div>"
      ],
      "text/plain": [
       "      mid                     sender                 date  \\\n",
       "0  284098   jonathan.mckay@enron.com  2001-11-02 05:25:29   \n",
       "1  272008    dutch.quigley@enron.com  2001-11-02 05:34:55   \n",
       "2   49273  james.d.steffes@enron.com  2001-11-02 05:57:55   \n",
       "3   71901         kim.ward@enron.com  2001-11-02 06:10:47   \n",
       "4   82354   barry.tycholiz@enron.com  2001-11-02 06:17:44   \n",
       "\n",
       "                                                body  \\\n",
       "0  How is everyone.....mother, child.........fath...   \n",
       "1   -----Original Message-----From: \\tWesner-Soon...   \n",
       "2  Janine -Ok for you to cover the whole country....   \n",
       "3                                              when?   \n",
       "4  WOW.... I am positive that your beautiful wife...   \n",
       "\n",
       "                                             body_rt  \\\n",
       "0  How is everyone.....mother, child.........fath...   \n",
       "1   -----Original Message-----From:  Wesner-Soong...   \n",
       "2  Janine -Ok for you to cover the whole country....   \n",
       "3                                              when?   \n",
       "4  WOW.... I am positive that your beautiful wife...   \n",
       "\n",
       "                                             body_rf  \\\n",
       "0  How is everyone.....mother, child.........fath...   \n",
       "1   -----Original Message----- FW: Contracts that...   \n",
       "2  Janine -Ok for you to cover the whole country....   \n",
       "3                                              when?   \n",
       "4  WOW.... I am positive that your beautiful wife...   \n",
       "\n",
       "                                          clean_body  \n",
       "0  everyone mother child father hope everything w...  \n",
       "1  original message fw contracts need xpitted out...  \n",
       "2  janine ok cover whole country forgotten discus...  \n",
       "3                                                NaN  \n",
       "4  wow positive beautiful wife sign hauling three...  "
      ]
     },
     "execution_count": 8,
     "metadata": {},
     "output_type": "execute_result"
    }
   ],
   "source": [
    "test_df.head()"
   ]
  },
  {
   "cell_type": "markdown",
   "metadata": {},
   "source": [
    "# Cross validation"
   ]
  },
  {
   "cell_type": "code",
   "execution_count": 9,
   "metadata": {
    "collapsed": true
   },
   "outputs": [],
   "source": [
    "#Need to remove mails when the clean body is empty\n",
    "training_df = training_df.dropna()\n",
    "training_df = training_df.reset_index(drop=True)\n",
    "#One cannot do that for test_df because, otherwise, one would lose some instances."
   ]
  },
  {
   "cell_type": "code",
   "execution_count": 10,
   "metadata": {
    "collapsed": true
   },
   "outputs": [],
   "source": [
    "#choice of cross_validation\n",
    "# 2 : temporal split with one date (percentage version)\n",
    "# 1 : pure randomness\n",
    "# 4 : temporal split for each sender (different dates of split)\n",
    "# 3 : temporal split with one date (date version)\n",
    "cv_choice = 3"
   ]
  },
  {
   "cell_type": "code",
   "execution_count": 11,
   "metadata": {
    "collapsed": true
   },
   "outputs": [],
   "source": [
    "# All the senders present in the training set\n",
    "training_all_senders = training_set['sender'].get_values()"
   ]
  },
  {
   "cell_type": "markdown",
   "metadata": {},
   "source": [
    "### first way : pure randomness"
   ]
  },
  {
   "cell_type": "code",
   "execution_count": 12,
   "metadata": {
    "collapsed": true
   },
   "outputs": [],
   "source": [
    "if cv_choice == 1: \n",
    "    training_df_train, training_df_test = train_test_split(training_df, test_size=0.2, random_state=0)\n",
    "\n",
    "    training_df_train = training_df_train.reset_index(drop=True)\n",
    "    training_df_test = training_df_test.reset_index(drop=True)"
   ]
  },
  {
   "cell_type": "markdown",
   "metadata": {},
   "source": [
    "### second way : temporal on all emails"
   ]
  },
  {
   "cell_type": "code",
   "execution_count": 13,
   "metadata": {
    "collapsed": false
   },
   "outputs": [],
   "source": [
    "if cv_choice == 2 :\n",
    "    #Temporal separation between training and test\n",
    "    # already time ordered\n",
    "    pct_train = 0.8\n",
    "    limit = round(pct_train * training_df.shape[0])\n",
    "    training_df_train = training_df[:limit]\n",
    "    training_df_test = training_df[limit:]"
   ]
  },
  {
   "cell_type": "markdown",
   "metadata": {},
   "source": [
    "Some users are in the test set and NOT in the train set : mike.carson@enron.com, vkaminski@aol.com and christina.valdez@enron.com !\n"
   ]
  },
  {
   "cell_type": "code",
   "execution_count": 14,
   "metadata": {
    "collapsed": false
   },
   "outputs": [
    {
     "data": {
      "text/plain": [
       "'2001-10-25 14:08:33'"
      ]
     },
     "execution_count": 14,
     "metadata": {},
     "output_type": "execute_result"
    }
   ],
   "source": [
    "max(training_df[training_df['sender'] == 'mike.carson@enron.com']['date'])"
   ]
  },
  {
   "cell_type": "code",
   "execution_count": 15,
   "metadata": {
    "collapsed": false
   },
   "outputs": [
    {
     "data": {
      "text/plain": [
       "'2001-10-27 23:23:33'"
      ]
     },
     "execution_count": 15,
     "metadata": {},
     "output_type": "execute_result"
    }
   ],
   "source": [
    "max(training_df[training_df['sender'] == 'vkaminski@aol.com']['date'])"
   ]
  },
  {
   "cell_type": "code",
   "execution_count": 16,
   "metadata": {
    "collapsed": false
   },
   "outputs": [
    {
     "data": {
      "text/plain": [
       "'2001-10-25 16:05:47'"
      ]
     },
     "execution_count": 16,
     "metadata": {},
     "output_type": "execute_result"
    }
   ],
   "source": [
    "max(training_df[training_df['sender'] == 'christina.valdez@enron.com']['date'])"
   ]
  },
  {
   "cell_type": "markdown",
   "metadata": {},
   "source": [
    "### third way : date split"
   ]
  },
  {
   "cell_type": "code",
   "execution_count": 17,
   "metadata": {
    "collapsed": false
   },
   "outputs": [],
   "source": [
    "if cv_choice == 3:\n",
    "    split_date='2001-08-20'\n",
    "    training_df_train = training_df[training_df.date <= split_date]\n",
    "    training_df_test = training_df[training_df.date > split_date]\n",
    "    \n",
    "    training_df_test = training_df_test.reset_index(drop=True) #reindex"
   ]
  },
  {
   "cell_type": "markdown",
   "metadata": {},
   "source": [
    "### fourth way : temporal by user"
   ]
  },
  {
   "cell_type": "code",
   "execution_count": 18,
   "metadata": {
    "collapsed": false
   },
   "outputs": [],
   "source": [
    "if  cv_choice == 4:\n",
    "    def split_data_v4(training_df, training_all_senders, pct_train = 0.8):\n",
    "        #Initialisation of the two dataframe for learning and testing\n",
    "        training_df_train = pd.DataFrame()\n",
    "        training_df_test = pd.DataFrame()\n",
    "\n",
    "        #We fill the values by taking the oldest emails in the train and the newest in test dataframe\n",
    "        for sender in tqdm(training_all_senders):\n",
    "            #dataframe with all emails sent by the sender\n",
    "            training_df_sender = training_df[training_df['sender'] == sender] #non void\n",
    "            limit = round(pct_train * training_df_sender.shape[0])\n",
    "\n",
    "            training_df_train_sender = training_df_sender[:limit]\n",
    "            training_df_test_sender = training_df_sender[limit:]\n",
    "\n",
    "            training_df_train = training_df_train.append(training_df_train_sender)\n",
    "            training_df_test = training_df_test.append(training_df_test_sender)\n",
    "\n",
    "        #put the right index\n",
    "        training_df_train = training_df_train.reset_index(drop=True)\n",
    "        training_df_test = training_df_test.reset_index(drop=True)\n",
    "\n",
    "        return training_df_train, training_df_test\n",
    "\n",
    "    training_df_train, training_df_test = split_data_v4(training_df, training_all_senders, pct_train = 0.8)"
   ]
  },
  {
   "cell_type": "markdown",
   "metadata": {},
   "source": [
    "### Creation of auxilaire structure (_info and _set)"
   ]
  },
  {
   "cell_type": "code",
   "execution_count": 19,
   "metadata": {
    "collapsed": false
   },
   "outputs": [
    {
     "name": "stderr",
     "output_type": "stream",
     "text": [
      "                                                                               \r"
     ]
    }
   ],
   "source": [
    "# Construction of _set with for each sender, the list of emails\n",
    "\n",
    "#Training\n",
    "training_set_train = pd.DataFrame()\n",
    "for sender in tqdm(training_all_senders): #for each sender\n",
    "    mids = training_df_train[training_df_train['sender'] == sender]['mid'].values.tolist()\n",
    "    mids = ' '.join(list(map(str, mids)))\n",
    "    training_set_train_sender = pd.DataFrame({'sender':[sender], 'mids': [mids]})\n",
    "\n",
    "    training_set_train = training_set_train.append(training_set_train_sender)\n",
    "\n",
    "#reorder the columns\n",
    "training_set_train = training_set_train.reindex_axis(['sender', 'mids'], axis = 1)\n",
    "\n",
    "#add clean index\n",
    "training_set_train = training_set_train.reset_index(drop=True)\n",
    "\n",
    "#Test\n",
    "training_set_test = pd.DataFrame()\n",
    "for sender in tqdm(training_all_senders): #for each sender\n",
    "    mids = training_df_test[training_df_test['sender'] == sender]['mid'].values.tolist()\n",
    "    mids = ' '.join(list(map(str, mids)))\n",
    "    training_set_test_sender = pd.DataFrame({'sender':[sender], 'mids': [mids]})\n",
    "\n",
    "    training_set_test = training_set_test.append(training_set_test_sender)\n",
    "\n",
    "#reorder the columns\n",
    "training_set_test = training_set_test.reindex_axis(['sender', 'mids'], axis = 1)\n",
    "\n",
    "#reindex\n",
    "training_set_test = training_set_test.reset_index(drop=True)"
   ]
  },
  {
   "cell_type": "code",
   "execution_count": 20,
   "metadata": {
    "collapsed": false
   },
   "outputs": [],
   "source": [
    "# Construction of _info with info about each mail\n",
    "\n",
    "#Training\n",
    "mids_train = training_df_train.mid.get_values().astype('str')\n",
    "training_info_train = training_info[(training_info['mid']).isin(mids_train)]\n",
    "\n",
    "#Test\n",
    "mids_test = training_df_test.mid.get_values().astype('str')\n",
    "training_info_test = training_info[(training_info['mid']).isin(mids_test)]"
   ]
  },
  {
   "cell_type": "markdown",
   "metadata": {},
   "source": [
    "### Sanity check on cross validation"
   ]
  },
  {
   "cell_type": "markdown",
   "metadata": {},
   "source": [
    "Let's make some sanity test : "
   ]
  },
  {
   "cell_type": "code",
   "execution_count": 21,
   "metadata": {
    "collapsed": false
   },
   "outputs": [
    {
     "name": "stdout",
     "output_type": "stream",
     "text": [
      "SANITY CHECK ON training for train\n",
      "Number of emails in the full dataframe : 31605 \t _info : 31605 \t _set : 31605 \n",
      "\n",
      "SANITY CHECK ON training for test\n",
      "Number of emails in the full dataframe : 11845 \t _info : 11845 \t _set : 11846 \n",
      "\n",
      "Choice 3 : \u001b[6;30;41mError!\u001b[0m\n"
     ]
    }
   ],
   "source": [
    "## == Check on the number of email in each part ====\n",
    "n_senders = len(training_all_senders)\n",
    "\n",
    "def sanity_check_n_emails(dataset_df, dataset_info, dataset_set, name):\n",
    "    n_mails_dataset_df = dataset_df.shape[0]\n",
    "    n_mails_dataset_info = dataset_info.shape[0]\n",
    "    n_mails_dataset_set = np.sum([len(dataset_set.mids[i].split(' ')) for i in range(n_senders)])\n",
    "    print('SANITY CHECK ON ' + name)\n",
    "    print('Number of emails in the full dataframe : %.0f \\t _info : %.0f \\t _set : %.0f \\n' \n",
    "          %(n_mails_dataset_df, n_mails_dataset_info, n_mails_dataset_set))\n",
    "    return (n_mails_dataset_df == n_mails_dataset_info) & (n_mails_dataset_df == n_mails_dataset_set)\n",
    "\n",
    "#In the training (train + test)\n",
    "#check_training = sanity_check_n_emails(training_df, training_info, training_set, \"training\")\n",
    "\n",
    "#In the train\n",
    "check_train = sanity_check_n_emails(training_df_train, training_info_train ,training_set_train , \"training for train\")\n",
    "\n",
    "#In the test\n",
    "check_test = sanity_check_n_emails(training_df_test, training_info_test ,training_set_test, \"training for test\")\n",
    "\n",
    "if check_train & check_test:\n",
    "    print('Choice', cv_choice, ': \\x1b[6;30;42m' + 'Success!' + '\\x1b[0m')\n",
    "else:\n",
    "    print('Choice', cv_choice, ': \\x1b[6;30;41m' + 'Error!' + '\\x1b[0m')"
   ]
  },
  {
   "cell_type": "markdown",
   "metadata": {},
   "source": [
    "For the $3^{th}$ choice, one sender is missing is the test dataset : alex@pira.com"
   ]
  },
  {
   "cell_type": "code",
   "execution_count": 22,
   "metadata": {
    "collapsed": false
   },
   "outputs": [
    {
     "name": "stderr",
     "output_type": "stream",
     "text": [
      "                                                                               "
     ]
    },
    {
     "name": "stdout",
     "output_type": "stream",
     "text": [
      "alex@pira.com\n"
     ]
    },
    {
     "name": "stderr",
     "output_type": "stream",
     "text": [
      "\r"
     ]
    },
    {
     "data": {
      "text/plain": [
       "'2001-04-17 09:17:00'"
      ]
     },
     "execution_count": 22,
     "metadata": {},
     "output_type": "execute_result"
    }
   ],
   "source": [
    "all_mids_test = training_df_test['mid'].values\n",
    "corrupted = []\n",
    "\n",
    "for row in tqdm(range(training_set_test.shape[0])):\n",
    "    sender = training_set_test['sender'][row]\n",
    "    mids = training_set_test['mids'][row].split(' ')\n",
    "    for mid in mids:\n",
    "        if mid not in all_mids_test:\n",
    "            print(sender)\n",
    "            corrupted.append(sender)    \n",
    "\n",
    "max(training_df[training_df['sender'] == corrupted[0]]['date'].values)"
   ]
  },
  {
   "cell_type": "markdown",
   "metadata": {},
   "source": [
    "# Some handy structures on the train of cv"
   ]
  },
  {
   "cell_type": "code",
   "execution_count": 23,
   "metadata": {
    "collapsed": false,
    "scrolled": true
   },
   "outputs": [
    {
     "name": "stderr",
     "output_type": "stream",
     "text": [
      "                                                                               \r"
     ]
    }
   ],
   "source": [
    "# Construct the address book for each sender, take 2/3 minutes\n",
    "address_books_train = get_address_books(training_info_train, training_set_train)"
   ]
  },
  {
   "cell_type": "code",
   "execution_count": 24,
   "metadata": {
    "collapsed": false
   },
   "outputs": [],
   "source": [
    "# save all unique sender names\n",
    "emails_ids_per_sender_train = get_mids_per_sender(training_set_train)\n",
    "all_senders_train = emails_ids_per_sender_train.keys()\n",
    "\n",
    "# save all unique recipient names    \n",
    "all_recs_train = list(set([elt[0] for sublist in address_books_train.values() for elt in sublist]))\n",
    "\n",
    "# save all unique user names \n",
    "all_users_train = []\n",
    "all_users_train.extend(all_senders_train)\n",
    "all_users_train.extend(all_recs_train)\n",
    "all_users_train = list(set(all_users_train))"
   ]
  },
  {
   "cell_type": "code",
   "execution_count": 25,
   "metadata": {
    "collapsed": false
   },
   "outputs": [
    {
     "data": {
      "text/plain": [
       "['47599', '213415', '127455', '398563', '398564']"
      ]
     },
     "execution_count": 25,
     "metadata": {},
     "output_type": "execute_result"
    }
   ],
   "source": [
    "#An example\n",
    "emails_ids_per_sender_train['enron_update@concureworkplace.com'][:5]"
   ]
  },
  {
   "cell_type": "code",
   "execution_count": 26,
   "metadata": {
    "collapsed": false
   },
   "outputs": [],
   "source": [
    "def get_mids_sender_to_recipient(address_books, dataset_df):\n",
    "    '''\n",
    "    Computes the list of mids for each couple (sender, recipient)\n",
    "    '''\n",
    "    #a new dictionnary\n",
    "    mids_sender_to_recipient = {}\n",
    "    \n",
    "    #all the senders\n",
    "    all_senders = address_books_train.keys()\n",
    "    \n",
    "    for sender in tqdm(all_senders):\n",
    "        #the mails sent by the sender\n",
    "        mask_sender = (sender == dataset_df.sender)\n",
    "        sub_dataset_df = dataset_df[mask_sender]\n",
    "        sub_dataset_df = sub_dataset_df.reset_index(drop=True)\n",
    "        \n",
    "        rec_out = address_books[sender]\n",
    "        for rec, out in rec_out: \n",
    "\n",
    "            #we search amongst them, those sent to the recipient\n",
    "            mask_recipient = [rec in sub_dataset_df.recipients[i] for i in range(sub_dataset_df.shape[0])]\n",
    "\n",
    "            #we save the result\n",
    "            mids_sender_to_recipient[(sender, rec)] = sub_dataset_df['mid'][mask_recipient].values.tolist()\n",
    "        \n",
    "    return mids_sender_to_recipient "
   ]
  },
  {
   "cell_type": "code",
   "execution_count": 27,
   "metadata": {
    "collapsed": false
   },
   "outputs": [
    {
     "name": "stderr",
     "output_type": "stream",
     "text": [
      "                                                                               \r"
     ]
    }
   ],
   "source": [
    "# Takes 2/3 minutes\n",
    "mids_sender_to_recipient_train = get_mids_sender_to_recipient(address_books_train, training_df_train)"
   ]
  },
  {
   "cell_type": "code",
   "execution_count": 28,
   "metadata": {
    "collapsed": false
   },
   "outputs": [
    {
     "data": {
      "text/plain": [
       "['182994', '182990', '181518', '181095', '180174']"
      ]
     },
     "execution_count": 28,
     "metadata": {},
     "output_type": "execute_result"
    }
   ],
   "source": [
    "#An example\n",
    "mids_sender_to_recipient_train['sara.shackleton@enron.com', 'stewart.rosman@enron.com'][:5]"
   ]
  },
  {
   "cell_type": "code",
   "execution_count": 29,
   "metadata": {
    "collapsed": false
   },
   "outputs": [],
   "source": [
    "#Mids of mails received by each senders\n",
    "def get_mids_received_by_user(dataset_df):\n",
    "    emails_ids_per_sender = {} \n",
    "\n",
    "    #iterate on each mail\n",
    "    for row in tqdm(range(dataset_df.shape[0])):\n",
    "        mid = dataset_df['mid'][row]\n",
    "        recipients = dataset_df['recipients'][row].split(' ')\n",
    "\n",
    "        for rec in recipients:\n",
    "            if rec in emails_ids_per_sender.keys():\n",
    "                emails_ids_per_sender[rec] = emails_ids_per_sender[rec] + [mid]\n",
    "            else:\n",
    "                emails_ids_per_sender[rec] = [mid]\n",
    "                \n",
    "    return emails_ids_per_sender            "
   ]
  },
  {
   "cell_type": "code",
   "execution_count": 30,
   "metadata": {
    "collapsed": false
   },
   "outputs": [
    {
     "name": "stderr",
     "output_type": "stream",
     "text": [
      "                                                                               \r"
     ]
    }
   ],
   "source": [
    "#Mails received by user\n",
    "mids_received_by_user_train = get_mids_received_by_user(training_df_train)"
   ]
  },
  {
   "cell_type": "markdown",
   "metadata": {
    "collapsed": true
   },
   "source": [
    "# Prédiction"
   ]
  },
  {
   "cell_type": "markdown",
   "metadata": {},
   "source": [
    "## Random predictions on all users"
   ]
  },
  {
   "cell_type": "code",
   "execution_count": 31,
   "metadata": {
    "collapsed": true
   },
   "outputs": [],
   "source": [
    "# HERE THE PREDICTION WILL ONLY DEPENDS ON THE SENDER !\n",
    "def predictions_random_per_sender(dataset_set, all_users, k=10):\n",
    "    '''\n",
    "    Returns a dictionnary with k recipients for each sender\n",
    "    '''\n",
    "    # will contain email ids, predictions for random baseline\n",
    "    predictions_random_per_sender = {}\n",
    "\n",
    "    for index, row in dataset_set.iterrows():\n",
    "        name_ids = row.tolist() #sender + all ones mails)\n",
    "        sender = name_ids[0]\n",
    "\n",
    "        predictions_random_per_sender[sender] = random.sample(all_users, k)\n",
    "        \n",
    "    return predictions_random_per_sender    "
   ]
  },
  {
   "cell_type": "code",
   "execution_count": 32,
   "metadata": {
    "collapsed": false
   },
   "outputs": [],
   "source": [
    "#Make some predictions\n",
    "predictions_random = predictions_random_per_sender(training_set_train, all_users_train)\n",
    "\n",
    "#Fill the dataframe\n",
    "training_df_test['pred_random'] = None\n",
    "for row in range(training_df_test.shape[0]): #for each mail\n",
    "    sender = training_df_test['sender'][row]\n",
    "\n",
    "    #random prediction\n",
    "    training_df_test['pred_random'][row] = predictions_random[sender] "
   ]
  },
  {
   "cell_type": "code",
   "execution_count": 33,
   "metadata": {
    "collapsed": false
   },
   "outputs": [
    {
     "name": "stderr",
     "output_type": "stream",
     "text": [
      "                                                                               \r"
     ]
    }
   ],
   "source": [
    "#Score MAP@10\n",
    "#Score for each prediction with random recommendation\n",
    "training_df_test['score_random'] = None\n",
    "\n",
    "for row in tqdm(range(training_df_test.shape[0])): #for each mail\n",
    "    training_df_test['score_random'][row] = apk(training_df_test['recipients'][row].split(' '), training_df_test['pred_random'][row])"
   ]
  },
  {
   "cell_type": "code",
   "execution_count": 34,
   "metadata": {
    "collapsed": false
   },
   "outputs": [
    {
     "name": "stdout",
     "output_type": "stream",
     "text": [
      "\u001b[0;30;43mThe MAP@10 score witn random predictions is 0.00084.\u001b[0m\n"
     ]
    }
   ],
   "source": [
    "print('\\x1b[0;30;43m' + \n",
    "      'The MAP@10 score with random predictions is %.5f.' %np.mean(training_df_test['score_random']) + \n",
    "      '\\x1b[0m')"
   ]
  },
  {
   "cell_type": "markdown",
   "metadata": {},
   "source": [
    "## Random predictions on the address book"
   ]
  },
  {
   "cell_type": "code",
   "execution_count": 35,
   "metadata": {
    "collapsed": true
   },
   "outputs": [],
   "source": [
    "# HERE THE PREDICTION WILL ONLY DEPENDS ON THE SENDER !\n",
    "\n",
    "def predictions_random_address_book_per_sender(dataset_set, address_books, k=10):\n",
    "    '''\n",
    "    Recommends recipients randomly amongst the addresss books of the sender\n",
    "    The number of recipients may be under k if the sender has not sent enough emails.\n",
    "    \n",
    "    Returns a dictionnary of k recipients for each sender\n",
    "    '''\n",
    "    # will contain email ids, predictions for random baseline\n",
    "    predictions_random_address_book_per_sender = {}\n",
    "    for index, row in dataset_set.iterrows():\n",
    "        name_ids = row.tolist() #sender + all ones mails)\n",
    "        sender = name_ids[0]\n",
    "\n",
    "        recipients_of_the_sender = [elt[0] for elt in address_books[sender]]\n",
    "        n_recipients_of_the_sender = len(recipients_of_the_sender)\n",
    "        \n",
    "        predictions_random_address_book_per_sender[sender] = random.sample(recipients_of_the_sender, min(k,n_recipients_of_the_sender))\n",
    "    return predictions_random_address_book_per_sender    "
   ]
  },
  {
   "cell_type": "code",
   "execution_count": 36,
   "metadata": {
    "collapsed": false
   },
   "outputs": [],
   "source": [
    "#Make some predictions\n",
    "predictions_random_address_book = predictions_random_address_book_per_sender(training_set_train, address_books_train)\n",
    "\n",
    "#Fill the dataframe\n",
    "training_df_test['pred_random_address_book'] = None\n",
    "for row in range(training_df_test.shape[0]): #for each mail\n",
    "    sender = training_df_test['sender'][row]\n",
    "\n",
    "    #random prediction\n",
    "    training_df_test['pred_random_address_book'][row] = predictions_random_address_book[sender]    "
   ]
  },
  {
   "cell_type": "code",
   "execution_count": 37,
   "metadata": {
    "collapsed": false
   },
   "outputs": [
    {
     "data": {
      "text/html": [
       "<div>\n",
       "<table border=\"1\" class=\"dataframe\">\n",
       "  <thead>\n",
       "    <tr style=\"text-align: right;\">\n",
       "      <th></th>\n",
       "      <th>mid</th>\n",
       "      <th>sender</th>\n",
       "      <th>date</th>\n",
       "      <th>body</th>\n",
       "      <th>recipients</th>\n",
       "      <th>body_rt</th>\n",
       "      <th>body_rf</th>\n",
       "      <th>clean_body</th>\n",
       "      <th>pred_random</th>\n",
       "      <th>score_random</th>\n",
       "      <th>pred_random_address_book</th>\n",
       "    </tr>\n",
       "  </thead>\n",
       "  <tbody>\n",
       "    <tr>\n",
       "      <th>0</th>\n",
       "      <td>41260</td>\n",
       "      <td>lynn.blair@enron.com</td>\n",
       "      <td>2001-08-20 04:11:20</td>\n",
       "      <td>\\tFran, please update Leonards Review with the...</td>\n",
       "      <td>leonard.daily@enron.com fran.fagan@enron.com</td>\n",
       "      <td>Fran, please update Leonards Review with the ...</td>\n",
       "      <td>Fran, please update Leonards Review with the ...</td>\n",
       "      <td>fran please update leonards review attached co...</td>\n",
       "      <td>[kevin.mcgowan@enron.com, kbhensman@aeraenergy...</td>\n",
       "      <td>0</td>\n",
       "      <td>[lynda.laferla@enron.com, joanne.bisbee@enron....</td>\n",
       "    </tr>\n",
       "    <tr>\n",
       "      <th>1</th>\n",
       "      <td>41259</td>\n",
       "      <td>lynn.blair@enron.com</td>\n",
       "      <td>2001-08-20 04:22:03</td>\n",
       "      <td>\\tSteve, I thought you might be interested in ...</td>\n",
       "      <td>steven.january@enron.com</td>\n",
       "      <td>Steve, I thought you might be interested in t...</td>\n",
       "      <td>Steve, I thought you might be interested in t...</td>\n",
       "      <td>steve thought might interested meeting thanks ...</td>\n",
       "      <td>[kevin.mcgowan@enron.com, kbhensman@aeraenergy...</td>\n",
       "      <td>0</td>\n",
       "      <td>[lynda.laferla@enron.com, joanne.bisbee@enron....</td>\n",
       "    </tr>\n",
       "  </tbody>\n",
       "</table>\n",
       "</div>"
      ],
      "text/plain": [
       "     mid                sender                 date  \\\n",
       "0  41260  lynn.blair@enron.com  2001-08-20 04:11:20   \n",
       "1  41259  lynn.blair@enron.com  2001-08-20 04:22:03   \n",
       "\n",
       "                                                body  \\\n",
       "0  \\tFran, please update Leonards Review with the...   \n",
       "1  \\tSteve, I thought you might be interested in ...   \n",
       "\n",
       "                                     recipients  \\\n",
       "0  leonard.daily@enron.com fran.fagan@enron.com   \n",
       "1                      steven.january@enron.com   \n",
       "\n",
       "                                             body_rt  \\\n",
       "0   Fran, please update Leonards Review with the ...   \n",
       "1   Steve, I thought you might be interested in t...   \n",
       "\n",
       "                                             body_rf  \\\n",
       "0   Fran, please update Leonards Review with the ...   \n",
       "1   Steve, I thought you might be interested in t...   \n",
       "\n",
       "                                          clean_body  \\\n",
       "0  fran please update leonards review attached co...   \n",
       "1  steve thought might interested meeting thanks ...   \n",
       "\n",
       "                                         pred_random score_random  \\\n",
       "0  [kevin.mcgowan@enron.com, kbhensman@aeraenergy...            0   \n",
       "1  [kevin.mcgowan@enron.com, kbhensman@aeraenergy...            0   \n",
       "\n",
       "                            pred_random_address_book  \n",
       "0  [lynda.laferla@enron.com, joanne.bisbee@enron....  \n",
       "1  [lynda.laferla@enron.com, joanne.bisbee@enron....  "
      ]
     },
     "execution_count": 37,
     "metadata": {},
     "output_type": "execute_result"
    }
   ],
   "source": [
    "training_df_test.head(2)"
   ]
  },
  {
   "cell_type": "code",
   "execution_count": 38,
   "metadata": {
    "collapsed": false
   },
   "outputs": [
    {
     "name": "stderr",
     "output_type": "stream",
     "text": [
      "                                                                               \r"
     ]
    }
   ],
   "source": [
    "#Score MAP@10\n",
    "#Score for each prediction with random recommendation based on address book\n",
    "training_df_test['score_random_address_book'] = None\n",
    "\n",
    "for row in tqdm(range(training_df_test.shape[0])): #for each mail\n",
    "    training_df_test['score_random_address_book'][row] = apk(training_df_test['recipients'][row].split(' '), training_df_test['pred_random_address_book'][row])"
   ]
  },
  {
   "cell_type": "code",
   "execution_count": 39,
   "metadata": {
    "collapsed": false
   },
   "outputs": [
    {
     "name": "stdout",
     "output_type": "stream",
     "text": [
      "\u001b[0;30;43mThe MAP@10 score witn random predictions based on address book is 0.04363.\u001b[0m\n"
     ]
    }
   ],
   "source": [
    "print('\\x1b[0;30;43m' + \n",
    "      'The MAP@10 score witn random predictions based on address book is %.5f.' \n",
    "      %np.mean(training_df_test['score_random_address_book']) + \n",
    "      '\\x1b[0m')"
   ]
  },
  {
   "cell_type": "markdown",
   "metadata": {},
   "source": [
    "## Frequency based predictions"
   ]
  },
  {
   "cell_type": "code",
   "execution_count": 40,
   "metadata": {
    "collapsed": true
   },
   "outputs": [],
   "source": [
    "# HERE THE PREDICTION WILL ONLY DEPENDS ON THE SENDER !\n",
    "def predictions_frequency_per_sender(dataset_set, address_books, k = 10):\n",
    "\n",
    "    # will contain email ids, predictions for frequency baseline\n",
    "    predictions_frequency_per_sender = {}\n",
    "\n",
    "    for index, row in dataset_set.iterrows():\n",
    "        name_ids = row.tolist() #sender + all ones mails\n",
    "        sender = name_ids[0]\n",
    "\n",
    "        # select k most frequent recipients for the user\n",
    "        predictions_frequency_per_sender[sender] = [elt[0] for elt in address_books[sender][:k]]\n",
    "        \n",
    "    return predictions_frequency_per_sender"
   ]
  },
  {
   "cell_type": "code",
   "execution_count": 41,
   "metadata": {
    "collapsed": false
   },
   "outputs": [],
   "source": [
    "#Make some predictions\n",
    "predictions_frequency = predictions_frequency_per_sender(training_set_train, address_books_train)\n",
    "\n",
    "#Fill the dataframe\n",
    "training_df_test['pred_freq'] = None\n",
    "for row in range(training_df_test.shape[0]): #for each mail\n",
    "    sender = training_df_test['sender'][row]\n",
    "\n",
    "    #random prediction\n",
    "    training_df_test['pred_freq'][row] = predictions_frequency[sender]    "
   ]
  },
  {
   "cell_type": "code",
   "execution_count": 42,
   "metadata": {
    "collapsed": false
   },
   "outputs": [
    {
     "data": {
      "text/html": [
       "<div>\n",
       "<table border=\"1\" class=\"dataframe\">\n",
       "  <thead>\n",
       "    <tr style=\"text-align: right;\">\n",
       "      <th></th>\n",
       "      <th>mid</th>\n",
       "      <th>sender</th>\n",
       "      <th>date</th>\n",
       "      <th>body</th>\n",
       "      <th>recipients</th>\n",
       "      <th>body_rt</th>\n",
       "      <th>body_rf</th>\n",
       "      <th>clean_body</th>\n",
       "      <th>pred_random</th>\n",
       "      <th>score_random</th>\n",
       "      <th>pred_random_address_book</th>\n",
       "      <th>score_random_address_book</th>\n",
       "      <th>pred_freq</th>\n",
       "    </tr>\n",
       "  </thead>\n",
       "  <tbody>\n",
       "    <tr>\n",
       "      <th>0</th>\n",
       "      <td>41260</td>\n",
       "      <td>lynn.blair@enron.com</td>\n",
       "      <td>2001-08-20 04:11:20</td>\n",
       "      <td>\\tFran, please update Leonards Review with the...</td>\n",
       "      <td>leonard.daily@enron.com fran.fagan@enron.com</td>\n",
       "      <td>Fran, please update Leonards Review with the ...</td>\n",
       "      <td>Fran, please update Leonards Review with the ...</td>\n",
       "      <td>fran please update leonards review attached co...</td>\n",
       "      <td>[kevin.mcgowan@enron.com, kbhensman@aeraenergy...</td>\n",
       "      <td>0</td>\n",
       "      <td>[lynda.laferla@enron.com, joanne.bisbee@enron....</td>\n",
       "      <td>0</td>\n",
       "      <td>[terry.kowalke@enron.com, john.buchanan@enron....</td>\n",
       "    </tr>\n",
       "    <tr>\n",
       "      <th>1</th>\n",
       "      <td>41259</td>\n",
       "      <td>lynn.blair@enron.com</td>\n",
       "      <td>2001-08-20 04:22:03</td>\n",
       "      <td>\\tSteve, I thought you might be interested in ...</td>\n",
       "      <td>steven.january@enron.com</td>\n",
       "      <td>Steve, I thought you might be interested in t...</td>\n",
       "      <td>Steve, I thought you might be interested in t...</td>\n",
       "      <td>steve thought might interested meeting thanks ...</td>\n",
       "      <td>[kevin.mcgowan@enron.com, kbhensman@aeraenergy...</td>\n",
       "      <td>0</td>\n",
       "      <td>[lynda.laferla@enron.com, joanne.bisbee@enron....</td>\n",
       "      <td>0</td>\n",
       "      <td>[terry.kowalke@enron.com, john.buchanan@enron....</td>\n",
       "    </tr>\n",
       "  </tbody>\n",
       "</table>\n",
       "</div>"
      ],
      "text/plain": [
       "     mid                sender                 date  \\\n",
       "0  41260  lynn.blair@enron.com  2001-08-20 04:11:20   \n",
       "1  41259  lynn.blair@enron.com  2001-08-20 04:22:03   \n",
       "\n",
       "                                                body  \\\n",
       "0  \\tFran, please update Leonards Review with the...   \n",
       "1  \\tSteve, I thought you might be interested in ...   \n",
       "\n",
       "                                     recipients  \\\n",
       "0  leonard.daily@enron.com fran.fagan@enron.com   \n",
       "1                      steven.january@enron.com   \n",
       "\n",
       "                                             body_rt  \\\n",
       "0   Fran, please update Leonards Review with the ...   \n",
       "1   Steve, I thought you might be interested in t...   \n",
       "\n",
       "                                             body_rf  \\\n",
       "0   Fran, please update Leonards Review with the ...   \n",
       "1   Steve, I thought you might be interested in t...   \n",
       "\n",
       "                                          clean_body  \\\n",
       "0  fran please update leonards review attached co...   \n",
       "1  steve thought might interested meeting thanks ...   \n",
       "\n",
       "                                         pred_random score_random  \\\n",
       "0  [kevin.mcgowan@enron.com, kbhensman@aeraenergy...            0   \n",
       "1  [kevin.mcgowan@enron.com, kbhensman@aeraenergy...            0   \n",
       "\n",
       "                            pred_random_address_book  \\\n",
       "0  [lynda.laferla@enron.com, joanne.bisbee@enron....   \n",
       "1  [lynda.laferla@enron.com, joanne.bisbee@enron....   \n",
       "\n",
       "  score_random_address_book                                          pred_freq  \n",
       "0                         0  [terry.kowalke@enron.com, john.buchanan@enron....  \n",
       "1                         0  [terry.kowalke@enron.com, john.buchanan@enron....  "
      ]
     },
     "execution_count": 42,
     "metadata": {},
     "output_type": "execute_result"
    }
   ],
   "source": [
    "training_df_test.head(2)"
   ]
  },
  {
   "cell_type": "code",
   "execution_count": 43,
   "metadata": {
    "collapsed": false
   },
   "outputs": [
    {
     "name": "stderr",
     "output_type": "stream",
     "text": [
      "                                                                               \r"
     ]
    }
   ],
   "source": [
    "#Score MAP@10\n",
    "#Score for each prediction with frequency based recommandation\n",
    "training_df_test['score_freq'] = None\n",
    "\n",
    "for row in tqdm(range(training_df_test.shape[0])): #for each mail\n",
    "    training_df_test['score_freq'][row] = apk(training_df_test['recipients'][row].split(' '), training_df_test['pred_freq'][row])"
   ]
  },
  {
   "cell_type": "code",
   "execution_count": 44,
   "metadata": {
    "collapsed": false
   },
   "outputs": [
    {
     "name": "stdout",
     "output_type": "stream",
     "text": [
      "\u001b[0;30;43mThe MAP@10 score with frequency based predictions is 0.23828.\u001b[0m\n"
     ]
    }
   ],
   "source": [
    "print('\\x1b[0;30;43m' + \n",
    "      'The MAP@10 score with frequency based predictions is %.5f.' %np.mean(training_df_test['score_freq']) + \n",
    "      '\\x1b[0m')"
   ]
  },
  {
   "cell_type": "markdown",
   "metadata": {},
   "source": [
    "## Weighted frequency-based predictions"
   ]
  },
  {
   "cell_type": "code",
   "execution_count": 45,
   "metadata": {
    "collapsed": true
   },
   "outputs": [],
   "source": [
    "def get_weighted_score(dataset_df):\n",
    "    '''\n",
    "    Computes a score between the sender and the recipient\n",
    "    score(sender, recipient) = sum_{emails from sender to recipients} 1/(number of recipients in the email)\n",
    "    \n",
    "    == Input ==\n",
    "    a dataframe with all the data\n",
    "    == Output ==\n",
    "    a dictionnary where the key is the sender and the value the tuple (recipient, score)\n",
    "    '''\n",
    "    #Learning phase\n",
    "    dict_weight = {} #the key is (sender, recipient)\n",
    "    for row in tqdm(range(dataset_df.shape[0])):\n",
    "\n",
    "        sender = dataset_df['sender'][row]\n",
    "        recipients = dataset_df['recipients'][row].split(' ')\n",
    "        n_recipients = len(recipients)\n",
    "\n",
    "        for rec in recipients: #for each recipients\n",
    "            key = sender, rec\n",
    "            if key in dict_weight : \n",
    "                dict_weight[key] =  dict_weight[key] + 1./n_recipients\n",
    "            else:\n",
    "                dict_weight[key] = 1./n_recipients\n",
    "\n",
    "    #The right order\n",
    "    weight_sender_recipient = {} #the key is (sender)\n",
    "    for key, value in dict_weight.items():\n",
    "        sender = key[0]\n",
    "        rec = key[1]\n",
    "\n",
    "        if sender in weight_sender_recipient:\n",
    "            weight_sender_recipient[sender] = sorted(weight_sender_recipient[sender] + [(rec,value)], key=operator.itemgetter(1), reverse = True)      \n",
    "        else:\n",
    "            weight_sender_recipient[sender] = [(rec,value)]\n",
    "            \n",
    "    return dict_weight, weight_sender_recipient      "
   ]
  },
  {
   "cell_type": "code",
   "execution_count": 46,
   "metadata": {
    "collapsed": false
   },
   "outputs": [
    {
     "name": "stderr",
     "output_type": "stream",
     "text": [
      "                                                                               \r"
     ]
    }
   ],
   "source": [
    "dict_weight, weight_sender_recipient = get_weighted_score(training_df_train)"
   ]
  },
  {
   "cell_type": "code",
   "execution_count": 47,
   "metadata": {
    "collapsed": true
   },
   "outputs": [],
   "source": [
    "#Make some predictions\n",
    "training_df_test['pred_weighted_freq'] = None\n",
    "k=10\n",
    "\n",
    "#Testing phase\n",
    "for row in range(training_df_test.shape[0]): #for each mail\n",
    "    sender = training_df_test['sender'][row]\n",
    "\n",
    "    #random prediction\n",
    "    training_df_test['pred_weighted_freq'][row] = [elt[0] for elt in weight_sender_recipient[sender][:k]]"
   ]
  },
  {
   "cell_type": "code",
   "execution_count": 48,
   "metadata": {
    "collapsed": false
   },
   "outputs": [
    {
     "data": {
      "text/html": [
       "<div>\n",
       "<table border=\"1\" class=\"dataframe\">\n",
       "  <thead>\n",
       "    <tr style=\"text-align: right;\">\n",
       "      <th></th>\n",
       "      <th>mid</th>\n",
       "      <th>sender</th>\n",
       "      <th>date</th>\n",
       "      <th>body</th>\n",
       "      <th>recipients</th>\n",
       "      <th>body_rt</th>\n",
       "      <th>body_rf</th>\n",
       "      <th>clean_body</th>\n",
       "      <th>pred_random</th>\n",
       "      <th>score_random</th>\n",
       "      <th>pred_random_address_book</th>\n",
       "      <th>score_random_address_book</th>\n",
       "      <th>pred_freq</th>\n",
       "      <th>score_freq</th>\n",
       "      <th>pred_weighted_freq</th>\n",
       "    </tr>\n",
       "  </thead>\n",
       "  <tbody>\n",
       "    <tr>\n",
       "      <th>0</th>\n",
       "      <td>41260</td>\n",
       "      <td>lynn.blair@enron.com</td>\n",
       "      <td>2001-08-20 04:11:20</td>\n",
       "      <td>\\tFran, please update Leonards Review with the...</td>\n",
       "      <td>leonard.daily@enron.com fran.fagan@enron.com</td>\n",
       "      <td>Fran, please update Leonards Review with the ...</td>\n",
       "      <td>Fran, please update Leonards Review with the ...</td>\n",
       "      <td>fran please update leonards review attached co...</td>\n",
       "      <td>[kevin.mcgowan@enron.com, kbhensman@aeraenergy...</td>\n",
       "      <td>0</td>\n",
       "      <td>[lynda.laferla@enron.com, joanne.bisbee@enron....</td>\n",
       "      <td>0</td>\n",
       "      <td>[terry.kowalke@enron.com, john.buchanan@enron....</td>\n",
       "      <td>0</td>\n",
       "      <td>[ava.garcia@enron.com, terry.kowalke@enron.com...</td>\n",
       "    </tr>\n",
       "    <tr>\n",
       "      <th>1</th>\n",
       "      <td>41259</td>\n",
       "      <td>lynn.blair@enron.com</td>\n",
       "      <td>2001-08-20 04:22:03</td>\n",
       "      <td>\\tSteve, I thought you might be interested in ...</td>\n",
       "      <td>steven.january@enron.com</td>\n",
       "      <td>Steve, I thought you might be interested in t...</td>\n",
       "      <td>Steve, I thought you might be interested in t...</td>\n",
       "      <td>steve thought might interested meeting thanks ...</td>\n",
       "      <td>[kevin.mcgowan@enron.com, kbhensman@aeraenergy...</td>\n",
       "      <td>0</td>\n",
       "      <td>[lynda.laferla@enron.com, joanne.bisbee@enron....</td>\n",
       "      <td>0</td>\n",
       "      <td>[terry.kowalke@enron.com, john.buchanan@enron....</td>\n",
       "      <td>0.2</td>\n",
       "      <td>[ava.garcia@enron.com, terry.kowalke@enron.com...</td>\n",
       "    </tr>\n",
       "  </tbody>\n",
       "</table>\n",
       "</div>"
      ],
      "text/plain": [
       "     mid                sender                 date  \\\n",
       "0  41260  lynn.blair@enron.com  2001-08-20 04:11:20   \n",
       "1  41259  lynn.blair@enron.com  2001-08-20 04:22:03   \n",
       "\n",
       "                                                body  \\\n",
       "0  \\tFran, please update Leonards Review with the...   \n",
       "1  \\tSteve, I thought you might be interested in ...   \n",
       "\n",
       "                                     recipients  \\\n",
       "0  leonard.daily@enron.com fran.fagan@enron.com   \n",
       "1                      steven.january@enron.com   \n",
       "\n",
       "                                             body_rt  \\\n",
       "0   Fran, please update Leonards Review with the ...   \n",
       "1   Steve, I thought you might be interested in t...   \n",
       "\n",
       "                                             body_rf  \\\n",
       "0   Fran, please update Leonards Review with the ...   \n",
       "1   Steve, I thought you might be interested in t...   \n",
       "\n",
       "                                          clean_body  \\\n",
       "0  fran please update leonards review attached co...   \n",
       "1  steve thought might interested meeting thanks ...   \n",
       "\n",
       "                                         pred_random score_random  \\\n",
       "0  [kevin.mcgowan@enron.com, kbhensman@aeraenergy...            0   \n",
       "1  [kevin.mcgowan@enron.com, kbhensman@aeraenergy...            0   \n",
       "\n",
       "                            pred_random_address_book  \\\n",
       "0  [lynda.laferla@enron.com, joanne.bisbee@enron....   \n",
       "1  [lynda.laferla@enron.com, joanne.bisbee@enron....   \n",
       "\n",
       "  score_random_address_book  \\\n",
       "0                         0   \n",
       "1                         0   \n",
       "\n",
       "                                           pred_freq score_freq  \\\n",
       "0  [terry.kowalke@enron.com, john.buchanan@enron....          0   \n",
       "1  [terry.kowalke@enron.com, john.buchanan@enron....        0.2   \n",
       "\n",
       "                                  pred_weighted_freq  \n",
       "0  [ava.garcia@enron.com, terry.kowalke@enron.com...  \n",
       "1  [ava.garcia@enron.com, terry.kowalke@enron.com...  "
      ]
     },
     "execution_count": 48,
     "metadata": {},
     "output_type": "execute_result"
    }
   ],
   "source": [
    "training_df_test.head(2)"
   ]
  },
  {
   "cell_type": "code",
   "execution_count": 49,
   "metadata": {
    "collapsed": false
   },
   "outputs": [
    {
     "name": "stderr",
     "output_type": "stream",
     "text": [
      "                                                                               \r"
     ]
    }
   ],
   "source": [
    "#Score MAP@10\n",
    "#Score for each prediction with weighted frequency based recommandation\n",
    "training_df_test['score_weighted_freq'] = None\n",
    "\n",
    "for row in tqdm(range(training_df_test.shape[0])): #for each mail\n",
    "    training_df_test['score_weighted_freq'][row] = apk(training_df_test['recipients'][row].split(' '), training_df_test['pred_weighted_freq'][row])"
   ]
  },
  {
   "cell_type": "code",
   "execution_count": 50,
   "metadata": {
    "collapsed": false
   },
   "outputs": [
    {
     "name": "stdout",
     "output_type": "stream",
     "text": [
      "\u001b[0;30;43mThe MAP@10 score with weighted frequency based predictions is 0.23259.\u001b[0m\n"
     ]
    }
   ],
   "source": [
    "print('\\x1b[0;30;43m' + \n",
    "      'The MAP@10 score with weighted frequency based predictions is %.5f.' \n",
    "      %np.mean(training_df_test['score_weighted_freq']) + \n",
    "      '\\x1b[0m')"
   ]
  },
  {
   "cell_type": "markdown",
   "metadata": {},
   "source": [
    "## Looks for a name"
   ]
  },
  {
   "cell_type": "code",
   "execution_count": 51,
   "metadata": {
    "collapsed": false
   },
   "outputs": [],
   "source": [
    "def get_recipients_from_name(name, all_users):\n",
    "    '''\n",
    "    Gives 0 or 1 recipient email address whose name is the one given is the input\n",
    "    \n",
    "    == Input ==\n",
    "    name : a string with the name one is looking for\n",
    "    all_users : a list of names, where the name is looked for, ordered by preference / score\n",
    "    == Output ==\n",
    "    if name is found, an email address\n",
    "    '''\n",
    "    \n",
    "    if((len(name) > 3)): #remove 'it'\n",
    "        for rec in all_users : \n",
    "            rec_name = rec.split('@')[0] #the part before the @\n",
    "            score = str.find(rec_name, name.lower()) #returns -1 if the name is not in the email address, otherwise its position\n",
    "            if score > -1: #a corresponding email address has been found\n",
    "                return [rec]\n",
    "        return [] #no corresponding email address\n",
    "    return [] #the given name is too short "
   ]
  },
  {
   "cell_type": "code",
   "execution_count": 52,
   "metadata": {
    "collapsed": false
   },
   "outputs": [
    {
     "data": {
      "text/plain": [
       "['mark.meigs@enron.com']"
      ]
     },
     "execution_count": 52,
     "metadata": {},
     "output_type": "execute_result"
    }
   ],
   "source": [
    "# An example\n",
    "get_recipients_from_name('Mark', all_users_train)"
   ]
  },
  {
   "cell_type": "code",
   "execution_count": 53,
   "metadata": {
    "collapsed": false
   },
   "outputs": [
    {
     "name": "stderr",
     "output_type": "stream",
     "text": [
      "                                                                               \r"
     ]
    }
   ],
   "source": [
    "#Make some predictions\n",
    "training_df_test['pred_name_freq'] = None\n",
    "k=10\n",
    "\n",
    "#Testing phase\n",
    "for row in tqdm(range(training_df_test.shape[0])): #for each mail\n",
    "    sender = training_df_test['sender'][row]\n",
    "    name_rec = training_df_test['body'][row].split(' ')[:1][0]\n",
    "\n",
    "    #remove some nasty character\n",
    "    #name_rec = str(name_rec).replace(',', '') \n",
    "    \n",
    "    #find the possible recipients from this first word, amongst those the sender has already sent an email\n",
    "    address_book_sender = [elt[0] for elt in address_books_train[sender]] #ordered by the frequency ! \n",
    "    \n",
    "    recipients_from_name = get_recipients_from_name(name_rec, address_book_sender)\n",
    "\n",
    "    #add the frequent recipients\n",
    "    recipients_from_frequency = predictions_frequency[sender]\n",
    "    \n",
    "    #cumul\n",
    "    result = recipients_from_name\n",
    "    result.extend(x for x in recipients_from_frequency if x not in result)\n",
    "\n",
    "    training_df_test['pred_name_freq'][row] = result[:k]\n"
   ]
  },
  {
   "cell_type": "code",
   "execution_count": 54,
   "metadata": {
    "collapsed": false
   },
   "outputs": [
    {
     "data": {
      "text/html": [
       "<div>\n",
       "<table border=\"1\" class=\"dataframe\">\n",
       "  <thead>\n",
       "    <tr style=\"text-align: right;\">\n",
       "      <th></th>\n",
       "      <th>mid</th>\n",
       "      <th>sender</th>\n",
       "      <th>date</th>\n",
       "      <th>body</th>\n",
       "      <th>recipients</th>\n",
       "      <th>body_rt</th>\n",
       "      <th>body_rf</th>\n",
       "      <th>clean_body</th>\n",
       "      <th>pred_random</th>\n",
       "      <th>score_random</th>\n",
       "      <th>pred_random_address_book</th>\n",
       "      <th>score_random_address_book</th>\n",
       "      <th>pred_freq</th>\n",
       "      <th>score_freq</th>\n",
       "      <th>pred_weighted_freq</th>\n",
       "      <th>score_weighted_freq</th>\n",
       "      <th>pred_name_freq</th>\n",
       "    </tr>\n",
       "  </thead>\n",
       "  <tbody>\n",
       "    <tr>\n",
       "      <th>0</th>\n",
       "      <td>41260</td>\n",
       "      <td>lynn.blair@enron.com</td>\n",
       "      <td>2001-08-20 04:11:20</td>\n",
       "      <td>\\tFran, please update Leonards Review with the...</td>\n",
       "      <td>leonard.daily@enron.com fran.fagan@enron.com</td>\n",
       "      <td>Fran, please update Leonards Review with the ...</td>\n",
       "      <td>Fran, please update Leonards Review with the ...</td>\n",
       "      <td>fran please update leonards review attached co...</td>\n",
       "      <td>[kevin.mcgowan@enron.com, kbhensman@aeraenergy...</td>\n",
       "      <td>0</td>\n",
       "      <td>[lynda.laferla@enron.com, joanne.bisbee@enron....</td>\n",
       "      <td>0</td>\n",
       "      <td>[terry.kowalke@enron.com, john.buchanan@enron....</td>\n",
       "      <td>0</td>\n",
       "      <td>[ava.garcia@enron.com, terry.kowalke@enron.com...</td>\n",
       "      <td>0</td>\n",
       "      <td>[terry.kowalke@enron.com, john.buchanan@enron....</td>\n",
       "    </tr>\n",
       "    <tr>\n",
       "      <th>1</th>\n",
       "      <td>41259</td>\n",
       "      <td>lynn.blair@enron.com</td>\n",
       "      <td>2001-08-20 04:22:03</td>\n",
       "      <td>\\tSteve, I thought you might be interested in ...</td>\n",
       "      <td>steven.january@enron.com</td>\n",
       "      <td>Steve, I thought you might be interested in t...</td>\n",
       "      <td>Steve, I thought you might be interested in t...</td>\n",
       "      <td>steve thought might interested meeting thanks ...</td>\n",
       "      <td>[kevin.mcgowan@enron.com, kbhensman@aeraenergy...</td>\n",
       "      <td>0</td>\n",
       "      <td>[lynda.laferla@enron.com, joanne.bisbee@enron....</td>\n",
       "      <td>0</td>\n",
       "      <td>[terry.kowalke@enron.com, john.buchanan@enron....</td>\n",
       "      <td>0.2</td>\n",
       "      <td>[ava.garcia@enron.com, terry.kowalke@enron.com...</td>\n",
       "      <td>0.166667</td>\n",
       "      <td>[terry.kowalke@enron.com, john.buchanan@enron....</td>\n",
       "    </tr>\n",
       "  </tbody>\n",
       "</table>\n",
       "</div>"
      ],
      "text/plain": [
       "     mid                sender                 date  \\\n",
       "0  41260  lynn.blair@enron.com  2001-08-20 04:11:20   \n",
       "1  41259  lynn.blair@enron.com  2001-08-20 04:22:03   \n",
       "\n",
       "                                                body  \\\n",
       "0  \\tFran, please update Leonards Review with the...   \n",
       "1  \\tSteve, I thought you might be interested in ...   \n",
       "\n",
       "                                     recipients  \\\n",
       "0  leonard.daily@enron.com fran.fagan@enron.com   \n",
       "1                      steven.january@enron.com   \n",
       "\n",
       "                                             body_rt  \\\n",
       "0   Fran, please update Leonards Review with the ...   \n",
       "1   Steve, I thought you might be interested in t...   \n",
       "\n",
       "                                             body_rf  \\\n",
       "0   Fran, please update Leonards Review with the ...   \n",
       "1   Steve, I thought you might be interested in t...   \n",
       "\n",
       "                                          clean_body  \\\n",
       "0  fran please update leonards review attached co...   \n",
       "1  steve thought might interested meeting thanks ...   \n",
       "\n",
       "                                         pred_random score_random  \\\n",
       "0  [kevin.mcgowan@enron.com, kbhensman@aeraenergy...            0   \n",
       "1  [kevin.mcgowan@enron.com, kbhensman@aeraenergy...            0   \n",
       "\n",
       "                            pred_random_address_book  \\\n",
       "0  [lynda.laferla@enron.com, joanne.bisbee@enron....   \n",
       "1  [lynda.laferla@enron.com, joanne.bisbee@enron....   \n",
       "\n",
       "  score_random_address_book  \\\n",
       "0                         0   \n",
       "1                         0   \n",
       "\n",
       "                                           pred_freq score_freq  \\\n",
       "0  [terry.kowalke@enron.com, john.buchanan@enron....          0   \n",
       "1  [terry.kowalke@enron.com, john.buchanan@enron....        0.2   \n",
       "\n",
       "                                  pred_weighted_freq score_weighted_freq  \\\n",
       "0  [ava.garcia@enron.com, terry.kowalke@enron.com...                   0   \n",
       "1  [ava.garcia@enron.com, terry.kowalke@enron.com...            0.166667   \n",
       "\n",
       "                                      pred_name_freq  \n",
       "0  [terry.kowalke@enron.com, john.buchanan@enron....  \n",
       "1  [terry.kowalke@enron.com, john.buchanan@enron....  "
      ]
     },
     "execution_count": 54,
     "metadata": {},
     "output_type": "execute_result"
    }
   ],
   "source": [
    "training_df_test.head(2)"
   ]
  },
  {
   "cell_type": "code",
   "execution_count": 55,
   "metadata": {
    "collapsed": false
   },
   "outputs": [
    {
     "name": "stderr",
     "output_type": "stream",
     "text": [
      "                                                                               \r"
     ]
    }
   ],
   "source": [
    "#Score MAP@10\n",
    "#Score for each prediction with  frequency based recommandation and search of a name\n",
    "training_df_test['score_name_freq'] = None\n",
    "\n",
    "for row in tqdm(range(training_df_test.shape[0])): #for each mail\n",
    "    training_df_test['score_name_freq'][row] = apk(training_df_test['recipients'][row].split(' '), training_df_test['pred_name_freq'][row])"
   ]
  },
  {
   "cell_type": "code",
   "execution_count": 56,
   "metadata": {
    "collapsed": false
   },
   "outputs": [
    {
     "name": "stdout",
     "output_type": "stream",
     "text": [
      "\u001b[0;30;43mThe MAP@10 score with frequency based predictions and seach of name is 0.24550.\u001b[0m\n"
     ]
    }
   ],
   "source": [
    "print('\\x1b[0;30;43m' + \n",
    "      'The MAP@10 score with frequency based predictions and seach of name is %.5f.' \n",
    "      %np.mean(training_df_test['score_name_freq']) + \n",
    "      '\\x1b[0m')"
   ]
  },
  {
   "cell_type": "markdown",
   "metadata": {},
   "source": [
    "## Bag of words with TF-IDF"
   ]
  },
  {
   "cell_type": "code",
   "execution_count": 57,
   "metadata": {
    "collapsed": false
   },
   "outputs": [],
   "source": [
    "if False:\n",
    "    # TOO LONG\n",
    "\n",
    "    #early optimization is the root of all evil\n",
    "    k=10\n",
    "    #Make some predictions\n",
    "    training_df_test['tfidf_centroid_pred'] = None\n",
    "\n",
    "    for row in tqdm(range(training_df_test.shape[0])): #for each mail\n",
    "        # == Search for some metadata and data ====\n",
    "\n",
    "        # Search for the sender\n",
    "        sender = training_df_test['sender'][row]\n",
    "\n",
    "        #Search for all his previous emails sent (content + mid)\n",
    "        corpus = list(training_df_train[training_df_train['sender'] == sender]['clean_body']) #we may have some doublons\n",
    "\n",
    "        #mids = emails_ids_per_sender_train[sender] #we have to keep them\n",
    "        mids = list(training_df_train[training_df_train['sender'] == sender]['mid'])\n",
    "\n",
    "\n",
    "        # == Clean the documents ====\n",
    "        corpus_clean = {}\n",
    "        for i, doc in enumerate(corpus):\n",
    "            lowers = doc.lower()\n",
    "            corpus_clean[mids[i]] = lowers\n",
    "\n",
    "        # == TFIDF ====\n",
    "        #corpus\n",
    "        tfidf_matrix_sender = tfidf.fit_transform(corpus_clean.values())\n",
    "\n",
    "        # new document\n",
    "        new_doc = training_df_test['clean_body'][row]\n",
    "        response = tfidf.transform([new_doc])\n",
    "\n",
    "        # == Centroids ====\n",
    "\n",
    "        #We search the centroids for each recipient of sender\n",
    "        centroid_recipient = {} #contains for each recipient its vector representation\n",
    "\n",
    "        for recipient, out in address_books_train[sender]:\n",
    "            mids_sender_recipient = mids_sender_to_recipient_train[sender, recipient]\n",
    "            mask_mid = [mids[i] in list(mids_sender_recipient) for i in range(len(mids))]\n",
    "\n",
    "            centroid_recipient[recipient] = np.sum(tfidf_matrix_sender.todense()[mask_mid], axis = 0)\n",
    "\n",
    "        # == Similarity ====\n",
    "\n",
    "        #We calcultate the score for each recipient (cosine similarity) \n",
    "        score_recipient = {}\n",
    "        for recipient, centroid in centroid_recipient.items():\n",
    "            score_recipient[recipient] = float(cosine_similarity(centroid,response)[0])\n",
    "\n",
    "        sorted_score_recipient = sorted(score_recipient.items(), key=operator.itemgetter(1), reverse = True)\n",
    "\n",
    "        # == Prediction ====\n",
    "        training_df_test['tfidf_centroid_pred'][row] = [elt[0] for elt in sorted_score_recipient[:k]]\n",
    "\n",
    "        break"
   ]
  },
  {
   "cell_type": "markdown",
   "metadata": {},
   "source": [
    "## Bayesian on email content"
   ]
  },
  {
   "cell_type": "code",
   "execution_count": 58,
   "metadata": {
    "collapsed": false
   },
   "outputs": [],
   "source": [
    "if False: \n",
    "    #Count the occurence of a word in all the data\n",
    "    print(\"Joining ...\")\n",
    "    start_time = time.time()\n",
    "    all_bodies_train = ' '.join(training_df_train['clean_body'])\n",
    "    taken_time = time.time() - start_time\n",
    "    print(\"\\t %.3fs\" %taken_time)\n",
    "\n",
    "    print(\"Tokenizing ...\")\n",
    "    start_time = time.time()\n",
    "    tokens_train = tokenizer.tokenize(all_bodies_train)\n",
    "    taken_time = time.time() - start_time\n",
    "    print(\"\\t %.3fs\" %taken_time)\n",
    "\n",
    "    #print(\"Steming ...\")\n",
    "    #start_time = time.time()\n",
    "    #stemmed = stem_tokens(tokens_train)\n",
    "    #taken_time = time.time() - start_time\n",
    "    #print(\"\\t %.3fs\" %taken_time)\n",
    "\n",
    "    print(\"Counting ...\")\n",
    "    start_time = time.time()\n",
    "    count_words_all_bodies_train = Counter(tokens_train)\n",
    "    taken_time = time.time() - start_time\n",
    "    print(\"\\t %.3fs\" %taken_time)"
   ]
  },
  {
   "cell_type": "code",
   "execution_count": 59,
   "metadata": {
    "collapsed": true
   },
   "outputs": [],
   "source": [
    "if False:\n",
    "    #Count all the unique words (stem without stop words) in all the training train\n",
    "    n_words_all_bodies_train = np.sum([value for key, value in count_words_all_bodies_train.items()])"
   ]
  },
  {
   "cell_type": "code",
   "execution_count": 60,
   "metadata": {
    "collapsed": false
   },
   "outputs": [],
   "source": [
    "if False:\n",
    "    def count_words(body):\n",
    "        #Lowering\n",
    "        #lower = body.lower()\n",
    "\n",
    "        #Tokenizing\n",
    "        token = tokenizer.tokenize(body)\n",
    "\n",
    "        #Steming\n",
    "        #stemmed = stem_tokens(token)\n",
    "\n",
    "        #Counting\n",
    "        count_words = Counter(token)\n",
    "\n",
    "        #Filtering\n",
    "        for sw in stopwords.words('english'):\n",
    "            if sw in count_words.keys():\n",
    "                del count_words[sw]\n",
    "\n",
    "        #Sum of counts\n",
    "        n_words = np.sum([value for key, value in count_words.items()])\n",
    "\n",
    "        return count_words, n_words"
   ]
  },
  {
   "cell_type": "code",
   "execution_count": 61,
   "metadata": {
    "collapsed": true
   },
   "outputs": [],
   "source": [
    "if False:\n",
    "    def clean_body(body):\n",
    "        #lower = body.lower()\n",
    "        #token = tokenizer.tokenize(lower)\n",
    "        #stemmed = stem_tokens(token)\n",
    "        #return ' '.join(stemmed)\n",
    "        return body"
   ]
  },
  {
   "cell_type": "markdown",
   "metadata": {},
   "source": [
    "<font color = 'orange'> **Question :** </font>Should we consider all the emails shared between S and R or only those sent by S to R for $\\mathbb{P}(w |R,S)$ ? option 1"
   ]
  },
  {
   "cell_type": "code",
   "execution_count": 62,
   "metadata": {
    "collapsed": false
   },
   "outputs": [],
   "source": [
    "if False:\n",
    "    #TOOOOOOO LOONG\n",
    "\n",
    "    #early optimization is the root of all evil\n",
    "    k=10\n",
    "    # quid parameters => use the one given by the paper\n",
    "    lmbd = 0.6\n",
    "    gamma = 0.2\n",
    "    beta = 0.2\n",
    "\n",
    "    #We use a stochastic approach : max(25%, 100) mids\n",
    "\n",
    "    #Make some predictions\n",
    "    training_df_test['bayes_mail'] = None\n",
    "    N = 10 #training_df_test.shape[0]\n",
    "\n",
    "    for row in range(N): #for each mail\n",
    "        sender = training_df_test['sender'][row]\n",
    "        body = training_df_test['body'][row]\n",
    "        cleaned_body = clean_body(body)\n",
    "        n_words_body = len(cleaned_body.split(' '))\n",
    "\n",
    "        #Recipients considered : those whom already receive a mail from the sender\n",
    "        recipients = [elt[0] for elt in address_books_train[sender]] # to test for a next version : (TODO) all_users_train\n",
    "        score_recipients = {}\n",
    "\n",
    "        # == Compute P(w) ====\n",
    "        #already done =)\n",
    "\n",
    "        #mails received and sent by the sender\n",
    "        mids_sent_sender = emails_ids_per_sender_train[sender]\n",
    "        if sender in mids_received_by_user_train.keys(): #if the sender has received at least one mail\n",
    "            mids_received_sender = mids_received_by_user_train[sender]\n",
    "            all_mids_sender = list(set(mids_received_sender + mids_sent_sender)) #do not count double self mail\n",
    "        else: #the sender sent but never received ...\n",
    "            all_mids_sender = mids_sent_sender\n",
    "\n",
    "        #We choose some mids\n",
    "        n_mids_sender = np.minimum(np.maximum(100, round(0.25*len(all_mids_sender))), len(all_mids_sender))\n",
    "        all_mids_sender = list(np.random.choice(all_mids_sender, n_mids_sender, replace=False))\n",
    "\n",
    "        min_recipients = len(recipients)\n",
    "        for rec in recipients[:min_recipients]:\n",
    "            # == Compute P(w|R) ====\n",
    "\n",
    "            #search for all mids of received (and sent if they exist) mails\n",
    "            mids_received_rec = mids_received_by_user_train[rec]\n",
    "            if rec in all_senders_train:\n",
    "                mids_sent_rec = emails_ids_per_sender_train[rec] #works only if the rec is also a sender\n",
    "                all_mids_rec = list(set(mids_received_rec + mids_sent_rec)) #do not count double self mail\n",
    "            else : \n",
    "                all_mids_rec = mids_received_rec\n",
    "\n",
    "            #We choose some mids\n",
    "            n_mids_rec = np.minimum(np.maximum(100, round(0.25*len(all_mids_rec))), len(all_mids_rec))\n",
    "            all_mids_rec = list(np.random.choice(all_mids_rec, n_mids_rec, replace=False))\n",
    "\n",
    "            #take all body of these mids\n",
    "            bodies_rec = ' '.join(training_df_train[(training_df_train['mid']).isin(all_mids_rec)]['body'])\n",
    "            count_words_rec, n_words_rec = count_words(bodies_rec)        \n",
    "\n",
    "            # == Compute P(w|R,S) ====\n",
    "            \n",
    "            #search for all mids exchange between the sender and the recipient\n",
    "            all_mids_sender_to_rec = mids_sender_to_recipient_train[sender, rec]\n",
    "            if rec in all_senders_train: #if the rec has sent mail TO THE SENDER !s\n",
    "                try:\n",
    "                    all_mids_rec_to_sender = mids_sender_to_recipient_train[rec, sender]\n",
    "                except:\n",
    "                    pass\n",
    "                all_mids_sender_rec = list(set(all_mids_sender_to_rec + all_mids_rec_to_sender))\n",
    "            else:\n",
    "                all_mids_sender_rec = all_mids_sender_to_rec\n",
    "            \n",
    "            #take all body of these mids\n",
    "            bodies_sender_rec = ' '.join(training_df_train[(training_df_train['mid']).isin(all_mids_sender_rec)]['body'])\n",
    "            count_words_sender_rec, n_words_sender_rec = count_words(bodies_sender_rec)\n",
    "\n",
    "            # == Compute the score ====\n",
    "            \n",
    "            score = 1\n",
    "            for word in cleaned_body.split(' '):\n",
    "                score *= lmbd * count_words_sender_rec[word]/n_words_sender_rec +\\\n",
    "                gamma * count_words_rec[word]/n_words_rec +\\\n",
    "                beta * count_words_all_bodies_train[word]/n_words_all_bodies_train\n",
    "\n",
    "            score_recipients[rec] = score\n",
    "\n",
    "        sorted_score_recipients = sorted(score_recipients.items(), key=operator.itemgetter(1), reverse = True)\n",
    "        training_df_test['bayes_mail'][row] = [key for key,value in sorted_score_recipients[:k]]"
   ]
  },
  {
   "cell_type": "markdown",
   "metadata": {},
   "source": [
    "## KNN with TFIDF embeddings"
   ]
  },
  {
   "cell_type": "code",
   "execution_count": 63,
   "metadata": {
    "collapsed": false
   },
   "outputs": [
    {
     "name": "stderr",
     "output_type": "stream",
     "text": [
      "C:\\Users\\Mehdi\\Annexes\\PythonENSAE_v2\\python\\lib\\site-packages\\IPython\\kernel\\__main__.py:2: SettingWithCopyWarning: \n",
      "A value is trying to be set on a copy of a slice from a DataFrame.\n",
      "Try using .loc[row_indexer,col_indexer] = value instead\n",
      "\n",
      "See the caveats in the documentation: http://pandas.pydata.org/pandas-docs/stable/indexing.html#indexing-view-versus-copy\n",
      "  from ipykernel import kernelapp as app\n"
     ]
    }
   ],
   "source": [
    "#In this part, the mid will be an integer and not a string\n",
    "training_df_train['mid'] = training_df_train['mid'].astype(int)"
   ]
  },
  {
   "cell_type": "code",
   "execution_count": 64,
   "metadata": {
    "collapsed": true
   },
   "outputs": [],
   "source": [
    "def compute_similarity(other_mails_embedding, mail_embedding):\n",
    "    '''\n",
    "    Computes the cosine similarity between one email and others, according to an embedding\n",
    "    '''\n",
    "    similarities = cosine_similarity(other_mails_embedding, mail_embedding)\n",
    "    most_similar_ids = similarities[:,0].argsort()[::-1]\n",
    "    \n",
    "    return most_similar_ids, similarities\n",
    "\n",
    "def get_knn_mails(sender, knn, most_similar_ids, dataset_df_train, date):\n",
    "    # Get all the mids of mails sent by the sender\n",
    "    mids_per_sender = map(int, emails_ids_per_sender_train[sender])\n",
    "\n",
    "    # Get all the ids of mails sent by the sender before a particular date\n",
    "    subdataset_df_train = dataset_df_train[dataset_df_train['date'] <= date]\n",
    "    ids_per_sender_before_date = subdataset_df_train[subdataset_df_train['mid'].isin(mids_per_sender)].index.values\n",
    "    \n",
    "    # Get the most similar emails written by the sender\n",
    "    most_similar_ids_per_sender = []\n",
    "    for idx in most_similar_ids:\n",
    "        if (len(most_similar_ids_per_sender) < knn) & (idx in ids_per_sender_before_date):\n",
    "            most_similar_ids_per_sender.append(idx)\n",
    "       \n",
    "    return most_similar_ids_per_sender\n",
    "\n",
    "def predict_knn(most_similar_ids_per_sender, dataset_df_train, df_most_similar_mails, similarities, k=10):\n",
    "    score_recipients = {}\n",
    "    for idx in most_similar_ids_per_sender:\n",
    "        recipients = dataset_df_train['recipients'][idx].split() #all the recipients of the mail of index idx\n",
    "        for rec in recipients:\n",
    "            if '@' in rec: #one only consider the recipients with a @ in their name\n",
    "                if rec not in score_recipients.keys():\n",
    "                    score_recipients[rec] = similarities[idx]*df_most_similar_mails['weight_date'][idx]\n",
    "                else:\n",
    "                    score_recipients[rec] += similarities[idx]*df_most_similar_mails['weight_date'][idx]\n",
    "\n",
    "    pred_recipients = sorted(score_recipients.items(), key=operator.itemgetter(1), reverse = True)[:k]\n",
    "    return [elt for elt, value in pred_recipients]\n"
   ]
  },
  {
   "cell_type": "code",
   "execution_count": 65,
   "metadata": {
    "collapsed": true
   },
   "outputs": [],
   "source": [
    "def prediction_knn_embedding(mail_embedding, date, sender, all_mails_embedding, dataset_df_train, knn, is_weighted_date = True):\n",
    "\n",
    "    # Find the closest mails \n",
    "    most_similar_ids, similarities = compute_similarity(all_mails_embedding, mail_embedding)\n",
    "    \n",
    "    # find the closest emails (written by the sender) to the query one\n",
    "    most_similar_ids_per_sender = get_knn_mails(sender, knn, most_similar_ids, dataset_df_train, date)\n",
    "    \n",
    "    #dataframe with all the most similar emails, sorted by the date\n",
    "    df_most_similar_mails = pd.DataFrame(dataset_df_train['date'][most_similar_ids_per_sender].sort_values())\n",
    "    \n",
    "    if is_weighted_date: #a coefficient increase the weight of recent mails\n",
    "        df_most_similar_mails['weight_date'] = range(1, len(most_similar_ids_per_sender)+1)\n",
    "    else:\n",
    "        df_most_similar_mails['weight_date'] = 1\n",
    "\n",
    "    pred_recipients = predict_knn(most_similar_ids_per_sender, dataset_df_train, df_most_similar_mails, similarities)\n",
    "        \n",
    "    return pred_recipients\n"
   ]
  },
  {
   "cell_type": "code",
   "execution_count": 66,
   "metadata": {
    "collapsed": false
   },
   "outputs": [
    {
     "name": "stderr",
     "output_type": "stream",
     "text": [
      "                                                                               \r"
     ]
    }
   ],
   "source": [
    "#Prediction on test\n",
    "# Takes approximatly 4 minutes\n",
    "\n",
    "#Get the embeddings with TFIDF\n",
    "embedding_tfidf_train = tfidf.fit_transform(training_df_train['clean_body'].values)\n",
    "\n",
    "#Test phase\n",
    "training_df_test[\"pred_knn_tfidf\"] = None\n",
    "\n",
    "for row in tqdm(range(1000)):\n",
    "    body = training_df_test['clean_body'][row]\n",
    "    date = training_df_test['date'][row]\n",
    "    sender = training_df_test['sender'][row]\n",
    "    \n",
    "    mail_tfidf = tfidf.transform([body])\n",
    "    \n",
    "    training_df_test[\"pred_knn_tfidf\"][row] = prediction_knn_embedding(mail_tfidf, date, sender, embedding_tfidf_train, training_df_train, knn=80, is_weighted_date=True)"
   ]
  },
  {
   "cell_type": "code",
   "execution_count": 67,
   "metadata": {
    "collapsed": false
   },
   "outputs": [
    {
     "name": "stderr",
     "output_type": "stream",
     "text": [
      "                                                                               \r"
     ]
    }
   ],
   "source": [
    "#Score MAP@10\n",
    "#Score for each prediction with TFIDF embeddings and knn methods\n",
    "training_df_test['score_knn_tfidf'] = None\n",
    "\n",
    "for row in tqdm(range(1000)): #for each mail\n",
    "    training_df_test['score_knn_tfidf'][row] = apk(training_df_test['recipients'][row].split(' '), training_df_test['pred_knn_tfidf'][row])"
   ]
  },
  {
   "cell_type": "code",
   "execution_count": 68,
   "metadata": {
    "collapsed": false
   },
   "outputs": [
    {
     "name": "stdout",
     "output_type": "stream",
     "text": [
      "\u001b[0;30;43mThe MAP@10 score with knn with TFIDF embeddings is approximatly 0.35278.\u001b[0m\n"
     ]
    }
   ],
   "source": [
    "print('\\x1b[0;30;43m' + \n",
    "      'The MAP@10 score with knn with TFIDF embeddings is approximatly %.5f.' \n",
    "      %np.mean(training_df_test['score_knn_tfidf'][:1000]) + \n",
    "      '\\x1b[0m')"
   ]
  },
  {
   "cell_type": "markdown",
   "metadata": {},
   "source": [
    "### Choice of the best hyperparameter knn"
   ]
  },
  {
   "cell_type": "code",
   "execution_count": 70,
   "metadata": {
    "collapsed": false
   },
   "outputs": [
    {
     "name": "stdout",
     "output_type": "stream",
     "text": [
      "knn :  60 \t( 1 / 6 )\n",
      "knn :  70 \t( 2 / 6 )\n",
      "knn :  80 \t( 3 / 6 )\n",
      "knn :  90 \t( 4 / 6 )\n",
      "knn :  100 \t( 5 / 6 )\n",
      "knn :  110 \t( 6 / 6 )\n"
     ]
    }
   ],
   "source": [
    "# All these parameters will be tested\n",
    "vect_knn = np.arange(60, 120, 10)\n",
    "score_knn_tfidf = pd.DataFrame()\n",
    "\n",
    "max_size = 200\n",
    "for _, knn in enumerate(vect_knn):\n",
    "    print('knn : ', knn, '\\t(', _ +1 , '/', len(vect_knn), ')')\n",
    "    for row in range(max_size): #test on a subset\n",
    "        body = training_df_test['clean_body'][row]\n",
    "        date = training_df_test['date'][row]\n",
    "        sender = training_df_test['sender'][row]\n",
    "\n",
    "        mail_tfidf = tfidf.transform([body])\n",
    "    \n",
    "        training_df_test[\"pred_knn_tfidf\"][row] = prediction_knn_embedding(mail_tfidf, date, sender, embedding_tfidf_train, training_df_train, knn = knn, is_weighted_date = True)\n",
    "        training_df_test['score_knn_tfidf'][row] = apk(training_df_test['recipients'][row].split(' '), training_df_test['pred_knn_tfidf'][row])\n",
    "    \n",
    "    score = round(np.mean(training_df_test['score_knn_tfidf'][:max_size]),5)\n",
    "    score_knn_tfidf = score_knn_tfidf.append(pd.DataFrame({'knn' : [knn], 'score':[score]}), ignore_index = True)"
   ]
  },
  {
   "cell_type": "code",
   "execution_count": 71,
   "metadata": {
    "collapsed": false
   },
   "outputs": [
    {
     "data": {
      "text/html": [
       "<div>\n",
       "<table border=\"1\" class=\"dataframe\">\n",
       "  <thead>\n",
       "    <tr style=\"text-align: right;\">\n",
       "      <th></th>\n",
       "      <th>knn</th>\n",
       "      <th>score</th>\n",
       "    </tr>\n",
       "  </thead>\n",
       "  <tbody>\n",
       "    <tr>\n",
       "      <th>0</th>\n",
       "      <td>60</td>\n",
       "      <td>0.37184</td>\n",
       "    </tr>\n",
       "    <tr>\n",
       "      <th>1</th>\n",
       "      <td>70</td>\n",
       "      <td>0.37896</td>\n",
       "    </tr>\n",
       "    <tr>\n",
       "      <th>2</th>\n",
       "      <td>80</td>\n",
       "      <td>0.38316</td>\n",
       "    </tr>\n",
       "    <tr>\n",
       "      <th>3</th>\n",
       "      <td>90</td>\n",
       "      <td>0.37436</td>\n",
       "    </tr>\n",
       "    <tr>\n",
       "      <th>4</th>\n",
       "      <td>100</td>\n",
       "      <td>0.37427</td>\n",
       "    </tr>\n",
       "    <tr>\n",
       "      <th>5</th>\n",
       "      <td>110</td>\n",
       "      <td>0.36994</td>\n",
       "    </tr>\n",
       "  </tbody>\n",
       "</table>\n",
       "</div>"
      ],
      "text/plain": [
       "   knn    score\n",
       "0   60  0.37184\n",
       "1   70  0.37896\n",
       "2   80  0.38316\n",
       "3   90  0.37436\n",
       "4  100  0.37427\n",
       "5  110  0.36994"
      ]
     },
     "execution_count": 71,
     "metadata": {},
     "output_type": "execute_result"
    }
   ],
   "source": [
    "score_knn_tfidf"
   ]
  },
  {
   "cell_type": "code",
   "execution_count": 72,
   "metadata": {
    "collapsed": false
   },
   "outputs": [
    {
     "data": {
      "image/png": "[encoded data removed]",
      "text/plain": [
       "<matplotlib.figure.Figure at 0x1cc87e10>"
      ]
     },
     "metadata": {},
     "output_type": "display_data"
    }
   ],
   "source": [
    "figure_best_knn_tfidf = plt.figure()\n",
    "plt.plot(score_knn_tfidf.knn, score_knn_tfidf.score)\n",
    "plt.title('MAP@10 with regards to the number of nearest neighbors')\n",
    "\n",
    "figure_best_knn_tfidf.savefig(path_to_results + 'best_knn_tfidf.png')"
   ]
  },
  {
   "cell_type": "markdown",
   "metadata": {},
   "source": [
    "## KNN with Glove embeddings"
   ]
  },
  {
   "cell_type": "markdown",
   "metadata": {},
   "source": [
    "This following part is inspired from the previous part and a TP made in Deep Learning class."
   ]
  },
  {
   "cell_type": "code",
   "execution_count": 78,
   "metadata": {
    "collapsed": false
   },
   "outputs": [
    {
     "name": "stdout",
     "output_type": "stream",
     "text": [
      "extracting ../results/glove100k.100d.zip...\n"
     ]
    }
   ],
   "source": [
    "#Download the Glove data\n",
    "\n",
    "import os.path as op\n",
    "import zipfile\n",
    "try:\n",
    "    from urllib.request import urlretrieve\n",
    "except ImportError:  # Python 2 compat\n",
    "    from urllib import urlretrieve\n",
    "\n",
    "# Get pretrained Glove Word2Vec, 32Mo\n",
    "URL_REPRESENTATIONS = \"https://github.com/m2dsupsdlclass/lectures-labs/releases/download/0.3/glove100k.100d.zip\"\n",
    "ZIP_REPRESENTATIONS = \"glove100k.100d.zip\"\n",
    "FILE_REPRESENTATIONS = \"glove100K.100d.txt\"\n",
    "\n",
    "if not op.exists(path_to_results + ZIP_REPRESENTATIONS):\n",
    "    print('Downloading from %s to %s...' % (URL_REPRESENTATIONS, path_to_results + ZIP_REPRESENTATIONS))\n",
    "    urlretrieve(URL_REPRESENTATIONS, path_to_results + ZIP_REPRESENTATIONS)\n",
    "    \n",
    "if not op.exists(path_to_results + FILE_REPRESENTATIONS):\n",
    "    print(\"extracting %s...\" %(path_to_results + ZIP_REPRESENTATIONS))\n",
    "    myzip = zipfile.ZipFile(path_to_results + ZIP_REPRESENTATIONS)\n",
    "    myzip.extractall(path_to_results)"
   ]
  },
  {
   "cell_type": "code",
   "execution_count": 79,
   "metadata": {
    "collapsed": false
   },
   "outputs": [
    {
     "name": "stdout",
     "output_type": "stream",
     "text": [
      "found 100000 different words in the file\n"
     ]
    }
   ],
   "source": [
    "embeddings_index = {}\n",
    "embeddings_vectors = []\n",
    "f = open(path_to_results + 'glove100K.100d.txt', encoding='utf8')\n",
    "\n",
    "word_idx = 0\n",
    "for line in f:\n",
    "    values = line.split()\n",
    "    word = values[0]\n",
    "    vector = np.asarray(values[1:], dtype='float32')\n",
    "    embeddings_index[word] = word_idx\n",
    "    embeddings_vectors.append(vector)\n",
    "    word_idx = word_idx + 1\n",
    "f.close()\n",
    "\n",
    "inv_index = {v:k for k,v in embeddings_index.items()}\n",
    "print(\"found %d different words in the file\" % word_idx)"
   ]
  },
  {
   "cell_type": "code",
   "execution_count": 80,
   "metadata": {
    "collapsed": false
   },
   "outputs": [
    {
     "name": "stdout",
     "output_type": "stream",
     "text": [
      "(100000, 100)\n"
     ]
    }
   ],
   "source": [
    "# Stack all embeddings in a large numpy array\n",
    "glove_embeddings = np.vstack(embeddings_vectors)\n",
    "glove_embeddings_norm = glove_embeddings / np.linalg.norm(glove_embeddings, axis = -1, keepdims=True)\n",
    "print(glove_embeddings.shape)"
   ]
  },
  {
   "cell_type": "code",
   "execution_count": 81,
   "metadata": {
    "collapsed": false
   },
   "outputs": [
    {
     "data": {
      "text/plain": [
       "[('one', 0.89331493172937471),\n",
       " ('well', 0.8785990901546924),\n",
       " ('.', 0.8754558355592349),\n",
       " ('made', 0.87075033287081982),\n",
       " ('way', 0.87009467707329213),\n",
       " ('would', 0.86937656576841738),\n",
       " ('even', 0.86250095570597418),\n",
       " ('time', 0.85478175059425743),\n",
       " ('could', 0.85408966017161292),\n",
       " ('make', 0.8540104864158572)]"
      ]
     },
     "execution_count": 81,
     "metadata": {},
     "output_type": "execute_result"
    }
   ],
   "source": [
    "def get_emb(word):\n",
    "    idx = embeddings_index.get(word)\n",
    "    if idx is None:\n",
    "        return None\n",
    "    else:\n",
    "        return glove_embeddings[idx]\n",
    "\n",
    "def get_emb_sentence(sentence):\n",
    "    tokens = sentence.split()\n",
    "    vector = np.zeros(100)\n",
    "    count = 1\n",
    "    for token in tokens:\n",
    "        try:\n",
    "            vector += get_emb(token)\n",
    "            count += 1\n",
    "        except Exception as e:\n",
    "            pass\n",
    "    return vector / count\n",
    "\n",
    "def most_similar_sentence(sentence, topn=10):\n",
    "    emb = get_emb_sentence(sentence)\n",
    "    emb = emb / np.linalg.norm(emb)\n",
    "    # Large numpy vector with all cosine similarities between emb and all other words\n",
    "    cosines = np.dot(glove_embeddings_norm, emb)\n",
    "    # topn most similar indexes corresponding to cosines\n",
    "    idxs = np.argsort(cosines)[::-1]#[:topn]\n",
    "    idxs = [i for i in idxs if inv_index[i] not in all_stopwords][:topn]\n",
    "    # pretty return with word and similarity\n",
    "    return [(inv_index[idx], cosines[idx]) for idx in idxs]\n",
    "\n",
    "most_similar_sentence(\"This message is made to fire you from the company\")"
   ]
  },
  {
   "cell_type": "code",
   "execution_count": 82,
   "metadata": {
    "collapsed": false
   },
   "outputs": [
    {
     "name": "stderr",
     "output_type": "stream",
     "text": [
      "C:\\Users\\Mehdi\\Annexes\\PythonENSAE_v2\\python\\lib\\site-packages\\IPython\\kernel\\__main__.py:2: SettingWithCopyWarning: \n",
      "A value is trying to be set on a copy of a slice from a DataFrame.\n",
      "Try using .loc[row_indexer,col_indexer] = value instead\n",
      "\n",
      "See the caveats in the documentation: http://pandas.pydata.org/pandas-docs/stable/indexing.html#indexing-view-versus-copy\n",
      "  from ipykernel import kernelapp as app\n"
     ]
    }
   ],
   "source": [
    "# Get sentence vectors\n",
    "training_df_train['sentence_vec'] = training_df_train.clean_body.apply(lambda x: get_emb_sentence(x))"
   ]
  },
  {
   "cell_type": "code",
   "execution_count": 83,
   "metadata": {
    "collapsed": false
   },
   "outputs": [
    {
     "name": "stderr",
     "output_type": "stream",
     "text": [
      "                                                                               \r"
     ]
    },
    {
     "data": {
      "text/plain": [
       "(31606, 100)"
      ]
     },
     "execution_count": 83,
     "metadata": {},
     "output_type": "execute_result"
    }
   ],
   "source": [
    "# Here, we create the matrix of embeddings similar to the TFIDF matrix\n",
    "# Take 4 minutes\n",
    "embedding_glove_train = training_df_train.sentence_vec[0]\n",
    "for i in tqdm(range(len(training_df_train))):\n",
    "    embedding_glove_train = np.vstack((embedding_glove_train, training_df_train.sentence_vec[i]))\n",
    "embedding_glove_train.shape"
   ]
  },
  {
   "cell_type": "code",
   "execution_count": 84,
   "metadata": {
    "collapsed": false
   },
   "outputs": [
    {
     "name": "stderr",
     "output_type": "stream",
     "text": [
      "                                                                               \r"
     ]
    }
   ],
   "source": [
    "#Prediction on test\n",
    "# Takes approximatly 5 minutes\n",
    "training_df_test[\"pred_knn_glove\"] = None\n",
    "\n",
    "for row in tqdm(range(1000)):\n",
    "    body = training_df_test['clean_body'][row]\n",
    "    date = training_df_test['date'][row]\n",
    "    sender = training_df_test['sender'][row]\n",
    "    \n",
    "    mail_glove = get_emb_sentence(body).reshape(1, -1)\n",
    "    \n",
    "    training_df_test[\"pred_knn_glove\"][row] = prediction_knn_embedding(mail_glove, date, sender, embedding_glove_train, training_df_train, knn = 60)"
   ]
  },
  {
   "cell_type": "code",
   "execution_count": 85,
   "metadata": {
    "collapsed": false
   },
   "outputs": [
    {
     "name": "stderr",
     "output_type": "stream",
     "text": [
      "                                                                               \r"
     ]
    }
   ],
   "source": [
    "#Score MAP@10\n",
    "#Score for each prediction with Glove embeddings and knn methods\n",
    "training_df_test['score_knn_glove'] = None\n",
    "\n",
    "for row in tqdm(range(1000)): #for each mail\n",
    "    training_df_test['score_knn_glove'][row] = apk(training_df_test['recipients'][row].split(' '), training_df_test['pred_knn_glove'][row])"
   ]
  },
  {
   "cell_type": "code",
   "execution_count": 86,
   "metadata": {
    "collapsed": false
   },
   "outputs": [
    {
     "name": "stdout",
     "output_type": "stream",
     "text": [
      "\u001b[0;30;43mThe MAP@10 score with knn with Glove embeddings is approximatly 0.29792.\u001b[0m\n"
     ]
    }
   ],
   "source": [
    "print('\\x1b[0;30;43m' + \n",
    "      'The MAP@10 score with knn with Glove embeddings is approximatly %.5f.' \n",
    "      %np.mean(training_df_test['score_knn_glove'][:1000]) + \n",
    "      '\\x1b[0m')"
   ]
  },
  {
   "cell_type": "markdown",
   "metadata": {},
   "source": [
    "### Choice of the best hyperparameter knn"
   ]
  },
  {
   "cell_type": "code",
   "execution_count": 87,
   "metadata": {
    "collapsed": false
   },
   "outputs": [
    {
     "name": "stdout",
     "output_type": "stream",
     "text": [
      "knn :  40 \t( 1 / 5 )\n",
      "knn :  50 \t( 2 / 5 )\n",
      "knn :  60 \t( 3 / 5 )\n",
      "knn :  70 \t( 4 / 5 )\n",
      "knn :  80 \t( 5 / 5 )\n"
     ]
    }
   ],
   "source": [
    "# All these parameters will be tested\n",
    "vect_knn = np.arange(40, 90, 10)\n",
    "score_knn_glove = pd.DataFrame()\n",
    "\n",
    "max_size = 200\n",
    "for _, knn in enumerate(vect_knn):\n",
    "    print('knn : ', knn, '\\t(', _ +1 , '/', len(vect_knn), ')')\n",
    "    for row in range(max_size): #test on a subset\n",
    "        body = training_df_test['clean_body'][row]\n",
    "        date = training_df_test['date'][row]\n",
    "        sender = training_df_test['sender'][row]\n",
    "\n",
    "        mail_glove = get_emb_sentence(body).reshape(1, -1)\n",
    "    \n",
    "        training_df_test[\"pred_knn_glove\"][row] = prediction_knn_embedding(mail_glove, date, sender, embedding_glove_train, training_df_train, knn=knn)\n",
    "        training_df_test['score_knn_glove'][row] = apk(training_df_test['recipients'][row].split(' '), training_df_test['pred_knn_glove'][row])\n",
    "    \n",
    "    score = round(np.mean(training_df_test['score_knn_glove'][:max_size]),5)\n",
    "    score_knn_glove = score_knn_glove.append(pd.DataFrame({'knn' : [knn], 'score':[score]}), ignore_index = True)"
   ]
  },
  {
   "cell_type": "code",
   "execution_count": 88,
   "metadata": {
    "collapsed": false
   },
   "outputs": [
    {
     "data": {
      "text/html": [
       "<div>\n",
       "<table border=\"1\" class=\"dataframe\">\n",
       "  <thead>\n",
       "    <tr style=\"text-align: right;\">\n",
       "      <th></th>\n",
       "      <th>knn</th>\n",
       "      <th>score</th>\n",
       "    </tr>\n",
       "  </thead>\n",
       "  <tbody>\n",
       "    <tr>\n",
       "      <th>0</th>\n",
       "      <td>40</td>\n",
       "      <td>0.28666</td>\n",
       "    </tr>\n",
       "    <tr>\n",
       "      <th>1</th>\n",
       "      <td>50</td>\n",
       "      <td>0.27957</td>\n",
       "    </tr>\n",
       "    <tr>\n",
       "      <th>2</th>\n",
       "      <td>60</td>\n",
       "      <td>0.28631</td>\n",
       "    </tr>\n",
       "    <tr>\n",
       "      <th>3</th>\n",
       "      <td>70</td>\n",
       "      <td>0.28556</td>\n",
       "    </tr>\n",
       "    <tr>\n",
       "      <th>4</th>\n",
       "      <td>80</td>\n",
       "      <td>0.28423</td>\n",
       "    </tr>\n",
       "  </tbody>\n",
       "</table>\n",
       "</div>"
      ],
      "text/plain": [
       "   knn    score\n",
       "0   40  0.28666\n",
       "1   50  0.27957\n",
       "2   60  0.28631\n",
       "3   70  0.28556\n",
       "4   80  0.28423"
      ]
     },
     "execution_count": 88,
     "metadata": {},
     "output_type": "execute_result"
    }
   ],
   "source": [
    "score_knn_glove"
   ]
  },
  {
   "cell_type": "code",
   "execution_count": 89,
   "metadata": {
    "collapsed": false
   },
   "outputs": [
    {
     "data": {
      "text/plain": [
       "[<matplotlib.lines.Line2D at 0xac05400>]"
      ]
     },
     "execution_count": 89,
     "metadata": {},
     "output_type": "execute_result"
    },
    {
     "data": {
      "image/png": "[encoded data removed]",
      "text/plain": [
       "<matplotlib.figure.Figure at 0x1cc1f6d8>"
      ]
     },
     "metadata": {},
     "output_type": "display_data"
    }
   ],
   "source": [
    "plt.plot(score_knn_glove.knn, score_knn_glove.score)"
   ]
  },
  {
   "cell_type": "markdown",
   "metadata": {},
   "source": [
    "# Summary"
   ]
  },
  {
   "cell_type": "code",
   "execution_count": 90,
   "metadata": {
    "collapsed": false
   },
   "outputs": [
    {
     "data": {
      "image/png": "[encoded data removed]",
      "text/plain": [
       "<matplotlib.figure.Figure at 0x1cc278d0>"
      ]
     },
     "metadata": {},
     "output_type": "display_data"
    }
   ],
   "source": [
    "model_score = {'model_random' : np.mean(training_df_test['score_random']),\n",
    "               'model_random_address_book' : np.mean(training_df_test['score_random_address_book']),\n",
    "               'model_freq' : np.mean(training_df_test['score_freq']),\n",
    "               'model_weighted_freq' : np.mean(training_df_test['score_weighted_freq']),\n",
    "               'model_name_freq' : np.mean(training_df_test['score_name_freq']),\n",
    "               'model_knn_tfidf' : np.mean(training_df_test['score_knn_tfidf'][:1000]),\n",
    "               'model_knn_glove' : np.mean(training_df_test['score_knn_glove'][:1000])}\n",
    "\n",
    "figure_model_score = plt.figure(figsize=(18, 8))\n",
    "\n",
    "plt.bar(range(len(model_score)), model_score.values(), align='center')\n",
    "plt.xticks(range(len(model_score)), model_score.keys())\n",
    "\n",
    "figure_model_score.savefig(path_to_results + 'model_score.png')"
   ]
  },
  {
   "cell_type": "markdown",
   "metadata": {},
   "source": [
    "The best model is `model_knn_tfidf` : the score is around 0.35 (there is a mysterious negative biais)"
   ]
  },
  {
   "cell_type": "markdown",
   "metadata": {},
   "source": [
    "# Application on the real test dataset"
   ]
  },
  {
   "cell_type": "markdown",
   "metadata": {},
   "source": [
    "## Handy structures based on the complete training dataset"
   ]
  },
  {
   "cell_type": "code",
   "execution_count": 91,
   "metadata": {
    "collapsed": false
   },
   "outputs": [
    {
     "name": "stderr",
     "output_type": "stream",
     "text": [
      "                                                                               \r"
     ]
    }
   ],
   "source": [
    "# Construct the address book for each sender, take 3 minutes, on the complete training dataset\n",
    "address_books = get_address_books(training_info, training_set)"
   ]
  },
  {
   "cell_type": "code",
   "execution_count": 92,
   "metadata": {
    "collapsed": true
   },
   "outputs": [],
   "source": [
    "# save all unique sender names\n",
    "emails_ids_per_sender = get_mids_per_sender(training_set)\n",
    "all_senders = emails_ids_per_sender.keys()\n",
    "\n",
    "# save all unique recipient names    \n",
    "all_recs = list(set([elt[0] for sublist in address_books.values() for elt in sublist]))\n",
    "\n",
    "# save all unique user names \n",
    "all_users = []\n",
    "all_users.extend(all_senders)\n",
    "all_users.extend(all_recs)\n",
    "all_users = list(set(all_users))"
   ]
  },
  {
   "cell_type": "code",
   "execution_count": 93,
   "metadata": {
    "collapsed": false
   },
   "outputs": [
    {
     "name": "stderr",
     "output_type": "stream",
     "text": [
      "                                                                               \r"
     ]
    }
   ],
   "source": [
    "# Takes 3 minutes\n",
    "mids_sender_to_recipient = get_mids_sender_to_recipient(address_books, training_df)"
   ]
  },
  {
   "cell_type": "code",
   "execution_count": 94,
   "metadata": {
    "collapsed": false
   },
   "outputs": [
    {
     "name": "stderr",
     "output_type": "stream",
     "text": [
      "                                                                               \r"
     ]
    }
   ],
   "source": [
    "#Mails received by user\n",
    "mids_received_by_user = get_mids_received_by_user(training_df)"
   ]
  },
  {
   "cell_type": "code",
   "execution_count": 95,
   "metadata": {
    "collapsed": false
   },
   "outputs": [
    {
     "data": {
      "text/html": [
       "<div>\n",
       "<table border=\"1\" class=\"dataframe\">\n",
       "  <thead>\n",
       "    <tr style=\"text-align: right;\">\n",
       "      <th></th>\n",
       "      <th>mid</th>\n",
       "      <th>sender</th>\n",
       "      <th>date</th>\n",
       "      <th>body</th>\n",
       "      <th>body_rt</th>\n",
       "      <th>body_rf</th>\n",
       "      <th>clean_body</th>\n",
       "    </tr>\n",
       "  </thead>\n",
       "  <tbody>\n",
       "    <tr>\n",
       "      <th>0</th>\n",
       "      <td>284098</td>\n",
       "      <td>jonathan.mckay@enron.com</td>\n",
       "      <td>2001-11-02 05:25:29</td>\n",
       "      <td>How is everyone.....mother, child.........fath...</td>\n",
       "      <td>How is everyone.....mother, child.........fath...</td>\n",
       "      <td>How is everyone.....mother, child.........fath...</td>\n",
       "      <td>everyone mother child father hope everything w...</td>\n",
       "    </tr>\n",
       "    <tr>\n",
       "      <th>1</th>\n",
       "      <td>272008</td>\n",
       "      <td>dutch.quigley@enron.com</td>\n",
       "      <td>2001-11-02 05:34:55</td>\n",
       "      <td>-----Original Message-----From: \\tWesner-Soon...</td>\n",
       "      <td>-----Original Message-----From:  Wesner-Soong...</td>\n",
       "      <td>-----Original Message----- FW: Contracts that...</td>\n",
       "      <td>original message fw contracts need xpitted out...</td>\n",
       "    </tr>\n",
       "    <tr>\n",
       "      <th>2</th>\n",
       "      <td>49273</td>\n",
       "      <td>james.d.steffes@enron.com</td>\n",
       "      <td>2001-11-02 05:57:55</td>\n",
       "      <td>Janine -Ok for you to cover the whole country....</td>\n",
       "      <td>Janine -Ok for you to cover the whole country....</td>\n",
       "      <td>Janine -Ok for you to cover the whole country....</td>\n",
       "      <td>janine ok cover whole country forgotten discus...</td>\n",
       "    </tr>\n",
       "    <tr>\n",
       "      <th>3</th>\n",
       "      <td>71901</td>\n",
       "      <td>kim.ward@enron.com</td>\n",
       "      <td>2001-11-02 06:10:47</td>\n",
       "      <td>when?</td>\n",
       "      <td>when?</td>\n",
       "      <td>when?</td>\n",
       "      <td>NaN</td>\n",
       "    </tr>\n",
       "    <tr>\n",
       "      <th>4</th>\n",
       "      <td>82354</td>\n",
       "      <td>barry.tycholiz@enron.com</td>\n",
       "      <td>2001-11-02 06:17:44</td>\n",
       "      <td>WOW.... I am positive that your beautiful wife...</td>\n",
       "      <td>WOW.... I am positive that your beautiful wife...</td>\n",
       "      <td>WOW.... I am positive that your beautiful wife...</td>\n",
       "      <td>wow positive beautiful wife sign hauling three...</td>\n",
       "    </tr>\n",
       "  </tbody>\n",
       "</table>\n",
       "</div>"
      ],
      "text/plain": [
       "      mid                     sender                 date  \\\n",
       "0  284098   jonathan.mckay@enron.com  2001-11-02 05:25:29   \n",
       "1  272008    dutch.quigley@enron.com  2001-11-02 05:34:55   \n",
       "2   49273  james.d.steffes@enron.com  2001-11-02 05:57:55   \n",
       "3   71901         kim.ward@enron.com  2001-11-02 06:10:47   \n",
       "4   82354   barry.tycholiz@enron.com  2001-11-02 06:17:44   \n",
       "\n",
       "                                                body  \\\n",
       "0  How is everyone.....mother, child.........fath...   \n",
       "1   -----Original Message-----From: \\tWesner-Soon...   \n",
       "2  Janine -Ok for you to cover the whole country....   \n",
       "3                                              when?   \n",
       "4  WOW.... I am positive that your beautiful wife...   \n",
       "\n",
       "                                             body_rt  \\\n",
       "0  How is everyone.....mother, child.........fath...   \n",
       "1   -----Original Message-----From:  Wesner-Soong...   \n",
       "2  Janine -Ok for you to cover the whole country....   \n",
       "3                                              when?   \n",
       "4  WOW.... I am positive that your beautiful wife...   \n",
       "\n",
       "                                             body_rf  \\\n",
       "0  How is everyone.....mother, child.........fath...   \n",
       "1   -----Original Message----- FW: Contracts that...   \n",
       "2  Janine -Ok for you to cover the whole country....   \n",
       "3                                              when?   \n",
       "4  WOW.... I am positive that your beautiful wife...   \n",
       "\n",
       "                                          clean_body  \n",
       "0  everyone mother child father hope everything w...  \n",
       "1  original message fw contracts need xpitted out...  \n",
       "2  janine ok cover whole country forgotten discus...  \n",
       "3                                                NaN  \n",
       "4  wow positive beautiful wife sign hauling three...  "
      ]
     },
     "execution_count": 95,
     "metadata": {},
     "output_type": "execute_result"
    }
   ],
   "source": [
    "test_df.head()"
   ]
  },
  {
   "cell_type": "markdown",
   "metadata": {},
   "source": [
    "## Most frequent recipients"
   ]
  },
  {
   "cell_type": "code",
   "execution_count": 96,
   "metadata": {
    "collapsed": true
   },
   "outputs": [],
   "source": [
    "#Make some predictions on the real test dataset\n",
    "predictions_frequency = predictions_frequency_per_sender(training_set, address_books)\n",
    "\n",
    "#Fill the dataframe\n",
    "test_df['pred_freq'] = None\n",
    "for row in range(test_df.shape[0]): #for each mail\n",
    "    sender = test_df['sender'][row]\n",
    "\n",
    "    #random prediction\n",
    "    test_df['pred_freq'][row] = predictions_frequency[sender]    "
   ]
  },
  {
   "cell_type": "markdown",
   "metadata": {},
   "source": [
    "## KNN with TFIDF embeddings"
   ]
  },
  {
   "cell_type": "code",
   "execution_count": 97,
   "metadata": {
    "collapsed": true
   },
   "outputs": [],
   "source": [
    "#In this part, the mid will be an integer and not a string\n",
    "training_df['mid'] = training_df['mid'].astype(int)"
   ]
  },
  {
   "cell_type": "code",
   "execution_count": 98,
   "metadata": {
    "collapsed": true
   },
   "outputs": [],
   "source": [
    "# Embedding with TFIDF\n",
    "all_mails_tfidf = tfidf.fit_transform(training_df['clean_body'].values)"
   ]
  },
  {
   "cell_type": "code",
   "execution_count": 99,
   "metadata": {
    "collapsed": false
   },
   "outputs": [
    {
     "name": "stderr",
     "output_type": "stream",
     "text": [
      "                                                                               \r"
     ]
    }
   ],
   "source": [
    "#Prediction on test\n",
    "test_df[\"pred_knn_tfidf\"] = None\n",
    "\n",
    "for row in tqdm(range(test_df.shape[0])):\n",
    "    try: #if the body is not empty due to cleaning\n",
    "        body = test_df['clean_body'][row]\n",
    "        date = test_df['date'][row]\n",
    "        sender = test_df['sender'][row]\n",
    "\n",
    "        mail_tfidf = tfidf.transform([body])\n",
    "\n",
    "        test_df[\"pred_knn_tfidf\"][row] = prediction_knn_embedding(mail_tfidf, date, sender, all_mails_tfidf, training_df, knn=80, is_weighted_date=True)\n",
    "    except: #when the text is empty, one uses the frequency based model\n",
    "        test_df[\"pred_knn_tfidf\"][row] = predictions_frequency[sender]   "
   ]
  },
  {
   "cell_type": "markdown",
   "metadata": {},
   "source": [
    "## KNN with Glove embeddings"
   ]
  },
  {
   "cell_type": "code",
   "execution_count": 100,
   "metadata": {
    "collapsed": false
   },
   "outputs": [
    {
     "name": "stderr",
     "output_type": "stream",
     "text": [
      "                                                                               \r"
     ]
    }
   ],
   "source": [
    "# Get sentence vectors\n",
    "training_df['sentence_vec'] = training_df.clean_body.apply(lambda x: get_emb_sentence(x))\n",
    "\n",
    "#Get the matrix of embeddings \n",
    "all_mails_glove = training_df.sentence_vec[0]\n",
    "for i in tqdm(range(len(training_df))):\n",
    "    all_mails_glove = np.vstack((all_mails_glove, training_df.sentence_vec[i])) "
   ]
  },
  {
   "cell_type": "code",
   "execution_count": 101,
   "metadata": {
    "collapsed": false
   },
   "outputs": [
    {
     "name": "stderr",
     "output_type": "stream",
     "text": [
      "                                                                               \r"
     ]
    }
   ],
   "source": [
    "#Prediction on the real test\n",
    "test_df[\"pred_knn_glove\"] = None\n",
    "\n",
    "for row in tqdm(range(test_df.shape[0])):\n",
    "    try: #if the body is not empty due to cleaning\n",
    "        body = test_df['clean_body'][row]\n",
    "        date = test_df['date'][row]\n",
    "        sender = test_df['sender'][row]\n",
    "\n",
    "        mail_glove = get_emb_sentence(body).reshape(1, -1)\n",
    "\n",
    "        test_df[\"pred_knn_glove\"][row] = prediction_knn_embedding(mail_glove, date, sender, embedding_glove, training_df, knn = 60)  \n",
    "    except: #when the text is empty, one uses the frequency based model\n",
    "        test_df[\"pred_knn_glove\"][row] = predictions_frequency[sender] "
   ]
  },
  {
   "cell_type": "markdown",
   "metadata": {},
   "source": [
    "# Write "
   ]
  },
  {
   "cell_type": "code",
   "execution_count": 102,
   "metadata": {
    "collapsed": false
   },
   "outputs": [],
   "source": [
    "#Write the prediction in a txt file\n",
    "\n",
    "name = 'pred_knn_tfidf' #'pred_freq', 'pred_knn_tfidf', 'pred_knn_glove'\n",
    "\n",
    "with open(path_to_results + name + '.txt', 'wb') as my_file:\n",
    "    my_file.write(bytes('mid,recipients' + '\\n', 'UTF-8'))\n",
    "    for row in range(test_df.shape[0]):\n",
    "        mid = test_df['mid'][row]\n",
    "        preds = test_df[name][row]\n",
    "        my_file.write(bytes(str(mid) + ',' + ' '.join(preds) + '\\n', 'UTF-8'))"
   ]
  },
  {
   "cell_type": "code",
   "execution_count": 103,
   "metadata": {
    "collapsed": false
   },
   "outputs": [
    {
     "data": {
      "text/plain": [
       "True"
      ]
     },
     "execution_count": 103,
     "metadata": {},
     "output_type": "execute_result"
    }
   ],
   "source": [
    "#Test on the size\n",
    "test_df_written = pd.read_csv(path_to_results + name + '.txt')\n",
    "test_df_written.shape[0] == test_df.shape[0]"
   ]
  },
  {
   "cell_type": "code",
   "execution_count": null,
   "metadata": {
    "collapsed": true
   },
   "outputs": [],
   "source": []
  }
 ],
 "metadata": {
  "kernelspec": {
   "display_name": "Python 3 (ENSAE)",
   "language": "python",
   "name": "python_3_ensae"
  },
  "language_info": {
   "codemirror_mode": {
    "name": "ipython",
    "version": 3
   },
   "file_extension": ".py",
   "mimetype": "text/x-python",
   "name": "python",
   "nbconvert_exporter": "python",
   "pygments_lexer": "ipython3",
   "version": "3.4.3"
  }
 },
 "nbformat": 4,
 "nbformat_minor": 2
}
